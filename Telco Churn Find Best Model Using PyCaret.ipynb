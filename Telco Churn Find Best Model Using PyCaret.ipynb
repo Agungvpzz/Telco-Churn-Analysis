{
 "cells": [
  {
   "cell_type": "code",
   "execution_count": 1,
   "id": "0805676a",
   "metadata": {
    "ExecuteTime": {
     "end_time": "2024-06-23T14:16:00.024365Z",
     "start_time": "2024-06-23T14:15:54.918203Z"
    },
    "deletable": false,
    "editable": false
   },
   "outputs": [],
   "source": [
    "import pandas as pd\n",
    "from sklearn.metrics import confusion_matrix, classification_report, auc, roc_auc_score, roc_curve, accuracy_score\n",
    "from sklearn.model_selection import train_test_split\n",
    "from pycaret.classification import *"
   ]
  },
  {
   "cell_type": "code",
   "execution_count": 2,
   "id": "8323884b",
   "metadata": {
    "ExecuteTime": {
     "end_time": "2024-06-23T14:17:00.991998Z",
     "start_time": "2024-06-23T14:17:00.983977Z"
    },
    "deletable": false,
    "editable": false
   },
   "outputs": [],
   "source": [
    "RANDOM_SEED = 123"
   ]
  },
  {
   "cell_type": "code",
   "execution_count": 3,
   "id": "d24dbe32",
   "metadata": {
    "ExecuteTime": {
     "end_time": "2024-06-23T14:17:01.590301Z",
     "start_time": "2024-06-23T14:17:01.532767Z"
    },
    "deletable": false,
    "editable": false
   },
   "outputs": [],
   "source": [
    "df = pd.read_csv(\"F:/Data/datas/WA_Fn-UseC_-Telco-Customer-Churn.csv\", index_col=0)\n",
    "df['Churn'] = df['Churn'].map({'Yes': 1, 'No': 0})"
   ]
  },
  {
   "cell_type": "markdown",
   "id": "28e580b0",
   "metadata": {
    "deletable": false,
    "editable": false,
    "run_control": {
     "frozen": true
    }
   },
   "source": [
    "**Fix Data Error**\n",
    "- 0 tenure value causes the blank value in the total charges column and makes that column detected automatically as object data type\n",
    "- We replace the blank string values with 0.0 float number"
   ]
  },
  {
   "cell_type": "code",
   "execution_count": 5,
   "id": "d62f9286",
   "metadata": {
    "ExecuteTime": {
     "end_time": "2024-06-23T14:17:05.097925Z",
     "start_time": "2024-06-23T14:17:05.081111Z"
    },
    "deletable": false,
    "editable": false
   },
   "outputs": [
    {
     "name": "stdout",
     "output_type": "stream",
     "text": [
      "Missing Values: 0\n"
     ]
    }
   ],
   "source": [
    "# Fix data type error\n",
    "df.loc[df['tenure'] == 0, 'TotalCharges'] = 0.0\n",
    "df['TotalCharges'] = pd.to_numeric(df['TotalCharges'], errors='coerce')\n",
    "print(\"Missing Values:\", df['TotalCharges'].isna().sum())"
   ]
  },
  {
   "cell_type": "markdown",
   "id": "b6d1a488",
   "metadata": {
    "deletable": false,
    "editable": false
   },
   "source": [
    "- We do split our data into train data and test data to prevent data leakage to test our model (even though the PyCaret itself already handles this data train-test split automatically to prevent the data leakage issue)\n",
    "- We also use the original data frame because the PyCaret will handle the all data-processed steps"
   ]
  },
  {
   "cell_type": "code",
   "execution_count": 6,
   "id": "28367e86",
   "metadata": {
    "ExecuteTime": {
     "end_time": "2024-06-23T14:17:17.425793Z",
     "start_time": "2024-06-23T14:17:17.412136Z"
    },
    "code_folding": [
     0
    ],
    "deletable": false,
    "editable": false
   },
   "outputs": [],
   "source": [
    "def replace_outliers_by_group(df, columns, col_group):\n",
    "    df = df.copy()\n",
    "    groups = df[col_group].unique()\n",
    "    \n",
    "    for col in columns:\n",
    "        df[col] = df[col].astype(float)\n",
    "    \n",
    "    for group in groups:\n",
    "        datas = df[df[col_group] == group]\n",
    "        for col in columns:\n",
    "            data = datas[col]\n",
    "            Q1 = data.quantile(0.25)\n",
    "            Q3 = data.quantile(0.75)\n",
    "            IQR = Q3-Q1\n",
    "\n",
    "            top_cap = Q3 + (IQR * 1.5)\n",
    "            bottom_cap = Q1 - (IQR * 1.5)\n",
    "\n",
    "            if data.max() > top_cap:                \n",
    "                idx_above_cap = data[data > top_cap].index\n",
    "                print(f\"above top cap ({col} | {group}):\", len(idx_above_cap))\n",
    "                df.loc[idx_above_cap, col] = top_cap\n",
    "            if df[col].min() < bottom_cap:\n",
    "                idx_below_cap = data[data < bottom_cap].index\n",
    "                print(f\"below bottom cap ({col}):\", len(idx_below_cap))\n",
    "                df.loc[idx_below_cap, col] = idx_below_cap\n",
    "                \n",
    "    return df"
   ]
  },
  {
   "cell_type": "markdown",
   "id": "dc436684",
   "metadata": {
    "ExecuteTime": {
     "end_time": "2024-06-20T14:18:37.847832Z",
     "start_time": "2024-06-20T14:18:37.837810Z"
    },
    "deletable": false,
    "editable": false,
    "heading_collapsed": true,
    "run_control": {
     "frozen": true
    }
   },
   "source": [
    "### Base Experiment"
   ]
  },
  {
   "cell_type": "code",
   "execution_count": null,
   "id": "20c5b98c",
   "metadata": {
    "ExecuteTime": {
     "end_time": "2024-06-23T09:40:25.168083Z",
     "start_time": "2024-06-23T09:40:25.154129Z"
    },
    "deletable": false,
    "editable": false,
    "hidden": true
   },
   "outputs": [],
   "source": [
    "data, data_unseen = train_test_split(df, test_size=0.1, random_state=123)"
   ]
  },
  {
   "cell_type": "code",
   "execution_count": null,
   "id": "3fa35e57",
   "metadata": {
    "ExecuteTime": {
     "end_time": "2024-06-23T09:40:27.614137Z",
     "start_time": "2024-06-23T09:40:25.840152Z"
    },
    "code_folding": [
     0
    ],
    "deletable": false,
    "editable": false,
    "hidden": true
   },
   "outputs": [],
   "source": [
    "exp_base = setup(\n",
    "    data=data,\n",
    "    target='Churn',\n",
    "    session_id=RANDOM_SEED,    \n",
    "    train_size=0.7,\n",
    "    normalize=False,   \n",
    "    transformation=False,    \n",
    "    fix_imbalance=False,    \n",
    "    fold_strategy='stratifiedkfold',\n",
    "    fold=5,\n",
    "    data_split_stratify=True,\n",
    ")"
   ]
  },
  {
   "cell_type": "code",
   "execution_count": null,
   "id": "552fa340",
   "metadata": {
    "ExecuteTime": {
     "end_time": "2024-06-23T10:10:12.177055Z",
     "start_time": "2024-06-23T10:10:11.778049Z"
    },
    "deletable": false,
    "editable": false,
    "hidden": true
   },
   "outputs": [],
   "source": [
    "data_unseen = exp_base.pipeline.transform(data_unseen)\n",
    "X_test = data_unseen.drop(['Churn'], axis=1)\n",
    "y_test = data_unseen['Churn']"
   ]
  },
  {
   "cell_type": "code",
   "execution_count": null,
   "id": "bc7178a2",
   "metadata": {
    "ExecuteTime": {
     "end_time": "2024-06-23T10:11:08.019857Z",
     "start_time": "2024-06-23T10:10:14.884401Z"
    },
    "deletable": false,
    "editable": false,
    "hidden": true
   },
   "outputs": [],
   "source": [
    "best_model = compare_models(budget_time=1)"
   ]
  },
  {
   "cell_type": "code",
   "execution_count": null,
   "id": "d83fae06",
   "metadata": {
    "ExecuteTime": {
     "end_time": "2024-06-23T10:11:48.448584Z",
     "start_time": "2024-06-23T10:11:16.772667Z"
    },
    "deletable": false,
    "editable": false,
    "hidden": true
   },
   "outputs": [],
   "source": [
    "model_lr = create_model('lr')\n",
    "model_lr = tune_model(model_lr, optimize='AUC', n_iter=10)"
   ]
  },
  {
   "cell_type": "code",
   "execution_count": null,
   "id": "c23ce1d2",
   "metadata": {
    "ExecuteTime": {
     "end_time": "2024-06-23T10:11:49.037996Z",
     "start_time": "2024-06-23T10:11:48.562289Z"
    },
    "deletable": false,
    "editable": false,
    "hidden": true
   },
   "outputs": [],
   "source": [
    "y_pred_lr = model_lr.predict(get_config(\"X_test_transformed\"))\n",
    "y_pred_lr_proba = model_lr.predict_proba(get_config(\"X_test_transformed\"))\n",
    "\n",
    "print(\"Accuracy:\", model_lr.score(get_config(\"X_test_transformed\"), get_config(\"y_test_transformed\")))\n",
    "print(\"roc-auc:\", roc_auc_score(get_config(\"y_test_transformed\"), y_pred_lr_proba[:, 1]))\n",
    "print(classification_report(get_config(\"y_test_transformed\"), y_pred_lr))"
   ]
  },
  {
   "cell_type": "code",
   "execution_count": null,
   "id": "de94ddde",
   "metadata": {
    "ExecuteTime": {
     "end_time": "2024-06-23T10:13:35.567095Z",
     "start_time": "2024-06-23T10:13:35.523931Z"
    },
    "deletable": false,
    "editable": false,
    "hidden": true
   },
   "outputs": [],
   "source": [
    "y_pred_lr = model_lr.predict(X_test)\n",
    "y_pred_lr_proba = model_lr.predict_proba(X_test)\n",
    "\n",
    "print(\"Accuracy:\", model_lr.score(X_test, y_test))\n",
    "print(\"roc-auc:\", roc_auc_score(y_test, y_pred_lr_proba[:, 1]))\n",
    "print(classification_report(y_test, y_pred_lr))"
   ]
  },
  {
   "cell_type": "markdown",
   "id": "ab8a1fb5",
   "metadata": {
    "ExecuteTime": {
     "end_time": "2024-06-20T14:19:22.369781Z",
     "start_time": "2024-06-20T14:19:22.363491Z"
    },
    "deletable": false,
    "editable": false,
    "heading_collapsed": true,
    "run_control": {
     "frozen": true
    }
   },
   "source": [
    "### Experiment 1"
   ]
  },
  {
   "cell_type": "code",
   "execution_count": null,
   "id": "05338361",
   "metadata": {
    "ExecuteTime": {
     "end_time": "2024-06-23T10:13:44.642843Z",
     "start_time": "2024-06-23T10:13:44.619904Z"
    },
    "deletable": false,
    "editable": false,
    "hidden": true
   },
   "outputs": [],
   "source": [
    "data, data_unseen = train_test_split(df, test_size=0.1, random_state=123)"
   ]
  },
  {
   "cell_type": "code",
   "execution_count": null,
   "id": "c19a4bee",
   "metadata": {
    "ExecuteTime": {
     "end_time": "2024-06-23T10:13:47.182987Z",
     "start_time": "2024-06-23T10:13:45.330700Z"
    },
    "deletable": false,
    "editable": false,
    "hidden": true
   },
   "outputs": [],
   "source": [
    "exp_01 = setup(\n",
    "    data=data,\n",
    "    target='Churn',\n",
    "    session_id=RANDOM_SEED,\n",
    "    remove_outliers=True,\n",
    "    outliers_method='iforest',\n",
    "    outliers_threshold=0.05,\n",
    "    train_size=0.7,\n",
    "    normalize=True,\n",
    "    normalize_method='zscore',\n",
    "    transformation=True,\n",
    "    transformation_method='yeo-johnson',\n",
    "    fix_imbalance=True,\n",
    "    fix_imbalance_method='SMOTE',\n",
    "    fold_strategy='stratifiedkfold',\n",
    "    fold=5,\n",
    "    data_split_stratify=True,\n",
    ")"
   ]
  },
  {
   "cell_type": "code",
   "execution_count": null,
   "id": "095ea175",
   "metadata": {
    "ExecuteTime": {
     "end_time": "2024-06-23T10:13:50.230708Z",
     "start_time": "2024-06-23T10:13:50.103226Z"
    },
    "deletable": false,
    "editable": false,
    "hidden": true
   },
   "outputs": [],
   "source": [
    "data_unseen = exp_01.pipeline.transform(data_unseen)\n",
    "X_test = data_unseen.drop(['Churn'], axis=1)\n",
    "y_test = data_unseen['Churn']"
   ]
  },
  {
   "cell_type": "code",
   "execution_count": null,
   "id": "be19675a",
   "metadata": {
    "ExecuteTime": {
     "end_time": "2024-06-23T10:15:38.466522Z",
     "start_time": "2024-06-23T10:13:51.917643Z"
    },
    "deletable": false,
    "editable": false,
    "hidden": true
   },
   "outputs": [],
   "source": [
    "best_model = compare_models(budget_time=1)"
   ]
  },
  {
   "cell_type": "code",
   "execution_count": null,
   "id": "12e58e63",
   "metadata": {
    "ExecuteTime": {
     "end_time": "2024-06-23T10:16:21.813782Z",
     "start_time": "2024-06-23T10:15:47.444228Z"
    },
    "deletable": false,
    "editable": false,
    "hidden": true
   },
   "outputs": [],
   "source": [
    "model_lr = create_model('lr')\n",
    "model_lr = tune_model(model_lr, optimize='AUC', n_iter=10)"
   ]
  },
  {
   "cell_type": "code",
   "execution_count": null,
   "id": "e4d07d12",
   "metadata": {
    "ExecuteTime": {
     "end_time": "2024-06-23T10:17:21.904654Z",
     "start_time": "2024-06-23T10:17:21.518751Z"
    },
    "deletable": false,
    "editable": false,
    "hidden": true
   },
   "outputs": [],
   "source": [
    "y_pred_lr = model_lr.predict(get_config(\"X_test_transformed\"))\n",
    "y_pred_lr_proba = model_lr.predict_proba(get_config(\"X_test_transformed\"))\n",
    "\n",
    "print(\"Accuracy:\", model_lr.score(get_config(\"X_test_transformed\"), get_config(\"y_test_transformed\")))\n",
    "print(\"roc-auc:\", roc_auc_score(get_config(\"y_test_transformed\"), y_pred_lr_proba[:, 1]))\n",
    "print(classification_report(get_config(\"y_test_transformed\"), y_pred_lr))"
   ]
  },
  {
   "cell_type": "code",
   "execution_count": null,
   "id": "7f80501b",
   "metadata": {
    "ExecuteTime": {
     "end_time": "2024-06-23T10:17:23.148856Z",
     "start_time": "2024-06-23T10:17:23.106941Z"
    },
    "deletable": false,
    "editable": false,
    "hidden": true
   },
   "outputs": [],
   "source": [
    "y_pred_lr = model_lr.predict(X_test)\n",
    "y_pred_lr_proba = model_lr.predict_proba(X_test)\n",
    "\n",
    "print(\"Accuracy:\", model_lr.score(X_test, y_test))\n",
    "print(\"roc-auc:\", roc_auc_score(y_test, y_pred_lr_proba[:, 1]))\n",
    "print(classification_report(y_test, y_pred_lr))"
   ]
  },
  {
   "cell_type": "markdown",
   "id": "7f68df0e",
   "metadata": {
    "ExecuteTime": {
     "end_time": "2024-06-20T14:21:40.058907Z",
     "start_time": "2024-06-20T14:21:40.043945Z"
    },
    "deletable": false,
    "editable": false,
    "heading_collapsed": true,
    "run_control": {
     "frozen": true
    }
   },
   "source": [
    "### Experiment 2"
   ]
  },
  {
   "cell_type": "code",
   "execution_count": null,
   "id": "a758fec0",
   "metadata": {
    "ExecuteTime": {
     "end_time": "2024-06-23T10:17:43.197702Z",
     "start_time": "2024-06-23T10:17:43.174993Z"
    },
    "deletable": false,
    "editable": false,
    "hidden": true
   },
   "outputs": [],
   "source": [
    "data, data_unseen = train_test_split(df, test_size=0.1, random_state=123)"
   ]
  },
  {
   "cell_type": "code",
   "execution_count": null,
   "id": "730a02ea",
   "metadata": {
    "ExecuteTime": {
     "end_time": "2024-06-23T10:17:46.516140Z",
     "start_time": "2024-06-23T10:17:43.685045Z"
    },
    "code_folding": [],
    "deletable": false,
    "editable": false,
    "hidden": true
   },
   "outputs": [],
   "source": [
    "exp_02 = setup(\n",
    "    data=data,\n",
    "    target='Churn',\n",
    "    session_id=RANDOM_SEED,\n",
    "    remove_outliers=True,\n",
    "    outliers_method='iforest',\n",
    "    outliers_threshold=0.05,\n",
    "    train_size=0.7,\n",
    "    normalize=True,\n",
    "    normalize_method='zscore',\n",
    "    transformation=True,\n",
    "    transformation_method='yeo-johnson',\n",
    "    fix_imbalance=True,\n",
    "    fix_imbalance_method='SMOTE',\n",
    "    fold_strategy='stratifiedkfold',\n",
    "    fold=5,\n",
    "    remove_multicollinearity=True,\n",
    "    data_split_stratify=True,    \n",
    "    pca=True,\n",
    ")"
   ]
  },
  {
   "cell_type": "code",
   "execution_count": null,
   "id": "71abf3ab",
   "metadata": {
    "ExecuteTime": {
     "end_time": "2024-06-23T10:17:48.616965Z",
     "start_time": "2024-06-23T10:17:48.428645Z"
    },
    "deletable": false,
    "editable": false,
    "hidden": true
   },
   "outputs": [],
   "source": [
    "data_unseen = exp_02.pipeline.transform(data_unseen)\n",
    "X_test = data_unseen.drop(['Churn'], axis=1)\n",
    "y_test = data_unseen['Churn']"
   ]
  },
  {
   "cell_type": "code",
   "execution_count": null,
   "id": "b717f0cf",
   "metadata": {
    "ExecuteTime": {
     "end_time": "2024-06-23T10:18:54.858412Z",
     "start_time": "2024-06-23T10:17:49.754582Z"
    },
    "deletable": false,
    "editable": false,
    "hidden": true
   },
   "outputs": [],
   "source": [
    "best_model = compare_models(budget_time=1)"
   ]
  },
  {
   "cell_type": "code",
   "execution_count": null,
   "id": "45d64156",
   "metadata": {
    "ExecuteTime": {
     "end_time": "2024-06-23T10:20:06.117103Z",
     "start_time": "2024-06-23T10:19:03.075120Z"
    },
    "deletable": false,
    "editable": false,
    "hidden": true
   },
   "outputs": [],
   "source": [
    "model_lr = create_model('lr')\n",
    "model_lr = tune_model(model_lr, optimize='AUC', n_iter=10)"
   ]
  },
  {
   "cell_type": "code",
   "execution_count": null,
   "id": "58ff9233",
   "metadata": {
    "ExecuteTime": {
     "end_time": "2024-06-23T10:20:22.757792Z",
     "start_time": "2024-06-23T10:20:22.390085Z"
    },
    "deletable": false,
    "editable": false,
    "hidden": true
   },
   "outputs": [],
   "source": [
    "y_pred_lr = model_lr.predict(get_config(\"X_test_transformed\"))\n",
    "y_pred_lr_proba = model_lr.predict_proba(get_config(\"X_test_transformed\"))\n",
    "\n",
    "print(\"Accuracy:\", model_lr.score(get_config(\"X_test_transformed\"), get_config(\"y_test_transformed\")))\n",
    "print(\"roc-auc:\", roc_auc_score(get_config(\"y_test_transformed\"), y_pred_lr_proba[:, 1]))\n",
    "print(classification_report(get_config(\"y_test_transformed\"), y_pred_lr))"
   ]
  },
  {
   "cell_type": "code",
   "execution_count": null,
   "id": "c73e47b0",
   "metadata": {
    "ExecuteTime": {
     "end_time": "2024-06-23T10:20:24.213898Z",
     "start_time": "2024-06-23T10:20:24.180328Z"
    },
    "deletable": false,
    "editable": false,
    "hidden": true
   },
   "outputs": [],
   "source": [
    "y_pred_lr = model_lr.predict(X_test)\n",
    "y_pred_lr_proba = model_lr.predict_proba(X_test)\n",
    "\n",
    "print(\"Accuracy:\", model_lr.score(X_test, y_test))\n",
    "print(\"roc-auc:\", roc_auc_score(y_test, y_pred_lr_proba[:, 1]))\n",
    "print(classification_report(y_test, y_pred_lr))"
   ]
  },
  {
   "cell_type": "markdown",
   "id": "00451ed6",
   "metadata": {
    "ExecuteTime": {
     "end_time": "2024-06-23T04:44:47.944524Z",
     "start_time": "2024-06-23T04:44:47.933396Z"
    },
    "deletable": false,
    "editable": false,
    "heading_collapsed": true,
    "run_control": {
     "frozen": true
    }
   },
   "source": [
    "### Custom Experiment (Best Model)"
   ]
  },
  {
   "cell_type": "code",
   "execution_count": 7,
   "id": "93da6176",
   "metadata": {
    "ExecuteTime": {
     "end_time": "2024-06-23T14:17:18.009890Z",
     "start_time": "2024-06-23T14:17:17.974629Z"
    },
    "deletable": false,
    "editable": false,
    "hidden": true
   },
   "outputs": [
    {
     "name": "stdout",
     "output_type": "stream",
     "text": [
      "above top cap (tenure | 1): 23\n",
      "above top cap (TotalCharges | 1): 109\n"
     ]
    }
   ],
   "source": [
    "df_processed = replace_outliers_by_group(df, ['tenure', 'TotalCharges', 'MonthlyCharges'], 'Churn')"
   ]
  },
  {
   "cell_type": "code",
   "execution_count": 8,
   "id": "401f9761",
   "metadata": {
    "ExecuteTime": {
     "end_time": "2024-06-23T14:17:19.110206Z",
     "start_time": "2024-06-23T14:17:19.099004Z"
    },
    "deletable": false,
    "editable": false,
    "hidden": true
   },
   "outputs": [],
   "source": [
    "data, data_unseen = train_test_split(df_processed, test_size=0.1, random_state=123)"
   ]
  },
  {
   "cell_type": "code",
   "execution_count": 9,
   "id": "4994da56",
   "metadata": {
    "ExecuteTime": {
     "end_time": "2024-06-23T14:17:21.945727Z",
     "start_time": "2024-06-23T14:17:20.170939Z"
    },
    "code_folding": [],
    "deletable": false,
    "editable": false,
    "hidden": true,
    "scrolled": false
   },
   "outputs": [
    {
     "data": {
      "text/html": [
       "<style type=\"text/css\">\n",
       "#T_6cdd2_row9_col1, #T_6cdd2_row15_col1, #T_6cdd2_row17_col1 {\n",
       "  background-color: lightgreen;\n",
       "}\n",
       "</style>\n",
       "<table id=\"T_6cdd2\">\n",
       "  <thead>\n",
       "    <tr>\n",
       "      <th class=\"blank level0\" >&nbsp;</th>\n",
       "      <th id=\"T_6cdd2_level0_col0\" class=\"col_heading level0 col0\" >Description</th>\n",
       "      <th id=\"T_6cdd2_level0_col1\" class=\"col_heading level0 col1\" >Value</th>\n",
       "    </tr>\n",
       "  </thead>\n",
       "  <tbody>\n",
       "    <tr>\n",
       "      <th id=\"T_6cdd2_level0_row0\" class=\"row_heading level0 row0\" >0</th>\n",
       "      <td id=\"T_6cdd2_row0_col0\" class=\"data row0 col0\" >Session id</td>\n",
       "      <td id=\"T_6cdd2_row0_col1\" class=\"data row0 col1\" >123</td>\n",
       "    </tr>\n",
       "    <tr>\n",
       "      <th id=\"T_6cdd2_level0_row1\" class=\"row_heading level0 row1\" >1</th>\n",
       "      <td id=\"T_6cdd2_row1_col0\" class=\"data row1 col0\" >Target</td>\n",
       "      <td id=\"T_6cdd2_row1_col1\" class=\"data row1 col1\" >Churn</td>\n",
       "    </tr>\n",
       "    <tr>\n",
       "      <th id=\"T_6cdd2_level0_row2\" class=\"row_heading level0 row2\" >2</th>\n",
       "      <td id=\"T_6cdd2_row2_col0\" class=\"data row2 col0\" >Target type</td>\n",
       "      <td id=\"T_6cdd2_row2_col1\" class=\"data row2 col1\" >Binary</td>\n",
       "    </tr>\n",
       "    <tr>\n",
       "      <th id=\"T_6cdd2_level0_row3\" class=\"row_heading level0 row3\" >3</th>\n",
       "      <td id=\"T_6cdd2_row3_col0\" class=\"data row3 col0\" >Original data shape</td>\n",
       "      <td id=\"T_6cdd2_row3_col1\" class=\"data row3 col1\" >(6338, 20)</td>\n",
       "    </tr>\n",
       "    <tr>\n",
       "      <th id=\"T_6cdd2_level0_row4\" class=\"row_heading level0 row4\" >4</th>\n",
       "      <td id=\"T_6cdd2_row4_col0\" class=\"data row4 col0\" >Transformed data shape</td>\n",
       "      <td id=\"T_6cdd2_row4_col1\" class=\"data row4 col1\" >(8442, 41)</td>\n",
       "    </tr>\n",
       "    <tr>\n",
       "      <th id=\"T_6cdd2_level0_row5\" class=\"row_heading level0 row5\" >5</th>\n",
       "      <td id=\"T_6cdd2_row5_col0\" class=\"data row5 col0\" >Transformed train set shape</td>\n",
       "      <td id=\"T_6cdd2_row5_col1\" class=\"data row5 col1\" >(6540, 41)</td>\n",
       "    </tr>\n",
       "    <tr>\n",
       "      <th id=\"T_6cdd2_level0_row6\" class=\"row_heading level0 row6\" >6</th>\n",
       "      <td id=\"T_6cdd2_row6_col0\" class=\"data row6 col0\" >Transformed test set shape</td>\n",
       "      <td id=\"T_6cdd2_row6_col1\" class=\"data row6 col1\" >(1902, 41)</td>\n",
       "    </tr>\n",
       "    <tr>\n",
       "      <th id=\"T_6cdd2_level0_row7\" class=\"row_heading level0 row7\" >7</th>\n",
       "      <td id=\"T_6cdd2_row7_col0\" class=\"data row7 col0\" >Numeric features</td>\n",
       "      <td id=\"T_6cdd2_row7_col1\" class=\"data row7 col1\" >4</td>\n",
       "    </tr>\n",
       "    <tr>\n",
       "      <th id=\"T_6cdd2_level0_row8\" class=\"row_heading level0 row8\" >8</th>\n",
       "      <td id=\"T_6cdd2_row8_col0\" class=\"data row8 col0\" >Categorical features</td>\n",
       "      <td id=\"T_6cdd2_row8_col1\" class=\"data row8 col1\" >15</td>\n",
       "    </tr>\n",
       "    <tr>\n",
       "      <th id=\"T_6cdd2_level0_row9\" class=\"row_heading level0 row9\" >9</th>\n",
       "      <td id=\"T_6cdd2_row9_col0\" class=\"data row9 col0\" >Preprocess</td>\n",
       "      <td id=\"T_6cdd2_row9_col1\" class=\"data row9 col1\" >True</td>\n",
       "    </tr>\n",
       "    <tr>\n",
       "      <th id=\"T_6cdd2_level0_row10\" class=\"row_heading level0 row10\" >10</th>\n",
       "      <td id=\"T_6cdd2_row10_col0\" class=\"data row10 col0\" >Imputation type</td>\n",
       "      <td id=\"T_6cdd2_row10_col1\" class=\"data row10 col1\" >simple</td>\n",
       "    </tr>\n",
       "    <tr>\n",
       "      <th id=\"T_6cdd2_level0_row11\" class=\"row_heading level0 row11\" >11</th>\n",
       "      <td id=\"T_6cdd2_row11_col0\" class=\"data row11 col0\" >Numeric imputation</td>\n",
       "      <td id=\"T_6cdd2_row11_col1\" class=\"data row11 col1\" >mean</td>\n",
       "    </tr>\n",
       "    <tr>\n",
       "      <th id=\"T_6cdd2_level0_row12\" class=\"row_heading level0 row12\" >12</th>\n",
       "      <td id=\"T_6cdd2_row12_col0\" class=\"data row12 col0\" >Categorical imputation</td>\n",
       "      <td id=\"T_6cdd2_row12_col1\" class=\"data row12 col1\" >mode</td>\n",
       "    </tr>\n",
       "    <tr>\n",
       "      <th id=\"T_6cdd2_level0_row13\" class=\"row_heading level0 row13\" >13</th>\n",
       "      <td id=\"T_6cdd2_row13_col0\" class=\"data row13 col0\" >Maximum one-hot encoding</td>\n",
       "      <td id=\"T_6cdd2_row13_col1\" class=\"data row13 col1\" >25</td>\n",
       "    </tr>\n",
       "    <tr>\n",
       "      <th id=\"T_6cdd2_level0_row14\" class=\"row_heading level0 row14\" >14</th>\n",
       "      <td id=\"T_6cdd2_row14_col0\" class=\"data row14 col0\" >Encoding method</td>\n",
       "      <td id=\"T_6cdd2_row14_col1\" class=\"data row14 col1\" >None</td>\n",
       "    </tr>\n",
       "    <tr>\n",
       "      <th id=\"T_6cdd2_level0_row15\" class=\"row_heading level0 row15\" >15</th>\n",
       "      <td id=\"T_6cdd2_row15_col0\" class=\"data row15 col0\" >Fix imbalance</td>\n",
       "      <td id=\"T_6cdd2_row15_col1\" class=\"data row15 col1\" >True</td>\n",
       "    </tr>\n",
       "    <tr>\n",
       "      <th id=\"T_6cdd2_level0_row16\" class=\"row_heading level0 row16\" >16</th>\n",
       "      <td id=\"T_6cdd2_row16_col0\" class=\"data row16 col0\" >Fix imbalance method</td>\n",
       "      <td id=\"T_6cdd2_row16_col1\" class=\"data row16 col1\" >SMOTE</td>\n",
       "    </tr>\n",
       "    <tr>\n",
       "      <th id=\"T_6cdd2_level0_row17\" class=\"row_heading level0 row17\" >17</th>\n",
       "      <td id=\"T_6cdd2_row17_col0\" class=\"data row17 col0\" >Transformation</td>\n",
       "      <td id=\"T_6cdd2_row17_col1\" class=\"data row17 col1\" >True</td>\n",
       "    </tr>\n",
       "    <tr>\n",
       "      <th id=\"T_6cdd2_level0_row18\" class=\"row_heading level0 row18\" >18</th>\n",
       "      <td id=\"T_6cdd2_row18_col0\" class=\"data row18 col0\" >Transformation method</td>\n",
       "      <td id=\"T_6cdd2_row18_col1\" class=\"data row18 col1\" >yeo-johnson</td>\n",
       "    </tr>\n",
       "    <tr>\n",
       "      <th id=\"T_6cdd2_level0_row19\" class=\"row_heading level0 row19\" >19</th>\n",
       "      <td id=\"T_6cdd2_row19_col0\" class=\"data row19 col0\" >Fold Generator</td>\n",
       "      <td id=\"T_6cdd2_row19_col1\" class=\"data row19 col1\" >StratifiedKFold</td>\n",
       "    </tr>\n",
       "    <tr>\n",
       "      <th id=\"T_6cdd2_level0_row20\" class=\"row_heading level0 row20\" >20</th>\n",
       "      <td id=\"T_6cdd2_row20_col0\" class=\"data row20 col0\" >Fold Number</td>\n",
       "      <td id=\"T_6cdd2_row20_col1\" class=\"data row20 col1\" >5</td>\n",
       "    </tr>\n",
       "    <tr>\n",
       "      <th id=\"T_6cdd2_level0_row21\" class=\"row_heading level0 row21\" >21</th>\n",
       "      <td id=\"T_6cdd2_row21_col0\" class=\"data row21 col0\" >CPU Jobs</td>\n",
       "      <td id=\"T_6cdd2_row21_col1\" class=\"data row21 col1\" >-1</td>\n",
       "    </tr>\n",
       "    <tr>\n",
       "      <th id=\"T_6cdd2_level0_row22\" class=\"row_heading level0 row22\" >22</th>\n",
       "      <td id=\"T_6cdd2_row22_col0\" class=\"data row22 col0\" >Use GPU</td>\n",
       "      <td id=\"T_6cdd2_row22_col1\" class=\"data row22 col1\" >False</td>\n",
       "    </tr>\n",
       "    <tr>\n",
       "      <th id=\"T_6cdd2_level0_row23\" class=\"row_heading level0 row23\" >23</th>\n",
       "      <td id=\"T_6cdd2_row23_col0\" class=\"data row23 col0\" >Log Experiment</td>\n",
       "      <td id=\"T_6cdd2_row23_col1\" class=\"data row23 col1\" >False</td>\n",
       "    </tr>\n",
       "    <tr>\n",
       "      <th id=\"T_6cdd2_level0_row24\" class=\"row_heading level0 row24\" >24</th>\n",
       "      <td id=\"T_6cdd2_row24_col0\" class=\"data row24 col0\" >Experiment Name</td>\n",
       "      <td id=\"T_6cdd2_row24_col1\" class=\"data row24 col1\" >clf-default-name</td>\n",
       "    </tr>\n",
       "    <tr>\n",
       "      <th id=\"T_6cdd2_level0_row25\" class=\"row_heading level0 row25\" >25</th>\n",
       "      <td id=\"T_6cdd2_row25_col0\" class=\"data row25 col0\" >USI</td>\n",
       "      <td id=\"T_6cdd2_row25_col1\" class=\"data row25 col1\" >f651</td>\n",
       "    </tr>\n",
       "  </tbody>\n",
       "</table>\n"
      ],
      "text/plain": [
       "<pandas.io.formats.style.Styler at 0x1512eacef70>"
      ]
     },
     "metadata": {},
     "output_type": "display_data"
    }
   ],
   "source": [
    "exp_03 = setup(\n",
    "    data=data,\n",
    "    target='Churn',\n",
    "    session_id=RANDOM_SEED,\n",
    "    remove_outliers=False,        \n",
    "    train_size=0.7,\n",
    "    normalize=False, \n",
    "    transformation=True,\n",
    "    transformation_method='yeo-johnson',\n",
    "    fix_imbalance=True,\n",
    "    fix_imbalance_method='SMOTE',\n",
    "    fold_strategy='stratifiedkfold',\n",
    "    fold=5,\n",
    "    data_split_stratify=True,\n",
    ")"
   ]
  },
  {
   "cell_type": "code",
   "execution_count": 10,
   "id": "ea4d8302",
   "metadata": {
    "ExecuteTime": {
     "end_time": "2024-06-23T14:17:24.206468Z",
     "start_time": "2024-06-23T14:17:24.146057Z"
    },
    "deletable": false,
    "editable": false,
    "hidden": true
   },
   "outputs": [],
   "source": [
    "data_unseen = exp_03.pipeline.transform(data_unseen)\n",
    "X_test = data_unseen.drop(['Churn'], axis=1)\n",
    "y_test = data_unseen['Churn']"
   ]
  },
  {
   "cell_type": "code",
   "execution_count": 40,
   "id": "8f884c5b",
   "metadata": {
    "ExecuteTime": {
     "end_time": "2024-06-23T19:50:02.725440Z",
     "start_time": "2024-06-23T19:48:57.935395Z"
    },
    "deletable": false,
    "editable": false,
    "hidden": true
   },
   "outputs": [
    {
     "data": {
      "text/html": [],
      "text/plain": [
       "<IPython.core.display.HTML object>"
      ]
     },
     "metadata": {},
     "output_type": "display_data"
    },
    {
     "data": {
      "text/html": [
       "<style type=\"text/css\">\n",
       "#T_f7cdf th {\n",
       "  text-align: left;\n",
       "}\n",
       "#T_f7cdf_row0_col0, #T_f7cdf_row0_col3, #T_f7cdf_row0_col4, #T_f7cdf_row1_col0, #T_f7cdf_row1_col1, #T_f7cdf_row1_col2, #T_f7cdf_row1_col3, #T_f7cdf_row1_col5, #T_f7cdf_row1_col6, #T_f7cdf_row1_col7, #T_f7cdf_row2_col0, #T_f7cdf_row2_col1, #T_f7cdf_row2_col2, #T_f7cdf_row2_col3, #T_f7cdf_row2_col4, #T_f7cdf_row2_col5, #T_f7cdf_row2_col6, #T_f7cdf_row2_col7, #T_f7cdf_row3_col0, #T_f7cdf_row3_col1, #T_f7cdf_row3_col2, #T_f7cdf_row3_col3, #T_f7cdf_row3_col4, #T_f7cdf_row3_col5, #T_f7cdf_row3_col6, #T_f7cdf_row3_col7, #T_f7cdf_row4_col0, #T_f7cdf_row4_col1, #T_f7cdf_row4_col2, #T_f7cdf_row4_col3, #T_f7cdf_row4_col4, #T_f7cdf_row4_col5, #T_f7cdf_row4_col6, #T_f7cdf_row4_col7, #T_f7cdf_row5_col0, #T_f7cdf_row5_col1, #T_f7cdf_row5_col2, #T_f7cdf_row5_col3, #T_f7cdf_row5_col4, #T_f7cdf_row5_col5, #T_f7cdf_row5_col6, #T_f7cdf_row5_col7, #T_f7cdf_row6_col0, #T_f7cdf_row6_col1, #T_f7cdf_row6_col2, #T_f7cdf_row6_col3, #T_f7cdf_row6_col4, #T_f7cdf_row6_col5, #T_f7cdf_row6_col6, #T_f7cdf_row6_col7, #T_f7cdf_row7_col0, #T_f7cdf_row7_col1, #T_f7cdf_row7_col2, #T_f7cdf_row7_col3, #T_f7cdf_row7_col4, #T_f7cdf_row7_col5, #T_f7cdf_row7_col6, #T_f7cdf_row7_col7, #T_f7cdf_row8_col0, #T_f7cdf_row8_col1, #T_f7cdf_row8_col2, #T_f7cdf_row8_col3, #T_f7cdf_row8_col4, #T_f7cdf_row8_col5, #T_f7cdf_row8_col6, #T_f7cdf_row8_col7, #T_f7cdf_row9_col0, #T_f7cdf_row9_col1, #T_f7cdf_row9_col2, #T_f7cdf_row9_col3, #T_f7cdf_row9_col4, #T_f7cdf_row9_col5, #T_f7cdf_row9_col6, #T_f7cdf_row9_col7, #T_f7cdf_row10_col0, #T_f7cdf_row10_col1, #T_f7cdf_row10_col2, #T_f7cdf_row10_col3, #T_f7cdf_row10_col4, #T_f7cdf_row10_col5, #T_f7cdf_row10_col6, #T_f7cdf_row10_col7, #T_f7cdf_row11_col0, #T_f7cdf_row11_col1, #T_f7cdf_row11_col2, #T_f7cdf_row11_col3, #T_f7cdf_row11_col4, #T_f7cdf_row11_col5, #T_f7cdf_row11_col6, #T_f7cdf_row11_col7, #T_f7cdf_row12_col0, #T_f7cdf_row12_col1, #T_f7cdf_row12_col2, #T_f7cdf_row12_col4, #T_f7cdf_row12_col5, #T_f7cdf_row12_col6, #T_f7cdf_row12_col7, #T_f7cdf_row13_col0, #T_f7cdf_row13_col1, #T_f7cdf_row13_col2, #T_f7cdf_row13_col3, #T_f7cdf_row13_col4, #T_f7cdf_row13_col5, #T_f7cdf_row13_col6, #T_f7cdf_row13_col7 {\n",
       "  text-align: left;\n",
       "}\n",
       "#T_f7cdf_row0_col1, #T_f7cdf_row0_col2, #T_f7cdf_row0_col5, #T_f7cdf_row0_col6, #T_f7cdf_row0_col7, #T_f7cdf_row1_col4, #T_f7cdf_row12_col3 {\n",
       "  text-align: left;\n",
       "  background-color: yellow;\n",
       "}\n",
       "#T_f7cdf_row0_col8, #T_f7cdf_row1_col8, #T_f7cdf_row2_col8, #T_f7cdf_row3_col8, #T_f7cdf_row4_col8, #T_f7cdf_row5_col8, #T_f7cdf_row6_col8, #T_f7cdf_row7_col8, #T_f7cdf_row8_col8, #T_f7cdf_row9_col8, #T_f7cdf_row10_col8, #T_f7cdf_row11_col8, #T_f7cdf_row13_col8 {\n",
       "  text-align: left;\n",
       "  background-color: lightgrey;\n",
       "}\n",
       "#T_f7cdf_row12_col8 {\n",
       "  text-align: left;\n",
       "  background-color: yellow;\n",
       "  background-color: lightgrey;\n",
       "}\n",
       "</style>\n",
       "<table id=\"T_f7cdf\">\n",
       "  <thead>\n",
       "    <tr>\n",
       "      <th class=\"blank level0\" >&nbsp;</th>\n",
       "      <th id=\"T_f7cdf_level0_col0\" class=\"col_heading level0 col0\" >Model</th>\n",
       "      <th id=\"T_f7cdf_level0_col1\" class=\"col_heading level0 col1\" >Accuracy</th>\n",
       "      <th id=\"T_f7cdf_level0_col2\" class=\"col_heading level0 col2\" >AUC</th>\n",
       "      <th id=\"T_f7cdf_level0_col3\" class=\"col_heading level0 col3\" >Recall</th>\n",
       "      <th id=\"T_f7cdf_level0_col4\" class=\"col_heading level0 col4\" >Prec.</th>\n",
       "      <th id=\"T_f7cdf_level0_col5\" class=\"col_heading level0 col5\" >F1</th>\n",
       "      <th id=\"T_f7cdf_level0_col6\" class=\"col_heading level0 col6\" >Kappa</th>\n",
       "      <th id=\"T_f7cdf_level0_col7\" class=\"col_heading level0 col7\" >MCC</th>\n",
       "      <th id=\"T_f7cdf_level0_col8\" class=\"col_heading level0 col8\" >TT (Sec)</th>\n",
       "    </tr>\n",
       "  </thead>\n",
       "  <tbody>\n",
       "    <tr>\n",
       "      <th id=\"T_f7cdf_level0_row0\" class=\"row_heading level0 row0\" >ada</th>\n",
       "      <td id=\"T_f7cdf_row0_col0\" class=\"data row0 col0\" >Ada Boost Classifier</td>\n",
       "      <td id=\"T_f7cdf_row0_col1\" class=\"data row0 col1\" >0.8138</td>\n",
       "      <td id=\"T_f7cdf_row0_col2\" class=\"data row0 col2\" >0.8775</td>\n",
       "      <td id=\"T_f7cdf_row0_col3\" class=\"data row0 col3\" >0.6929</td>\n",
       "      <td id=\"T_f7cdf_row0_col4\" class=\"data row0 col4\" >0.6345</td>\n",
       "      <td id=\"T_f7cdf_row0_col5\" class=\"data row0 col5\" >0.6622</td>\n",
       "      <td id=\"T_f7cdf_row0_col6\" class=\"data row0 col6\" >0.5341</td>\n",
       "      <td id=\"T_f7cdf_row0_col7\" class=\"data row0 col7\" >0.5353</td>\n",
       "      <td id=\"T_f7cdf_row0_col8\" class=\"data row0 col8\" >0.6820</td>\n",
       "    </tr>\n",
       "    <tr>\n",
       "      <th id=\"T_f7cdf_level0_row1\" class=\"row_heading level0 row1\" >lightgbm</th>\n",
       "      <td id=\"T_f7cdf_row1_col0\" class=\"data row1 col0\" >Light Gradient Boosting Machine</td>\n",
       "      <td id=\"T_f7cdf_row1_col1\" class=\"data row1 col1\" >0.8046</td>\n",
       "      <td id=\"T_f7cdf_row1_col2\" class=\"data row1 col2\" >0.8622</td>\n",
       "      <td id=\"T_f7cdf_row1_col3\" class=\"data row1 col3\" >0.5918</td>\n",
       "      <td id=\"T_f7cdf_row1_col4\" class=\"data row1 col4\" >0.6399</td>\n",
       "      <td id=\"T_f7cdf_row1_col5\" class=\"data row1 col5\" >0.6140</td>\n",
       "      <td id=\"T_f7cdf_row1_col6\" class=\"data row1 col6\" >0.4836</td>\n",
       "      <td id=\"T_f7cdf_row1_col7\" class=\"data row1 col7\" >0.4848</td>\n",
       "      <td id=\"T_f7cdf_row1_col8\" class=\"data row1 col8\" >0.8620</td>\n",
       "    </tr>\n",
       "    <tr>\n",
       "      <th id=\"T_f7cdf_level0_row2\" class=\"row_heading level0 row2\" >gbc</th>\n",
       "      <td id=\"T_f7cdf_row2_col0\" class=\"data row2 col0\" >Gradient Boosting Classifier</td>\n",
       "      <td id=\"T_f7cdf_row2_col1\" class=\"data row2 col1\" >0.8030</td>\n",
       "      <td id=\"T_f7cdf_row2_col2\" class=\"data row2 col2\" >0.8686</td>\n",
       "      <td id=\"T_f7cdf_row2_col3\" class=\"data row2 col3\" >0.6218</td>\n",
       "      <td id=\"T_f7cdf_row2_col4\" class=\"data row2 col4\" >0.6283</td>\n",
       "      <td id=\"T_f7cdf_row2_col5\" class=\"data row2 col5\" >0.6241</td>\n",
       "      <td id=\"T_f7cdf_row2_col6\" class=\"data row2 col6\" >0.4908</td>\n",
       "      <td id=\"T_f7cdf_row2_col7\" class=\"data row2 col7\" >0.4914</td>\n",
       "      <td id=\"T_f7cdf_row2_col8\" class=\"data row2 col8\" >1.4320</td>\n",
       "    </tr>\n",
       "    <tr>\n",
       "      <th id=\"T_f7cdf_level0_row3\" class=\"row_heading level0 row3\" >lda</th>\n",
       "      <td id=\"T_f7cdf_row3_col0\" class=\"data row3 col0\" >Linear Discriminant Analysis</td>\n",
       "      <td id=\"T_f7cdf_row3_col1\" class=\"data row3 col1\" >0.7946</td>\n",
       "      <td id=\"T_f7cdf_row3_col2\" class=\"data row3 col2\" >0.8492</td>\n",
       "      <td id=\"T_f7cdf_row3_col3\" class=\"data row3 col3\" >0.6269</td>\n",
       "      <td id=\"T_f7cdf_row3_col4\" class=\"data row3 col4\" >0.6059</td>\n",
       "      <td id=\"T_f7cdf_row3_col5\" class=\"data row3 col5\" >0.6159</td>\n",
       "      <td id=\"T_f7cdf_row3_col6\" class=\"data row3 col6\" >0.4758</td>\n",
       "      <td id=\"T_f7cdf_row3_col7\" class=\"data row3 col7\" >0.4763</td>\n",
       "      <td id=\"T_f7cdf_row3_col8\" class=\"data row3 col8\" >0.5240</td>\n",
       "    </tr>\n",
       "    <tr>\n",
       "      <th id=\"T_f7cdf_level0_row4\" class=\"row_heading level0 row4\" >ridge</th>\n",
       "      <td id=\"T_f7cdf_row4_col0\" class=\"data row4 col0\" >Ridge Classifier</td>\n",
       "      <td id=\"T_f7cdf_row4_col1\" class=\"data row4 col1\" >0.7894</td>\n",
       "      <td id=\"T_f7cdf_row4_col2\" class=\"data row4 col2\" >0.8493</td>\n",
       "      <td id=\"T_f7cdf_row4_col3\" class=\"data row4 col3\" >0.6578</td>\n",
       "      <td id=\"T_f7cdf_row4_col4\" class=\"data row4 col4\" >0.5897</td>\n",
       "      <td id=\"T_f7cdf_row4_col5\" class=\"data row4 col5\" >0.6214</td>\n",
       "      <td id=\"T_f7cdf_row4_col6\" class=\"data row4 col6\" >0.4763</td>\n",
       "      <td id=\"T_f7cdf_row4_col7\" class=\"data row4 col7\" >0.4780</td>\n",
       "      <td id=\"T_f7cdf_row4_col8\" class=\"data row4 col8\" >0.4760</td>\n",
       "    </tr>\n",
       "    <tr>\n",
       "      <th id=\"T_f7cdf_level0_row5\" class=\"row_heading level0 row5\" >rf</th>\n",
       "      <td id=\"T_f7cdf_row5_col0\" class=\"data row5 col0\" >Random Forest Classifier</td>\n",
       "      <td id=\"T_f7cdf_row5_col1\" class=\"data row5 col1\" >0.7874</td>\n",
       "      <td id=\"T_f7cdf_row5_col2\" class=\"data row5 col2\" >0.8397</td>\n",
       "      <td id=\"T_f7cdf_row5_col3\" class=\"data row5 col3\" >0.5257</td>\n",
       "      <td id=\"T_f7cdf_row5_col4\" class=\"data row5 col4\" >0.6124</td>\n",
       "      <td id=\"T_f7cdf_row5_col5\" class=\"data row5 col5\" >0.5653</td>\n",
       "      <td id=\"T_f7cdf_row5_col6\" class=\"data row5 col6\" >0.4258</td>\n",
       "      <td id=\"T_f7cdf_row5_col7\" class=\"data row5 col7\" >0.4282</td>\n",
       "      <td id=\"T_f7cdf_row5_col8\" class=\"data row5 col8\" >0.9940</td>\n",
       "    </tr>\n",
       "    <tr>\n",
       "      <th id=\"T_f7cdf_level0_row6\" class=\"row_heading level0 row6\" >xgboost</th>\n",
       "      <td id=\"T_f7cdf_row6_col0\" class=\"data row6 col0\" >Extreme Gradient Boosting</td>\n",
       "      <td id=\"T_f7cdf_row6_col1\" class=\"data row6 col1\" >0.7863</td>\n",
       "      <td id=\"T_f7cdf_row6_col2\" class=\"data row6 col2\" >0.8432</td>\n",
       "      <td id=\"T_f7cdf_row6_col3\" class=\"data row6 col3\" >0.5566</td>\n",
       "      <td id=\"T_f7cdf_row6_col4\" class=\"data row6 col4\" >0.6024</td>\n",
       "      <td id=\"T_f7cdf_row6_col5\" class=\"data row6 col5\" >0.5777</td>\n",
       "      <td id=\"T_f7cdf_row6_col6\" class=\"data row6 col6\" >0.4351</td>\n",
       "      <td id=\"T_f7cdf_row6_col7\" class=\"data row6 col7\" >0.4363</td>\n",
       "      <td id=\"T_f7cdf_row6_col8\" class=\"data row6 col8\" >0.9720</td>\n",
       "    </tr>\n",
       "    <tr>\n",
       "      <th id=\"T_f7cdf_level0_row7\" class=\"row_heading level0 row7\" >lr</th>\n",
       "      <td id=\"T_f7cdf_row7_col0\" class=\"data row7 col0\" >Logistic Regression</td>\n",
       "      <td id=\"T_f7cdf_row7_col1\" class=\"data row7 col1\" >0.7732</td>\n",
       "      <td id=\"T_f7cdf_row7_col2\" class=\"data row7 col2\" >0.8454</td>\n",
       "      <td id=\"T_f7cdf_row7_col3\" class=\"data row7 col3\" >0.7213</td>\n",
       "      <td id=\"T_f7cdf_row7_col4\" class=\"data row7 col4\" >0.5523</td>\n",
       "      <td id=\"T_f7cdf_row7_col5\" class=\"data row7 col5\" >0.6254</td>\n",
       "      <td id=\"T_f7cdf_row7_col6\" class=\"data row7 col6\" >0.4668</td>\n",
       "      <td id=\"T_f7cdf_row7_col7\" class=\"data row7 col7\" >0.4757</td>\n",
       "      <td id=\"T_f7cdf_row7_col8\" class=\"data row7 col8\" >2.4200</td>\n",
       "    </tr>\n",
       "    <tr>\n",
       "      <th id=\"T_f7cdf_level0_row8\" class=\"row_heading level0 row8\" >et</th>\n",
       "      <td id=\"T_f7cdf_row8_col0\" class=\"data row8 col0\" >Extra Trees Classifier</td>\n",
       "      <td id=\"T_f7cdf_row8_col1\" class=\"data row8 col1\" >0.7716</td>\n",
       "      <td id=\"T_f7cdf_row8_col2\" class=\"data row8 col2\" >0.8018</td>\n",
       "      <td id=\"T_f7cdf_row8_col3\" class=\"data row8 col3\" >0.5009</td>\n",
       "      <td id=\"T_f7cdf_row8_col4\" class=\"data row8 col4\" >0.5776</td>\n",
       "      <td id=\"T_f7cdf_row8_col5\" class=\"data row8 col5\" >0.5359</td>\n",
       "      <td id=\"T_f7cdf_row8_col6\" class=\"data row8 col6\" >0.3855</td>\n",
       "      <td id=\"T_f7cdf_row8_col7\" class=\"data row8 col7\" >0.3877</td>\n",
       "      <td id=\"T_f7cdf_row8_col8\" class=\"data row8 col8\" >0.9580</td>\n",
       "    </tr>\n",
       "    <tr>\n",
       "      <th id=\"T_f7cdf_level0_row9\" class=\"row_heading level0 row9\" >dt</th>\n",
       "      <td id=\"T_f7cdf_row9_col0\" class=\"data row9 col0\" >Decision Tree Classifier</td>\n",
       "      <td id=\"T_f7cdf_row9_col1\" class=\"data row9 col1\" >0.7450</td>\n",
       "      <td id=\"T_f7cdf_row9_col2\" class=\"data row9 col2\" >0.6796</td>\n",
       "      <td id=\"T_f7cdf_row9_col3\" class=\"data row9 col3\" >0.5394</td>\n",
       "      <td id=\"T_f7cdf_row9_col4\" class=\"data row9 col4\" >0.5147</td>\n",
       "      <td id=\"T_f7cdf_row9_col5\" class=\"data row9 col5\" >0.5263</td>\n",
       "      <td id=\"T_f7cdf_row9_col6\" class=\"data row9 col6\" >0.3521</td>\n",
       "      <td id=\"T_f7cdf_row9_col7\" class=\"data row9 col7\" >0.3526</td>\n",
       "      <td id=\"T_f7cdf_row9_col8\" class=\"data row9 col8\" >0.5060</td>\n",
       "    </tr>\n",
       "    <tr>\n",
       "      <th id=\"T_f7cdf_level0_row10\" class=\"row_heading level0 row10\" >qda</th>\n",
       "      <td id=\"T_f7cdf_row10_col0\" class=\"data row10 col0\" >Quadratic Discriminant Analysis</td>\n",
       "      <td id=\"T_f7cdf_row10_col1\" class=\"data row10 col1\" >0.7372</td>\n",
       "      <td id=\"T_f7cdf_row10_col2\" class=\"data row10 col2\" >0.8075</td>\n",
       "      <td id=\"T_f7cdf_row10_col3\" class=\"data row10 col3\" >0.0000</td>\n",
       "      <td id=\"T_f7cdf_row10_col4\" class=\"data row10 col4\" >0.0000</td>\n",
       "      <td id=\"T_f7cdf_row10_col5\" class=\"data row10 col5\" >0.0000</td>\n",
       "      <td id=\"T_f7cdf_row10_col6\" class=\"data row10 col6\" >0.0000</td>\n",
       "      <td id=\"T_f7cdf_row10_col7\" class=\"data row10 col7\" >0.0000</td>\n",
       "      <td id=\"T_f7cdf_row10_col8\" class=\"data row10 col8\" >0.5160</td>\n",
       "    </tr>\n",
       "    <tr>\n",
       "      <th id=\"T_f7cdf_level0_row11\" class=\"row_heading level0 row11\" >knn</th>\n",
       "      <td id=\"T_f7cdf_row11_col0\" class=\"data row11 col0\" >K Neighbors Classifier</td>\n",
       "      <td id=\"T_f7cdf_row11_col1\" class=\"data row11 col1\" >0.7347</td>\n",
       "      <td id=\"T_f7cdf_row11_col2\" class=\"data row11 col2\" >0.8049</td>\n",
       "      <td id=\"T_f7cdf_row11_col3\" class=\"data row11 col3\" >0.7753</td>\n",
       "      <td id=\"T_f7cdf_row11_col4\" class=\"data row11 col4\" >0.4979</td>\n",
       "      <td id=\"T_f7cdf_row11_col5\" class=\"data row11 col5\" >0.6061</td>\n",
       "      <td id=\"T_f7cdf_row11_col6\" class=\"data row11 col6\" >0.4203</td>\n",
       "      <td id=\"T_f7cdf_row11_col7\" class=\"data row11 col7\" >0.4440</td>\n",
       "      <td id=\"T_f7cdf_row11_col8\" class=\"data row11 col8\" >0.5580</td>\n",
       "    </tr>\n",
       "    <tr>\n",
       "      <th id=\"T_f7cdf_level0_row12\" class=\"row_heading level0 row12\" >nb</th>\n",
       "      <td id=\"T_f7cdf_row12_col0\" class=\"data row12 col0\" >Naive Bayes</td>\n",
       "      <td id=\"T_f7cdf_row12_col1\" class=\"data row12 col1\" >0.6997</td>\n",
       "      <td id=\"T_f7cdf_row12_col2\" class=\"data row12 col2\" >0.8204</td>\n",
       "      <td id=\"T_f7cdf_row12_col3\" class=\"data row12 col3\" >0.8465</td>\n",
       "      <td id=\"T_f7cdf_row12_col4\" class=\"data row12 col4\" >0.4617</td>\n",
       "      <td id=\"T_f7cdf_row12_col5\" class=\"data row12 col5\" >0.5973</td>\n",
       "      <td id=\"T_f7cdf_row12_col6\" class=\"data row12 col6\" >0.3895</td>\n",
       "      <td id=\"T_f7cdf_row12_col7\" class=\"data row12 col7\" >0.4354</td>\n",
       "      <td id=\"T_f7cdf_row12_col8\" class=\"data row12 col8\" >0.4560</td>\n",
       "    </tr>\n",
       "    <tr>\n",
       "      <th id=\"T_f7cdf_level0_row13\" class=\"row_heading level0 row13\" >svm</th>\n",
       "      <td id=\"T_f7cdf_row13_col0\" class=\"data row13 col0\" >SVM - Linear Kernel</td>\n",
       "      <td id=\"T_f7cdf_row13_col1\" class=\"data row13 col1\" >0.5363</td>\n",
       "      <td id=\"T_f7cdf_row13_col2\" class=\"data row13 col2\" >0.7678</td>\n",
       "      <td id=\"T_f7cdf_row13_col3\" class=\"data row13 col3\" >0.7588</td>\n",
       "      <td id=\"T_f7cdf_row13_col4\" class=\"data row13 col4\" >0.3648</td>\n",
       "      <td id=\"T_f7cdf_row13_col5\" class=\"data row13 col5\" >0.4230</td>\n",
       "      <td id=\"T_f7cdf_row13_col6\" class=\"data row13 col6\" >0.1542</td>\n",
       "      <td id=\"T_f7cdf_row13_col7\" class=\"data row13 col7\" >0.2226</td>\n",
       "      <td id=\"T_f7cdf_row13_col8\" class=\"data row13 col8\" >0.6160</td>\n",
       "    </tr>\n",
       "  </tbody>\n",
       "</table>\n"
      ],
      "text/plain": [
       "<pandas.io.formats.style.Styler at 0x1512f4c2c10>"
      ]
     },
     "metadata": {},
     "output_type": "display_data"
    },
    {
     "data": {
      "text/html": [],
      "text/plain": [
       "<IPython.core.display.HTML object>"
      ]
     },
     "metadata": {},
     "output_type": "display_data"
    }
   ],
   "source": [
    "best_model = compare_models(budget_time=1)"
   ]
  },
  {
   "cell_type": "code",
   "execution_count": 12,
   "id": "930f45b2",
   "metadata": {
    "ExecuteTime": {
     "end_time": "2024-06-23T14:20:05.967396Z",
     "start_time": "2024-06-23T14:18:36.567412Z"
    },
    "collapsed": true,
    "deletable": false,
    "editable": false,
    "hidden": true
   },
   "outputs": [
    {
     "data": {
      "text/html": [],
      "text/plain": [
       "<IPython.core.display.HTML object>"
      ]
     },
     "metadata": {},
     "output_type": "display_data"
    },
    {
     "data": {
      "text/html": [
       "<style type=\"text/css\">\n",
       "#T_db661_row5_col0, #T_db661_row5_col1, #T_db661_row5_col2, #T_db661_row5_col3, #T_db661_row5_col4, #T_db661_row5_col5, #T_db661_row5_col6 {\n",
       "  background: yellow;\n",
       "}\n",
       "</style>\n",
       "<table id=\"T_db661\">\n",
       "  <thead>\n",
       "    <tr>\n",
       "      <th class=\"blank level0\" >&nbsp;</th>\n",
       "      <th id=\"T_db661_level0_col0\" class=\"col_heading level0 col0\" >Accuracy</th>\n",
       "      <th id=\"T_db661_level0_col1\" class=\"col_heading level0 col1\" >AUC</th>\n",
       "      <th id=\"T_db661_level0_col2\" class=\"col_heading level0 col2\" >Recall</th>\n",
       "      <th id=\"T_db661_level0_col3\" class=\"col_heading level0 col3\" >Prec.</th>\n",
       "      <th id=\"T_db661_level0_col4\" class=\"col_heading level0 col4\" >F1</th>\n",
       "      <th id=\"T_db661_level0_col5\" class=\"col_heading level0 col5\" >Kappa</th>\n",
       "      <th id=\"T_db661_level0_col6\" class=\"col_heading level0 col6\" >MCC</th>\n",
       "    </tr>\n",
       "    <tr>\n",
       "      <th class=\"index_name level0\" >Fold</th>\n",
       "      <th class=\"blank col0\" >&nbsp;</th>\n",
       "      <th class=\"blank col1\" >&nbsp;</th>\n",
       "      <th class=\"blank col2\" >&nbsp;</th>\n",
       "      <th class=\"blank col3\" >&nbsp;</th>\n",
       "      <th class=\"blank col4\" >&nbsp;</th>\n",
       "      <th class=\"blank col5\" >&nbsp;</th>\n",
       "      <th class=\"blank col6\" >&nbsp;</th>\n",
       "    </tr>\n",
       "  </thead>\n",
       "  <tbody>\n",
       "    <tr>\n",
       "      <th id=\"T_db661_level0_row0\" class=\"row_heading level0 row0\" >0</th>\n",
       "      <td id=\"T_db661_row0_col0\" class=\"data row0 col0\" >0.8153</td>\n",
       "      <td id=\"T_db661_row0_col1\" class=\"data row0 col1\" >0.8822</td>\n",
       "      <td id=\"T_db661_row0_col2\" class=\"data row0 col2\" >0.7137</td>\n",
       "      <td id=\"T_db661_row0_col3\" class=\"data row0 col3\" >0.6326</td>\n",
       "      <td id=\"T_db661_row0_col4\" class=\"data row0 col4\" >0.6707</td>\n",
       "      <td id=\"T_db661_row0_col5\" class=\"data row0 col5\" >0.5430</td>\n",
       "      <td id=\"T_db661_row0_col6\" class=\"data row0 col6\" >0.5449</td>\n",
       "    </tr>\n",
       "    <tr>\n",
       "      <th id=\"T_db661_level0_row1\" class=\"row_heading level0 row1\" >1</th>\n",
       "      <td id=\"T_db661_row1_col0\" class=\"data row1 col0\" >0.8275</td>\n",
       "      <td id=\"T_db661_row1_col1\" class=\"data row1 col1\" >0.8862</td>\n",
       "      <td id=\"T_db661_row1_col2\" class=\"data row1 col2\" >0.7039</td>\n",
       "      <td id=\"T_db661_row1_col3\" class=\"data row1 col3\" >0.6613</td>\n",
       "      <td id=\"T_db661_row1_col4\" class=\"data row1 col4\" >0.6819</td>\n",
       "      <td id=\"T_db661_row1_col5\" class=\"data row1 col5\" >0.5637</td>\n",
       "      <td id=\"T_db661_row1_col6\" class=\"data row1 col6\" >0.5643</td>\n",
       "    </tr>\n",
       "    <tr>\n",
       "      <th id=\"T_db661_level0_row2\" class=\"row_heading level0 row2\" >2</th>\n",
       "      <td id=\"T_db661_row2_col0\" class=\"data row2 col0\" >0.8365</td>\n",
       "      <td id=\"T_db661_row2_col1\" class=\"data row2 col1\" >0.8929</td>\n",
       "      <td id=\"T_db661_row2_col2\" class=\"data row2 col2\" >0.6996</td>\n",
       "      <td id=\"T_db661_row2_col3\" class=\"data row2 col3\" >0.6849</td>\n",
       "      <td id=\"T_db661_row2_col4\" class=\"data row2 col4\" >0.6921</td>\n",
       "      <td id=\"T_db661_row2_col5\" class=\"data row2 col5\" >0.5809</td>\n",
       "      <td id=\"T_db661_row2_col6\" class=\"data row2 col6\" >0.5809</td>\n",
       "    </tr>\n",
       "    <tr>\n",
       "      <th id=\"T_db661_level0_row3\" class=\"row_heading level0 row3\" >3</th>\n",
       "      <td id=\"T_db661_row3_col0\" class=\"data row3 col0\" >0.7790</td>\n",
       "      <td id=\"T_db661_row3_col1\" class=\"data row3 col1\" >0.8390</td>\n",
       "      <td id=\"T_db661_row3_col2\" class=\"data row3 col2\" >0.6438</td>\n",
       "      <td id=\"T_db661_row3_col3\" class=\"data row3 col3\" >0.5703</td>\n",
       "      <td id=\"T_db661_row3_col4\" class=\"data row3 col4\" >0.6048</td>\n",
       "      <td id=\"T_db661_row3_col5\" class=\"data row3 col5\" >0.4523</td>\n",
       "      <td id=\"T_db661_row3_col6\" class=\"data row3 col6\" >0.4538</td>\n",
       "    </tr>\n",
       "    <tr>\n",
       "      <th id=\"T_db661_level0_row4\" class=\"row_heading level0 row4\" >4</th>\n",
       "      <td id=\"T_db661_row4_col0\" class=\"data row4 col0\" >0.8106</td>\n",
       "      <td id=\"T_db661_row4_col1\" class=\"data row4 col1\" >0.8869</td>\n",
       "      <td id=\"T_db661_row4_col2\" class=\"data row4 col2\" >0.7039</td>\n",
       "      <td id=\"T_db661_row4_col3\" class=\"data row4 col3\" >0.6236</td>\n",
       "      <td id=\"T_db661_row4_col4\" class=\"data row4 col4\" >0.6613</td>\n",
       "      <td id=\"T_db661_row4_col5\" class=\"data row4 col5\" >0.5305</td>\n",
       "      <td id=\"T_db661_row4_col6\" class=\"data row4 col6\" >0.5324</td>\n",
       "    </tr>\n",
       "    <tr>\n",
       "      <th id=\"T_db661_level0_row5\" class=\"row_heading level0 row5\" >Mean</th>\n",
       "      <td id=\"T_db661_row5_col0\" class=\"data row5 col0\" >0.8138</td>\n",
       "      <td id=\"T_db661_row5_col1\" class=\"data row5 col1\" >0.8775</td>\n",
       "      <td id=\"T_db661_row5_col2\" class=\"data row5 col2\" >0.6929</td>\n",
       "      <td id=\"T_db661_row5_col3\" class=\"data row5 col3\" >0.6345</td>\n",
       "      <td id=\"T_db661_row5_col4\" class=\"data row5 col4\" >0.6622</td>\n",
       "      <td id=\"T_db661_row5_col5\" class=\"data row5 col5\" >0.5341</td>\n",
       "      <td id=\"T_db661_row5_col6\" class=\"data row5 col6\" >0.5353</td>\n",
       "    </tr>\n",
       "    <tr>\n",
       "      <th id=\"T_db661_level0_row6\" class=\"row_heading level0 row6\" >Std</th>\n",
       "      <td id=\"T_db661_row6_col0\" class=\"data row6 col0\" >0.0196</td>\n",
       "      <td id=\"T_db661_row6_col1\" class=\"data row6 col1\" >0.0195</td>\n",
       "      <td id=\"T_db661_row6_col2\" class=\"data row6 col2\" >0.0250</td>\n",
       "      <td id=\"T_db661_row6_col3\" class=\"data row6 col3\" >0.0387</td>\n",
       "      <td id=\"T_db661_row6_col4\" class=\"data row6 col4\" >0.0305</td>\n",
       "      <td id=\"T_db661_row6_col5\" class=\"data row6 col5\" >0.0444</td>\n",
       "      <td id=\"T_db661_row6_col6\" class=\"data row6 col6\" >0.0439</td>\n",
       "    </tr>\n",
       "  </tbody>\n",
       "</table>\n"
      ],
      "text/plain": [
       "<pandas.io.formats.style.Styler at 0x1512f32b9d0>"
      ]
     },
     "metadata": {},
     "output_type": "display_data"
    },
    {
     "data": {
      "text/html": [],
      "text/plain": [
       "<IPython.core.display.HTML object>"
      ]
     },
     "metadata": {},
     "output_type": "display_data"
    },
    {
     "data": {
      "text/html": [],
      "text/plain": [
       "<IPython.core.display.HTML object>"
      ]
     },
     "metadata": {},
     "output_type": "display_data"
    },
    {
     "data": {
      "text/html": [
       "<style type=\"text/css\">\n",
       "#T_1398e_row5_col0, #T_1398e_row5_col1, #T_1398e_row5_col2, #T_1398e_row5_col3, #T_1398e_row5_col4, #T_1398e_row5_col5, #T_1398e_row5_col6 {\n",
       "  background: yellow;\n",
       "}\n",
       "</style>\n",
       "<table id=\"T_1398e\">\n",
       "  <thead>\n",
       "    <tr>\n",
       "      <th class=\"blank level0\" >&nbsp;</th>\n",
       "      <th id=\"T_1398e_level0_col0\" class=\"col_heading level0 col0\" >Accuracy</th>\n",
       "      <th id=\"T_1398e_level0_col1\" class=\"col_heading level0 col1\" >AUC</th>\n",
       "      <th id=\"T_1398e_level0_col2\" class=\"col_heading level0 col2\" >Recall</th>\n",
       "      <th id=\"T_1398e_level0_col3\" class=\"col_heading level0 col3\" >Prec.</th>\n",
       "      <th id=\"T_1398e_level0_col4\" class=\"col_heading level0 col4\" >F1</th>\n",
       "      <th id=\"T_1398e_level0_col5\" class=\"col_heading level0 col5\" >Kappa</th>\n",
       "      <th id=\"T_1398e_level0_col6\" class=\"col_heading level0 col6\" >MCC</th>\n",
       "    </tr>\n",
       "    <tr>\n",
       "      <th class=\"index_name level0\" >Fold</th>\n",
       "      <th class=\"blank col0\" >&nbsp;</th>\n",
       "      <th class=\"blank col1\" >&nbsp;</th>\n",
       "      <th class=\"blank col2\" >&nbsp;</th>\n",
       "      <th class=\"blank col3\" >&nbsp;</th>\n",
       "      <th class=\"blank col4\" >&nbsp;</th>\n",
       "      <th class=\"blank col5\" >&nbsp;</th>\n",
       "      <th class=\"blank col6\" >&nbsp;</th>\n",
       "    </tr>\n",
       "  </thead>\n",
       "  <tbody>\n",
       "    <tr>\n",
       "      <th id=\"T_1398e_level0_row0\" class=\"row_heading level0 row0\" >0</th>\n",
       "      <td id=\"T_1398e_row0_col0\" class=\"data row0 col0\" >0.7815</td>\n",
       "      <td id=\"T_1398e_row0_col1\" class=\"data row0 col1\" >0.8614</td>\n",
       "      <td id=\"T_1398e_row0_col2\" class=\"data row0 col2\" >0.7436</td>\n",
       "      <td id=\"T_1398e_row0_col3\" class=\"data row0 col3\" >0.5649</td>\n",
       "      <td id=\"T_1398e_row0_col4\" class=\"data row0 col4\" >0.6421</td>\n",
       "      <td id=\"T_1398e_row0_col5\" class=\"data row0 col5\" >0.4890</td>\n",
       "      <td id=\"T_1398e_row0_col6\" class=\"data row0 col6\" >0.4986</td>\n",
       "    </tr>\n",
       "    <tr>\n",
       "      <th id=\"T_1398e_level0_row1\" class=\"row_heading level0 row1\" >1</th>\n",
       "      <td id=\"T_1398e_row1_col0\" class=\"data row1 col0\" >0.7937</td>\n",
       "      <td id=\"T_1398e_row1_col1\" class=\"data row1 col1\" >0.8760</td>\n",
       "      <td id=\"T_1398e_row1_col2\" class=\"data row1 col2\" >0.7897</td>\n",
       "      <td id=\"T_1398e_row1_col3\" class=\"data row1 col3\" >0.5786</td>\n",
       "      <td id=\"T_1398e_row1_col4\" class=\"data row1 col4\" >0.6679</td>\n",
       "      <td id=\"T_1398e_row1_col5\" class=\"data row1 col5\" >0.5234</td>\n",
       "      <td id=\"T_1398e_row1_col6\" class=\"data row1 col6\" >0.5367</td>\n",
       "    </tr>\n",
       "    <tr>\n",
       "      <th id=\"T_1398e_level0_row2\" class=\"row_heading level0 row2\" >2</th>\n",
       "      <td id=\"T_1398e_row2_col0\" class=\"data row2 col0\" >0.7959</td>\n",
       "      <td id=\"T_1398e_row2_col1\" class=\"data row2 col1\" >0.8700</td>\n",
       "      <td id=\"T_1398e_row2_col2\" class=\"data row2 col2\" >0.7639</td>\n",
       "      <td id=\"T_1398e_row2_col3\" class=\"data row2 col3\" >0.5855</td>\n",
       "      <td id=\"T_1398e_row2_col4\" class=\"data row2 col4\" >0.6629</td>\n",
       "      <td id=\"T_1398e_row2_col5\" class=\"data row2 col5\" >0.5203</td>\n",
       "      <td id=\"T_1398e_row2_col6\" class=\"data row2 col6\" >0.5297</td>\n",
       "    </tr>\n",
       "    <tr>\n",
       "      <th id=\"T_1398e_level0_row3\" class=\"row_heading level0 row3\" >3</th>\n",
       "      <td id=\"T_1398e_row3_col0\" class=\"data row3 col0\" >0.7475</td>\n",
       "      <td id=\"T_1398e_row3_col1\" class=\"data row3 col1\" >0.8289</td>\n",
       "      <td id=\"T_1398e_row3_col2\" class=\"data row3 col2\" >0.7124</td>\n",
       "      <td id=\"T_1398e_row3_col3\" class=\"data row3 col3\" >0.5139</td>\n",
       "      <td id=\"T_1398e_row3_col4\" class=\"data row3 col4\" >0.5971</td>\n",
       "      <td id=\"T_1398e_row3_col5\" class=\"data row3 col5\" >0.4201</td>\n",
       "      <td id=\"T_1398e_row3_col6\" class=\"data row3 col6\" >0.4320</td>\n",
       "    </tr>\n",
       "    <tr>\n",
       "      <th id=\"T_1398e_level0_row4\" class=\"row_heading level0 row4\" >4</th>\n",
       "      <td id=\"T_1398e_row4_col0\" class=\"data row4 col0\" >0.7790</td>\n",
       "      <td id=\"T_1398e_row4_col1\" class=\"data row4 col1\" >0.8710</td>\n",
       "      <td id=\"T_1398e_row4_col2\" class=\"data row4 col2\" >0.7854</td>\n",
       "      <td id=\"T_1398e_row4_col3\" class=\"data row4 col3\" >0.5562</td>\n",
       "      <td id=\"T_1398e_row4_col4\" class=\"data row4 col4\" >0.6512</td>\n",
       "      <td id=\"T_1398e_row4_col5\" class=\"data row4 col5\" >0.4963</td>\n",
       "      <td id=\"T_1398e_row4_col6\" class=\"data row4 col6\" >0.5122</td>\n",
       "    </tr>\n",
       "    <tr>\n",
       "      <th id=\"T_1398e_level0_row5\" class=\"row_heading level0 row5\" >Mean</th>\n",
       "      <td id=\"T_1398e_row5_col0\" class=\"data row5 col0\" >0.7795</td>\n",
       "      <td id=\"T_1398e_row5_col1\" class=\"data row5 col1\" >0.8614</td>\n",
       "      <td id=\"T_1398e_row5_col2\" class=\"data row5 col2\" >0.7590</td>\n",
       "      <td id=\"T_1398e_row5_col3\" class=\"data row5 col3\" >0.5598</td>\n",
       "      <td id=\"T_1398e_row5_col4\" class=\"data row5 col4\" >0.6443</td>\n",
       "      <td id=\"T_1398e_row5_col5\" class=\"data row5 col5\" >0.4898</td>\n",
       "      <td id=\"T_1398e_row5_col6\" class=\"data row5 col6\" >0.5018</td>\n",
       "    </tr>\n",
       "    <tr>\n",
       "      <th id=\"T_1398e_level0_row6\" class=\"row_heading level0 row6\" >Std</th>\n",
       "      <td id=\"T_1398e_row6_col0\" class=\"data row6 col0\" >0.0173</td>\n",
       "      <td id=\"T_1398e_row6_col1\" class=\"data row6 col1\" >0.0169</td>\n",
       "      <td id=\"T_1398e_row6_col2\" class=\"data row6 col2\" >0.0285</td>\n",
       "      <td id=\"T_1398e_row6_col3\" class=\"data row6 col3\" >0.0251</td>\n",
       "      <td id=\"T_1398e_row6_col4\" class=\"data row6 col4\" >0.0252</td>\n",
       "      <td id=\"T_1398e_row6_col5\" class=\"data row6 col5\" >0.0373</td>\n",
       "      <td id=\"T_1398e_row6_col6\" class=\"data row6 col6\" >0.0374</td>\n",
       "    </tr>\n",
       "  </tbody>\n",
       "</table>\n"
      ],
      "text/plain": [
       "<pandas.io.formats.style.Styler at 0x1512ed9b250>"
      ]
     },
     "metadata": {},
     "output_type": "display_data"
    },
    {
     "data": {
      "text/html": [],
      "text/plain": [
       "<IPython.core.display.HTML object>"
      ]
     },
     "metadata": {},
     "output_type": "display_data"
    },
    {
     "name": "stdout",
     "output_type": "stream",
     "text": [
      "Fitting 5 folds for each of 10 candidates, totalling 50 fits\n",
      "Original model was better than the tuned model, hence it will be returned. NOTE: The display metrics are for the tuned model (not the original one).\n"
     ]
    }
   ],
   "source": [
    "model_ada = create_model('ada')\n",
    "model_ada = tune_model(model_ada, optimize='AUC', n_iter=10)"
   ]
  },
  {
   "cell_type": "code",
   "execution_count": 13,
   "id": "f86b085f",
   "metadata": {
    "ExecuteTime": {
     "end_time": "2024-06-23T14:22:22.708413Z",
     "start_time": "2024-06-23T14:20:18.302199Z"
    },
    "collapsed": true,
    "deletable": false,
    "editable": false,
    "hidden": true
   },
   "outputs": [
    {
     "data": {
      "text/html": [],
      "text/plain": [
       "<IPython.core.display.HTML object>"
      ]
     },
     "metadata": {},
     "output_type": "display_data"
    },
    {
     "data": {
      "text/html": [
       "<style type=\"text/css\">\n",
       "#T_c0388_row5_col0, #T_c0388_row5_col1, #T_c0388_row5_col2, #T_c0388_row5_col3, #T_c0388_row5_col4, #T_c0388_row5_col5, #T_c0388_row5_col6 {\n",
       "  background: yellow;\n",
       "}\n",
       "</style>\n",
       "<table id=\"T_c0388\">\n",
       "  <thead>\n",
       "    <tr>\n",
       "      <th class=\"blank level0\" >&nbsp;</th>\n",
       "      <th id=\"T_c0388_level0_col0\" class=\"col_heading level0 col0\" >Accuracy</th>\n",
       "      <th id=\"T_c0388_level0_col1\" class=\"col_heading level0 col1\" >AUC</th>\n",
       "      <th id=\"T_c0388_level0_col2\" class=\"col_heading level0 col2\" >Recall</th>\n",
       "      <th id=\"T_c0388_level0_col3\" class=\"col_heading level0 col3\" >Prec.</th>\n",
       "      <th id=\"T_c0388_level0_col4\" class=\"col_heading level0 col4\" >F1</th>\n",
       "      <th id=\"T_c0388_level0_col5\" class=\"col_heading level0 col5\" >Kappa</th>\n",
       "      <th id=\"T_c0388_level0_col6\" class=\"col_heading level0 col6\" >MCC</th>\n",
       "    </tr>\n",
       "    <tr>\n",
       "      <th class=\"index_name level0\" >Fold</th>\n",
       "      <th class=\"blank col0\" >&nbsp;</th>\n",
       "      <th class=\"blank col1\" >&nbsp;</th>\n",
       "      <th class=\"blank col2\" >&nbsp;</th>\n",
       "      <th class=\"blank col3\" >&nbsp;</th>\n",
       "      <th class=\"blank col4\" >&nbsp;</th>\n",
       "      <th class=\"blank col5\" >&nbsp;</th>\n",
       "      <th class=\"blank col6\" >&nbsp;</th>\n",
       "    </tr>\n",
       "  </thead>\n",
       "  <tbody>\n",
       "    <tr>\n",
       "      <th id=\"T_c0388_level0_row0\" class=\"row_heading level0 row0\" >0</th>\n",
       "      <td id=\"T_c0388_row0_col0\" class=\"data row0 col0\" >0.8153</td>\n",
       "      <td id=\"T_c0388_row0_col1\" class=\"data row0 col1\" >0.8822</td>\n",
       "      <td id=\"T_c0388_row0_col2\" class=\"data row0 col2\" >0.7137</td>\n",
       "      <td id=\"T_c0388_row0_col3\" class=\"data row0 col3\" >0.6326</td>\n",
       "      <td id=\"T_c0388_row0_col4\" class=\"data row0 col4\" >0.6707</td>\n",
       "      <td id=\"T_c0388_row0_col5\" class=\"data row0 col5\" >0.5430</td>\n",
       "      <td id=\"T_c0388_row0_col6\" class=\"data row0 col6\" >0.5449</td>\n",
       "    </tr>\n",
       "    <tr>\n",
       "      <th id=\"T_c0388_level0_row1\" class=\"row_heading level0 row1\" >1</th>\n",
       "      <td id=\"T_c0388_row1_col0\" class=\"data row1 col0\" >0.8275</td>\n",
       "      <td id=\"T_c0388_row1_col1\" class=\"data row1 col1\" >0.8862</td>\n",
       "      <td id=\"T_c0388_row1_col2\" class=\"data row1 col2\" >0.7039</td>\n",
       "      <td id=\"T_c0388_row1_col3\" class=\"data row1 col3\" >0.6613</td>\n",
       "      <td id=\"T_c0388_row1_col4\" class=\"data row1 col4\" >0.6819</td>\n",
       "      <td id=\"T_c0388_row1_col5\" class=\"data row1 col5\" >0.5637</td>\n",
       "      <td id=\"T_c0388_row1_col6\" class=\"data row1 col6\" >0.5643</td>\n",
       "    </tr>\n",
       "    <tr>\n",
       "      <th id=\"T_c0388_level0_row2\" class=\"row_heading level0 row2\" >2</th>\n",
       "      <td id=\"T_c0388_row2_col0\" class=\"data row2 col0\" >0.8365</td>\n",
       "      <td id=\"T_c0388_row2_col1\" class=\"data row2 col1\" >0.8929</td>\n",
       "      <td id=\"T_c0388_row2_col2\" class=\"data row2 col2\" >0.6996</td>\n",
       "      <td id=\"T_c0388_row2_col3\" class=\"data row2 col3\" >0.6849</td>\n",
       "      <td id=\"T_c0388_row2_col4\" class=\"data row2 col4\" >0.6921</td>\n",
       "      <td id=\"T_c0388_row2_col5\" class=\"data row2 col5\" >0.5809</td>\n",
       "      <td id=\"T_c0388_row2_col6\" class=\"data row2 col6\" >0.5809</td>\n",
       "    </tr>\n",
       "    <tr>\n",
       "      <th id=\"T_c0388_level0_row3\" class=\"row_heading level0 row3\" >3</th>\n",
       "      <td id=\"T_c0388_row3_col0\" class=\"data row3 col0\" >0.7790</td>\n",
       "      <td id=\"T_c0388_row3_col1\" class=\"data row3 col1\" >0.8390</td>\n",
       "      <td id=\"T_c0388_row3_col2\" class=\"data row3 col2\" >0.6438</td>\n",
       "      <td id=\"T_c0388_row3_col3\" class=\"data row3 col3\" >0.5703</td>\n",
       "      <td id=\"T_c0388_row3_col4\" class=\"data row3 col4\" >0.6048</td>\n",
       "      <td id=\"T_c0388_row3_col5\" class=\"data row3 col5\" >0.4523</td>\n",
       "      <td id=\"T_c0388_row3_col6\" class=\"data row3 col6\" >0.4538</td>\n",
       "    </tr>\n",
       "    <tr>\n",
       "      <th id=\"T_c0388_level0_row4\" class=\"row_heading level0 row4\" >4</th>\n",
       "      <td id=\"T_c0388_row4_col0\" class=\"data row4 col0\" >0.8106</td>\n",
       "      <td id=\"T_c0388_row4_col1\" class=\"data row4 col1\" >0.8869</td>\n",
       "      <td id=\"T_c0388_row4_col2\" class=\"data row4 col2\" >0.7039</td>\n",
       "      <td id=\"T_c0388_row4_col3\" class=\"data row4 col3\" >0.6236</td>\n",
       "      <td id=\"T_c0388_row4_col4\" class=\"data row4 col4\" >0.6613</td>\n",
       "      <td id=\"T_c0388_row4_col5\" class=\"data row4 col5\" >0.5305</td>\n",
       "      <td id=\"T_c0388_row4_col6\" class=\"data row4 col6\" >0.5324</td>\n",
       "    </tr>\n",
       "    <tr>\n",
       "      <th id=\"T_c0388_level0_row5\" class=\"row_heading level0 row5\" >Mean</th>\n",
       "      <td id=\"T_c0388_row5_col0\" class=\"data row5 col0\" >0.8138</td>\n",
       "      <td id=\"T_c0388_row5_col1\" class=\"data row5 col1\" >0.8775</td>\n",
       "      <td id=\"T_c0388_row5_col2\" class=\"data row5 col2\" >0.6929</td>\n",
       "      <td id=\"T_c0388_row5_col3\" class=\"data row5 col3\" >0.6345</td>\n",
       "      <td id=\"T_c0388_row5_col4\" class=\"data row5 col4\" >0.6622</td>\n",
       "      <td id=\"T_c0388_row5_col5\" class=\"data row5 col5\" >0.5341</td>\n",
       "      <td id=\"T_c0388_row5_col6\" class=\"data row5 col6\" >0.5353</td>\n",
       "    </tr>\n",
       "    <tr>\n",
       "      <th id=\"T_c0388_level0_row6\" class=\"row_heading level0 row6\" >Std</th>\n",
       "      <td id=\"T_c0388_row6_col0\" class=\"data row6 col0\" >0.0196</td>\n",
       "      <td id=\"T_c0388_row6_col1\" class=\"data row6 col1\" >0.0195</td>\n",
       "      <td id=\"T_c0388_row6_col2\" class=\"data row6 col2\" >0.0250</td>\n",
       "      <td id=\"T_c0388_row6_col3\" class=\"data row6 col3\" >0.0387</td>\n",
       "      <td id=\"T_c0388_row6_col4\" class=\"data row6 col4\" >0.0305</td>\n",
       "      <td id=\"T_c0388_row6_col5\" class=\"data row6 col5\" >0.0444</td>\n",
       "      <td id=\"T_c0388_row6_col6\" class=\"data row6 col6\" >0.0439</td>\n",
       "    </tr>\n",
       "  </tbody>\n",
       "</table>\n"
      ],
      "text/plain": [
       "<pandas.io.formats.style.Styler at 0x1512f2243a0>"
      ]
     },
     "metadata": {},
     "output_type": "display_data"
    },
    {
     "data": {
      "text/html": [],
      "text/plain": [
       "<IPython.core.display.HTML object>"
      ]
     },
     "metadata": {},
     "output_type": "display_data"
    },
    {
     "name": "stdout",
     "output_type": "stream",
     "text": [
      "Fitting 5 folds for each of 20 candidates, totalling 100 fits\n",
      "Original model was better than the tuned model, hence it will be returned. NOTE: The display metrics are for the tuned model (not the original one).\n"
     ]
    }
   ],
   "source": [
    "custom_grid = {'n_estimators': [50, 100, 150, 200], 'learning_rate': [0.02, 0.05, 0.1, 0.2, 0.5, 1]}\n",
    "model_ada = tune_model(model_ada, optimize='AUC', custom_grid=custom_grid, n_iter=20)"
   ]
  },
  {
   "cell_type": "code",
   "execution_count": 14,
   "id": "7f0935a2",
   "metadata": {
    "ExecuteTime": {
     "end_time": "2024-06-23T14:23:04.540298Z",
     "start_time": "2024-06-23T14:23:04.140259Z"
    },
    "deletable": false,
    "editable": false,
    "hidden": true
   },
   "outputs": [
    {
     "name": "stdout",
     "output_type": "stream",
     "text": [
      "Accuracy: 0.8154574132492114\n",
      "roc-auc: 0.8725556348074178\n",
      "              precision    recall  f1-score   support\n",
      "\n",
      "           0       0.89      0.86      0.87      1402\n",
      "           1       0.64      0.70      0.67       500\n",
      "\n",
      "    accuracy                           0.82      1902\n",
      "   macro avg       0.76      0.78      0.77      1902\n",
      "weighted avg       0.82      0.82      0.82      1902\n",
      "\n"
     ]
    }
   ],
   "source": [
    "y_pred_ada = model_ada.predict(get_config(\"X_test_transformed\"))\n",
    "y_pred_ada_proba = model_ada.predict_proba(get_config(\"X_test_transformed\"))\n",
    "\n",
    "print(\"Accuracy:\", model_ada.score(get_config(\"X_test_transformed\"), get_config(\"y_test_transformed\")))\n",
    "print(\"roc-auc:\", roc_auc_score(get_config(\"y_test_transformed\"), y_pred_ada_proba[:, 1]))\n",
    "print(classification_report(get_config(\"y_test_transformed\"), y_pred_ada))"
   ]
  },
  {
   "cell_type": "code",
   "execution_count": 15,
   "id": "8fc67134",
   "metadata": {
    "ExecuteTime": {
     "end_time": "2024-06-23T14:23:05.840015Z",
     "start_time": "2024-06-23T14:23:05.771227Z"
    },
    "deletable": false,
    "editable": false,
    "hidden": true
   },
   "outputs": [
    {
     "name": "stdout",
     "output_type": "stream",
     "text": [
      "Accuracy: 0.8241134751773049\n",
      "roc-auc: 0.8818666221812258\n",
      "              precision    recall  f1-score   support\n",
      "\n",
      "           0       0.88      0.87      0.88       502\n",
      "           1       0.69      0.72      0.70       203\n",
      "\n",
      "    accuracy                           0.82       705\n",
      "   macro avg       0.78      0.79      0.79       705\n",
      "weighted avg       0.83      0.82      0.83       705\n",
      "\n"
     ]
    }
   ],
   "source": [
    "y_pred_ada = model_ada.predict(X_test)\n",
    "y_pred_ada_proba = model_ada.predict_proba(X_test)\n",
    "\n",
    "print(\"Accuracy:\", model_ada.score(X_test, y_test))\n",
    "print(\"roc-auc:\", roc_auc_score(y_test, y_pred_ada_proba[:, 1]))\n",
    "print(classification_report(y_test, y_pred_ada))"
   ]
  },
  {
   "cell_type": "markdown",
   "id": "6ee80347",
   "metadata": {
    "ExecuteTime": {
     "end_time": "2024-06-23T10:30:40.469984Z",
     "start_time": "2024-06-23T10:30:40.453027Z"
    },
    "hidden": true
   },
   "source": [
    "#### Model with good Recall"
   ]
  },
  {
   "cell_type": "markdown",
   "id": "d0e26656",
   "metadata": {
    "ExecuteTime": {
     "end_time": "2024-06-23T10:33:40.140678Z",
     "start_time": "2024-06-23T10:33:40.122764Z"
    },
    "heading_collapsed": true,
    "hidden": true
   },
   "source": [
    "##### KNN"
   ]
  },
  {
   "cell_type": "code",
   "execution_count": 16,
   "id": "ca075923",
   "metadata": {
    "ExecuteTime": {
     "end_time": "2024-06-23T14:24:02.738220Z",
     "start_time": "2024-06-23T14:23:36.135575Z"
    },
    "collapsed": true,
    "deletable": false,
    "editable": false,
    "hidden": true
   },
   "outputs": [
    {
     "data": {
      "text/html": [],
      "text/plain": [
       "<IPython.core.display.HTML object>"
      ]
     },
     "metadata": {},
     "output_type": "display_data"
    },
    {
     "data": {
      "text/html": [
       "<style type=\"text/css\">\n",
       "#T_1614b_row5_col0, #T_1614b_row5_col1, #T_1614b_row5_col2, #T_1614b_row5_col3, #T_1614b_row5_col4, #T_1614b_row5_col5, #T_1614b_row5_col6 {\n",
       "  background: yellow;\n",
       "}\n",
       "</style>\n",
       "<table id=\"T_1614b\">\n",
       "  <thead>\n",
       "    <tr>\n",
       "      <th class=\"blank level0\" >&nbsp;</th>\n",
       "      <th id=\"T_1614b_level0_col0\" class=\"col_heading level0 col0\" >Accuracy</th>\n",
       "      <th id=\"T_1614b_level0_col1\" class=\"col_heading level0 col1\" >AUC</th>\n",
       "      <th id=\"T_1614b_level0_col2\" class=\"col_heading level0 col2\" >Recall</th>\n",
       "      <th id=\"T_1614b_level0_col3\" class=\"col_heading level0 col3\" >Prec.</th>\n",
       "      <th id=\"T_1614b_level0_col4\" class=\"col_heading level0 col4\" >F1</th>\n",
       "      <th id=\"T_1614b_level0_col5\" class=\"col_heading level0 col5\" >Kappa</th>\n",
       "      <th id=\"T_1614b_level0_col6\" class=\"col_heading level0 col6\" >MCC</th>\n",
       "    </tr>\n",
       "    <tr>\n",
       "      <th class=\"index_name level0\" >Fold</th>\n",
       "      <th class=\"blank col0\" >&nbsp;</th>\n",
       "      <th class=\"blank col1\" >&nbsp;</th>\n",
       "      <th class=\"blank col2\" >&nbsp;</th>\n",
       "      <th class=\"blank col3\" >&nbsp;</th>\n",
       "      <th class=\"blank col4\" >&nbsp;</th>\n",
       "      <th class=\"blank col5\" >&nbsp;</th>\n",
       "      <th class=\"blank col6\" >&nbsp;</th>\n",
       "    </tr>\n",
       "  </thead>\n",
       "  <tbody>\n",
       "    <tr>\n",
       "      <th id=\"T_1614b_level0_row0\" class=\"row_heading level0 row0\" >0</th>\n",
       "      <td id=\"T_1614b_row0_col0\" class=\"data row0 col0\" >0.7444</td>\n",
       "      <td id=\"T_1614b_row0_col1\" class=\"data row0 col1\" >0.8038</td>\n",
       "      <td id=\"T_1614b_row0_col2\" class=\"data row0 col2\" >0.7521</td>\n",
       "      <td id=\"T_1614b_row0_col3\" class=\"data row0 col3\" >0.5101</td>\n",
       "      <td id=\"T_1614b_row0_col4\" class=\"data row0 col4\" >0.6079</td>\n",
       "      <td id=\"T_1614b_row0_col5\" class=\"data row0 col5\" >0.4285</td>\n",
       "      <td id=\"T_1614b_row0_col6\" class=\"data row0 col6\" >0.4462</td>\n",
       "    </tr>\n",
       "    <tr>\n",
       "      <th id=\"T_1614b_level0_row1\" class=\"row_heading level0 row1\" >1</th>\n",
       "      <td id=\"T_1614b_row1_col0\" class=\"data row1 col0\" >0.7475</td>\n",
       "      <td id=\"T_1614b_row1_col1\" class=\"data row1 col1\" >0.8265</td>\n",
       "      <td id=\"T_1614b_row1_col2\" class=\"data row1 col2\" >0.7768</td>\n",
       "      <td id=\"T_1614b_row1_col3\" class=\"data row1 col3\" >0.5127</td>\n",
       "      <td id=\"T_1614b_row1_col4\" class=\"data row1 col4\" >0.6177</td>\n",
       "      <td id=\"T_1614b_row1_col5\" class=\"data row1 col5\" >0.4408</td>\n",
       "      <td id=\"T_1614b_row1_col6\" class=\"data row1 col6\" >0.4620</td>\n",
       "    </tr>\n",
       "    <tr>\n",
       "      <th id=\"T_1614b_level0_row2\" class=\"row_heading level0 row2\" >2</th>\n",
       "      <td id=\"T_1614b_row2_col0\" class=\"data row2 col0\" >0.7531</td>\n",
       "      <td id=\"T_1614b_row2_col1\" class=\"data row2 col1\" >0.8157</td>\n",
       "      <td id=\"T_1614b_row2_col2\" class=\"data row2 col2\" >0.7811</td>\n",
       "      <td id=\"T_1614b_row2_col3\" class=\"data row2 col3\" >0.5200</td>\n",
       "      <td id=\"T_1614b_row2_col4\" class=\"data row2 col4\" >0.6244</td>\n",
       "      <td id=\"T_1614b_row2_col5\" class=\"data row2 col5\" >0.4513</td>\n",
       "      <td id=\"T_1614b_row2_col6\" class=\"data row2 col6\" >0.4720</td>\n",
       "    </tr>\n",
       "    <tr>\n",
       "      <th id=\"T_1614b_level0_row3\" class=\"row_heading level0 row3\" >3</th>\n",
       "      <td id=\"T_1614b_row3_col0\" class=\"data row3 col0\" >0.7148</td>\n",
       "      <td id=\"T_1614b_row3_col1\" class=\"data row3 col1\" >0.7864</td>\n",
       "      <td id=\"T_1614b_row3_col2\" class=\"data row3 col2\" >0.7940</td>\n",
       "      <td id=\"T_1614b_row3_col3\" class=\"data row3 col3\" >0.4744</td>\n",
       "      <td id=\"T_1614b_row3_col4\" class=\"data row3 col4\" >0.5939</td>\n",
       "      <td id=\"T_1614b_row3_col5\" class=\"data row3 col5\" >0.3949</td>\n",
       "      <td id=\"T_1614b_row3_col6\" class=\"data row3 col6\" >0.4261</td>\n",
       "    </tr>\n",
       "    <tr>\n",
       "      <th id=\"T_1614b_level0_row4\" class=\"row_heading level0 row4\" >4</th>\n",
       "      <td id=\"T_1614b_row4_col0\" class=\"data row4 col0\" >0.7136</td>\n",
       "      <td id=\"T_1614b_row4_col1\" class=\"data row4 col1\" >0.7921</td>\n",
       "      <td id=\"T_1614b_row4_col2\" class=\"data row4 col2\" >0.7725</td>\n",
       "      <td id=\"T_1614b_row4_col3\" class=\"data row4 col3\" >0.4724</td>\n",
       "      <td id=\"T_1614b_row4_col4\" class=\"data row4 col4\" >0.5863</td>\n",
       "      <td id=\"T_1614b_row4_col5\" class=\"data row4 col5\" >0.3862</td>\n",
       "      <td id=\"T_1614b_row4_col6\" class=\"data row4 col6\" >0.4136</td>\n",
       "    </tr>\n",
       "    <tr>\n",
       "      <th id=\"T_1614b_level0_row5\" class=\"row_heading level0 row5\" >Mean</th>\n",
       "      <td id=\"T_1614b_row5_col0\" class=\"data row5 col0\" >0.7347</td>\n",
       "      <td id=\"T_1614b_row5_col1\" class=\"data row5 col1\" >0.8049</td>\n",
       "      <td id=\"T_1614b_row5_col2\" class=\"data row5 col2\" >0.7753</td>\n",
       "      <td id=\"T_1614b_row5_col3\" class=\"data row5 col3\" >0.4979</td>\n",
       "      <td id=\"T_1614b_row5_col4\" class=\"data row5 col4\" >0.6061</td>\n",
       "      <td id=\"T_1614b_row5_col5\" class=\"data row5 col5\" >0.4203</td>\n",
       "      <td id=\"T_1614b_row5_col6\" class=\"data row5 col6\" >0.4440</td>\n",
       "    </tr>\n",
       "    <tr>\n",
       "      <th id=\"T_1614b_level0_row6\" class=\"row_heading level0 row6\" >Std</th>\n",
       "      <td id=\"T_1614b_row6_col0\" class=\"data row6 col0\" >0.0169</td>\n",
       "      <td id=\"T_1614b_row6_col1\" class=\"data row6 col1\" >0.0148</td>\n",
       "      <td id=\"T_1614b_row6_col2\" class=\"data row6 col2\" >0.0136</td>\n",
       "      <td id=\"T_1614b_row6_col3\" class=\"data row6 col3\" >0.0203</td>\n",
       "      <td id=\"T_1614b_row6_col4\" class=\"data row6 col4\" >0.0142</td>\n",
       "      <td id=\"T_1614b_row6_col5\" class=\"data row6 col5\" >0.0255</td>\n",
       "      <td id=\"T_1614b_row6_col6\" class=\"data row6 col6\" >0.0217</td>\n",
       "    </tr>\n",
       "  </tbody>\n",
       "</table>\n"
      ],
      "text/plain": [
       "<pandas.io.formats.style.Styler at 0x1512f60a340>"
      ]
     },
     "metadata": {},
     "output_type": "display_data"
    },
    {
     "data": {
      "text/html": [],
      "text/plain": [
       "<IPython.core.display.HTML object>"
      ]
     },
     "metadata": {},
     "output_type": "display_data"
    },
    {
     "data": {
      "text/html": [],
      "text/plain": [
       "<IPython.core.display.HTML object>"
      ]
     },
     "metadata": {},
     "output_type": "display_data"
    },
    {
     "data": {
      "text/html": [
       "<style type=\"text/css\">\n",
       "#T_e2184_row5_col0, #T_e2184_row5_col1, #T_e2184_row5_col2, #T_e2184_row5_col3, #T_e2184_row5_col4, #T_e2184_row5_col5, #T_e2184_row5_col6 {\n",
       "  background: yellow;\n",
       "}\n",
       "</style>\n",
       "<table id=\"T_e2184\">\n",
       "  <thead>\n",
       "    <tr>\n",
       "      <th class=\"blank level0\" >&nbsp;</th>\n",
       "      <th id=\"T_e2184_level0_col0\" class=\"col_heading level0 col0\" >Accuracy</th>\n",
       "      <th id=\"T_e2184_level0_col1\" class=\"col_heading level0 col1\" >AUC</th>\n",
       "      <th id=\"T_e2184_level0_col2\" class=\"col_heading level0 col2\" >Recall</th>\n",
       "      <th id=\"T_e2184_level0_col3\" class=\"col_heading level0 col3\" >Prec.</th>\n",
       "      <th id=\"T_e2184_level0_col4\" class=\"col_heading level0 col4\" >F1</th>\n",
       "      <th id=\"T_e2184_level0_col5\" class=\"col_heading level0 col5\" >Kappa</th>\n",
       "      <th id=\"T_e2184_level0_col6\" class=\"col_heading level0 col6\" >MCC</th>\n",
       "    </tr>\n",
       "    <tr>\n",
       "      <th class=\"index_name level0\" >Fold</th>\n",
       "      <th class=\"blank col0\" >&nbsp;</th>\n",
       "      <th class=\"blank col1\" >&nbsp;</th>\n",
       "      <th class=\"blank col2\" >&nbsp;</th>\n",
       "      <th class=\"blank col3\" >&nbsp;</th>\n",
       "      <th class=\"blank col4\" >&nbsp;</th>\n",
       "      <th class=\"blank col5\" >&nbsp;</th>\n",
       "      <th class=\"blank col6\" >&nbsp;</th>\n",
       "    </tr>\n",
       "  </thead>\n",
       "  <tbody>\n",
       "    <tr>\n",
       "      <th id=\"T_e2184_level0_row0\" class=\"row_heading level0 row0\" >0</th>\n",
       "      <td id=\"T_e2184_row0_col0\" class=\"data row0 col0\" >0.7275</td>\n",
       "      <td id=\"T_e2184_row0_col1\" class=\"data row0 col1\" >0.8231</td>\n",
       "      <td id=\"T_e2184_row0_col2\" class=\"data row0 col2\" >0.7991</td>\n",
       "      <td id=\"T_e2184_row0_col3\" class=\"data row0 col3\" >0.4895</td>\n",
       "      <td id=\"T_e2184_row0_col4\" class=\"data row0 col4\" >0.6071</td>\n",
       "      <td id=\"T_e2184_row0_col5\" class=\"data row0 col5\" >0.4164</td>\n",
       "      <td id=\"T_e2184_row0_col6\" class=\"data row0 col6\" >0.4458</td>\n",
       "    </tr>\n",
       "    <tr>\n",
       "      <th id=\"T_e2184_level0_row1\" class=\"row_heading level0 row1\" >1</th>\n",
       "      <td id=\"T_e2184_row1_col0\" class=\"data row1 col0\" >0.7666</td>\n",
       "      <td id=\"T_e2184_row1_col1\" class=\"data row1 col1\" >0.8614</td>\n",
       "      <td id=\"T_e2184_row1_col2\" class=\"data row1 col2\" >0.8541</td>\n",
       "      <td id=\"T_e2184_row1_col3\" class=\"data row1 col3\" >0.5349</td>\n",
       "      <td id=\"T_e2184_row1_col4\" class=\"data row1 col4\" >0.6579</td>\n",
       "      <td id=\"T_e2184_row1_col5\" class=\"data row1 col5\" >0.4946</td>\n",
       "      <td id=\"T_e2184_row1_col6\" class=\"data row1 col6\" >0.5258</td>\n",
       "    </tr>\n",
       "    <tr>\n",
       "      <th id=\"T_e2184_level0_row2\" class=\"row_heading level0 row2\" >2</th>\n",
       "      <td id=\"T_e2184_row2_col0\" class=\"data row2 col0\" >0.7373</td>\n",
       "      <td id=\"T_e2184_row2_col1\" class=\"data row2 col1\" >0.8314</td>\n",
       "      <td id=\"T_e2184_row2_col2\" class=\"data row2 col2\" >0.7854</td>\n",
       "      <td id=\"T_e2184_row2_col3\" class=\"data row2 col3\" >0.5000</td>\n",
       "      <td id=\"T_e2184_row2_col4\" class=\"data row2 col4\" >0.6110</td>\n",
       "      <td id=\"T_e2184_row2_col5\" class=\"data row2 col5\" >0.4271</td>\n",
       "      <td id=\"T_e2184_row2_col6\" class=\"data row2 col6\" >0.4520</td>\n",
       "    </tr>\n",
       "    <tr>\n",
       "      <th id=\"T_e2184_level0_row3\" class=\"row_heading level0 row3\" >3</th>\n",
       "      <td id=\"T_e2184_row3_col0\" class=\"data row3 col0\" >0.7035</td>\n",
       "      <td id=\"T_e2184_row3_col1\" class=\"data row3 col1\" >0.7951</td>\n",
       "      <td id=\"T_e2184_row3_col2\" class=\"data row3 col2\" >0.7854</td>\n",
       "      <td id=\"T_e2184_row3_col3\" class=\"data row3 col3\" >0.4621</td>\n",
       "      <td id=\"T_e2184_row3_col4\" class=\"data row3 col4\" >0.5819</td>\n",
       "      <td id=\"T_e2184_row3_col5\" class=\"data row3 col5\" >0.3752</td>\n",
       "      <td id=\"T_e2184_row3_col6\" class=\"data row3 col6\" >0.4070</td>\n",
       "    </tr>\n",
       "    <tr>\n",
       "      <th id=\"T_e2184_level0_row4\" class=\"row_heading level0 row4\" >4</th>\n",
       "      <td id=\"T_e2184_row4_col0\" class=\"data row4 col0\" >0.7193</td>\n",
       "      <td id=\"T_e2184_row4_col1\" class=\"data row4 col1\" >0.8332</td>\n",
       "      <td id=\"T_e2184_row4_col2\" class=\"data row4 col2\" >0.8412</td>\n",
       "      <td id=\"T_e2184_row4_col3\" class=\"data row4 col3\" >0.4804</td>\n",
       "      <td id=\"T_e2184_row4_col4\" class=\"data row4 col4\" >0.6115</td>\n",
       "      <td id=\"T_e2184_row4_col5\" class=\"data row4 col5\" >0.4164</td>\n",
       "      <td id=\"T_e2184_row4_col6\" class=\"data row4 col6\" >0.4566</td>\n",
       "    </tr>\n",
       "    <tr>\n",
       "      <th id=\"T_e2184_level0_row5\" class=\"row_heading level0 row5\" >Mean</th>\n",
       "      <td id=\"T_e2184_row5_col0\" class=\"data row5 col0\" >0.7308</td>\n",
       "      <td id=\"T_e2184_row5_col1\" class=\"data row5 col1\" >0.8288</td>\n",
       "      <td id=\"T_e2184_row5_col2\" class=\"data row5 col2\" >0.8130</td>\n",
       "      <td id=\"T_e2184_row5_col3\" class=\"data row5 col3\" >0.4934</td>\n",
       "      <td id=\"T_e2184_row5_col4\" class=\"data row5 col4\" >0.6139</td>\n",
       "      <td id=\"T_e2184_row5_col5\" class=\"data row5 col5\" >0.4259</td>\n",
       "      <td id=\"T_e2184_row5_col6\" class=\"data row5 col6\" >0.4574</td>\n",
       "    </tr>\n",
       "    <tr>\n",
       "      <th id=\"T_e2184_level0_row6\" class=\"row_heading level0 row6\" >Std</th>\n",
       "      <td id=\"T_e2184_row6_col0\" class=\"data row6 col0\" >0.0211</td>\n",
       "      <td id=\"T_e2184_row6_col1\" class=\"data row6 col1\" >0.0212</td>\n",
       "      <td id=\"T_e2184_row6_col2\" class=\"data row6 col2\" >0.0290</td>\n",
       "      <td id=\"T_e2184_row6_col3\" class=\"data row6 col3\" >0.0242</td>\n",
       "      <td id=\"T_e2184_row6_col4\" class=\"data row6 col4\" >0.0246</td>\n",
       "      <td id=\"T_e2184_row6_col5\" class=\"data row6 col5\" >0.0386</td>\n",
       "      <td id=\"T_e2184_row6_col6\" class=\"data row6 col6\" >0.0384</td>\n",
       "    </tr>\n",
       "  </tbody>\n",
       "</table>\n"
      ],
      "text/plain": [
       "<pandas.io.formats.style.Styler at 0x1512f29a7f0>"
      ]
     },
     "metadata": {},
     "output_type": "display_data"
    },
    {
     "data": {
      "text/html": [],
      "text/plain": [
       "<IPython.core.display.HTML object>"
      ]
     },
     "metadata": {},
     "output_type": "display_data"
    },
    {
     "name": "stdout",
     "output_type": "stream",
     "text": [
      "Fitting 5 folds for each of 10 candidates, totalling 50 fits\n"
     ]
    }
   ],
   "source": [
    "model_knn = create_model('knn')\n",
    "model_knn = tune_model(model_knn, optimize='recall', n_iter=10)"
   ]
  },
  {
   "cell_type": "code",
   "execution_count": 17,
   "id": "df7618b5",
   "metadata": {
    "ExecuteTime": {
     "end_time": "2024-06-23T14:24:33.750408Z",
     "start_time": "2024-06-23T14:24:32.994872Z"
    },
    "deletable": false,
    "editable": false,
    "hidden": true
   },
   "outputs": [
    {
     "name": "stdout",
     "output_type": "stream",
     "text": [
      "Accuracy: 0.7276550998948476\n",
      "roc-auc: 0.8075463623395148\n",
      "              precision    recall  f1-score   support\n",
      "\n",
      "           0       0.89      0.71      0.79      1402\n",
      "           1       0.49      0.76      0.60       500\n",
      "\n",
      "    accuracy                           0.73      1902\n",
      "   macro avg       0.69      0.74      0.70      1902\n",
      "weighted avg       0.79      0.73      0.74      1902\n",
      "\n"
     ]
    }
   ],
   "source": [
    "y_pred_knn = model_knn.predict(get_config(\"X_test_transformed\"))\n",
    "y_pred_knn_proba = model_knn.predict_proba(get_config(\"X_test_transformed\"))\n",
    "\n",
    "print(\"Accuracy:\", model_knn.score(get_config(\"X_test_transformed\"), get_config(\"y_test_transformed\")))\n",
    "print(\"roc-auc:\", roc_auc_score(get_config(\"y_test_transformed\"), y_pred_knn_proba[:, 1]))\n",
    "print(classification_report(get_config(\"y_test_transformed\"), y_pred_knn))"
   ]
  },
  {
   "cell_type": "code",
   "execution_count": 18,
   "id": "5e0d567f",
   "metadata": {
    "ExecuteTime": {
     "end_time": "2024-06-23T14:24:36.520010Z",
     "start_time": "2024-06-23T14:24:36.289316Z"
    },
    "deletable": false,
    "editable": false,
    "hidden": true
   },
   "outputs": [
    {
     "name": "stdout",
     "output_type": "stream",
     "text": [
      "Accuracy: 0.7475177304964539\n",
      "roc-auc: 0.8389741526504818\n",
      "              precision    recall  f1-score   support\n",
      "\n",
      "           0       0.89      0.73      0.81       502\n",
      "           1       0.54      0.78      0.64       203\n",
      "\n",
      "    accuracy                           0.75       705\n",
      "   macro avg       0.72      0.76      0.72       705\n",
      "weighted avg       0.79      0.75      0.76       705\n",
      "\n"
     ]
    }
   ],
   "source": [
    "y_pred_knn = model_knn.predict(X_test)\n",
    "y_pred_knn_proba = model_knn.predict_proba(X_test)\n",
    "\n",
    "print(\"Accuracy:\", model_knn.score(X_test, y_test))\n",
    "print(\"roc-auc:\", roc_auc_score(y_test, y_pred_knn_proba[:, 1]))\n",
    "print(classification_report(y_test, y_pred_knn))"
   ]
  },
  {
   "cell_type": "markdown",
   "id": "b86054e9",
   "metadata": {
    "ExecuteTime": {
     "end_time": "2024-06-23T10:33:55.614762Z",
     "start_time": "2024-06-23T10:33:55.599801Z"
    },
    "deletable": false,
    "editable": false,
    "hidden": true,
    "run_control": {
     "frozen": true
    }
   },
   "source": [
    "##### Logistic Regression"
   ]
  },
  {
   "cell_type": "code",
   "execution_count": 21,
   "id": "747dd963",
   "metadata": {
    "ExecuteTime": {
     "end_time": "2024-06-23T14:27:00.355938Z",
     "start_time": "2024-06-23T14:26:01.499178Z"
    },
    "collapsed": true,
    "deletable": false,
    "editable": false,
    "hidden": true
   },
   "outputs": [
    {
     "data": {
      "text/html": [],
      "text/plain": [
       "<IPython.core.display.HTML object>"
      ]
     },
     "metadata": {},
     "output_type": "display_data"
    },
    {
     "data": {
      "text/html": [
       "<style type=\"text/css\">\n",
       "#T_e0b39_row5_col0, #T_e0b39_row5_col1, #T_e0b39_row5_col2, #T_e0b39_row5_col3, #T_e0b39_row5_col4, #T_e0b39_row5_col5, #T_e0b39_row5_col6 {\n",
       "  background: yellow;\n",
       "}\n",
       "</style>\n",
       "<table id=\"T_e0b39\">\n",
       "  <thead>\n",
       "    <tr>\n",
       "      <th class=\"blank level0\" >&nbsp;</th>\n",
       "      <th id=\"T_e0b39_level0_col0\" class=\"col_heading level0 col0\" >Accuracy</th>\n",
       "      <th id=\"T_e0b39_level0_col1\" class=\"col_heading level0 col1\" >AUC</th>\n",
       "      <th id=\"T_e0b39_level0_col2\" class=\"col_heading level0 col2\" >Recall</th>\n",
       "      <th id=\"T_e0b39_level0_col3\" class=\"col_heading level0 col3\" >Prec.</th>\n",
       "      <th id=\"T_e0b39_level0_col4\" class=\"col_heading level0 col4\" >F1</th>\n",
       "      <th id=\"T_e0b39_level0_col5\" class=\"col_heading level0 col5\" >Kappa</th>\n",
       "      <th id=\"T_e0b39_level0_col6\" class=\"col_heading level0 col6\" >MCC</th>\n",
       "    </tr>\n",
       "    <tr>\n",
       "      <th class=\"index_name level0\" >Fold</th>\n",
       "      <th class=\"blank col0\" >&nbsp;</th>\n",
       "      <th class=\"blank col1\" >&nbsp;</th>\n",
       "      <th class=\"blank col2\" >&nbsp;</th>\n",
       "      <th class=\"blank col3\" >&nbsp;</th>\n",
       "      <th class=\"blank col4\" >&nbsp;</th>\n",
       "      <th class=\"blank col5\" >&nbsp;</th>\n",
       "      <th class=\"blank col6\" >&nbsp;</th>\n",
       "    </tr>\n",
       "  </thead>\n",
       "  <tbody>\n",
       "    <tr>\n",
       "      <th id=\"T_e0b39_level0_row0\" class=\"row_heading level0 row0\" >0</th>\n",
       "      <td id=\"T_e0b39_row0_col0\" class=\"data row0 col0\" >0.7815</td>\n",
       "      <td id=\"T_e0b39_row0_col1\" class=\"data row0 col1\" >0.8490</td>\n",
       "      <td id=\"T_e0b39_row0_col2\" class=\"data row0 col2\" >0.7051</td>\n",
       "      <td id=\"T_e0b39_row0_col3\" class=\"data row0 col3\" >0.5690</td>\n",
       "      <td id=\"T_e0b39_row0_col4\" class=\"data row0 col4\" >0.6298</td>\n",
       "      <td id=\"T_e0b39_row0_col5\" class=\"data row0 col5\" >0.4773</td>\n",
       "      <td id=\"T_e0b39_row0_col6\" class=\"data row0 col6\" >0.4828</td>\n",
       "    </tr>\n",
       "    <tr>\n",
       "      <th id=\"T_e0b39_level0_row1\" class=\"row_heading level0 row1\" >1</th>\n",
       "      <td id=\"T_e0b39_row1_col0\" class=\"data row1 col0\" >0.7948</td>\n",
       "      <td id=\"T_e0b39_row1_col1\" class=\"data row1 col1\" >0.8670</td>\n",
       "      <td id=\"T_e0b39_row1_col2\" class=\"data row1 col2\" >0.7854</td>\n",
       "      <td id=\"T_e0b39_row1_col3\" class=\"data row1 col3\" >0.5810</td>\n",
       "      <td id=\"T_e0b39_row1_col4\" class=\"data row1 col4\" >0.6679</td>\n",
       "      <td id=\"T_e0b39_row1_col5\" class=\"data row1 col5\" >0.5242</td>\n",
       "      <td id=\"T_e0b39_row1_col6\" class=\"data row1 col6\" >0.5367</td>\n",
       "    </tr>\n",
       "    <tr>\n",
       "      <th id=\"T_e0b39_level0_row2\" class=\"row_heading level0 row2\" >2</th>\n",
       "      <td id=\"T_e0b39_row2_col0\" class=\"data row2 col0\" >0.7802</td>\n",
       "      <td id=\"T_e0b39_row2_col1\" class=\"data row2 col1\" >0.8491</td>\n",
       "      <td id=\"T_e0b39_row2_col2\" class=\"data row2 col2\" >0.7210</td>\n",
       "      <td id=\"T_e0b39_row2_col3\" class=\"data row2 col3\" >0.5638</td>\n",
       "      <td id=\"T_e0b39_row2_col4\" class=\"data row2 col4\" >0.6328</td>\n",
       "      <td id=\"T_e0b39_row2_col5\" class=\"data row2 col5\" >0.4792</td>\n",
       "      <td id=\"T_e0b39_row2_col6\" class=\"data row2 col6\" >0.4866</td>\n",
       "    </tr>\n",
       "    <tr>\n",
       "      <th id=\"T_e0b39_level0_row3\" class=\"row_heading level0 row3\" >3</th>\n",
       "      <td id=\"T_e0b39_row3_col0\" class=\"data row3 col0\" >0.7362</td>\n",
       "      <td id=\"T_e0b39_row3_col1\" class=\"data row3 col1\" >0.8067</td>\n",
       "      <td id=\"T_e0b39_row3_col2\" class=\"data row3 col2\" >0.6352</td>\n",
       "      <td id=\"T_e0b39_row3_col3\" class=\"data row3 col3\" >0.4983</td>\n",
       "      <td id=\"T_e0b39_row3_col4\" class=\"data row3 col4\" >0.5585</td>\n",
       "      <td id=\"T_e0b39_row3_col5\" class=\"data row3 col5\" >0.3743</td>\n",
       "      <td id=\"T_e0b39_row3_col6\" class=\"data row3 col6\" >0.3799</td>\n",
       "    </tr>\n",
       "    <tr>\n",
       "      <th id=\"T_e0b39_level0_row4\" class=\"row_heading level0 row4\" >4</th>\n",
       "      <td id=\"T_e0b39_row4_col0\" class=\"data row4 col0\" >0.7734</td>\n",
       "      <td id=\"T_e0b39_row4_col1\" class=\"data row4 col1\" >0.8552</td>\n",
       "      <td id=\"T_e0b39_row4_col2\" class=\"data row4 col2\" >0.7597</td>\n",
       "      <td id=\"T_e0b39_row4_col3\" class=\"data row4 col3\" >0.5497</td>\n",
       "      <td id=\"T_e0b39_row4_col4\" class=\"data row4 col4\" >0.6378</td>\n",
       "      <td id=\"T_e0b39_row4_col5\" class=\"data row4 col5\" >0.4790</td>\n",
       "      <td id=\"T_e0b39_row4_col6\" class=\"data row4 col6\" >0.4923</td>\n",
       "    </tr>\n",
       "    <tr>\n",
       "      <th id=\"T_e0b39_level0_row5\" class=\"row_heading level0 row5\" >Mean</th>\n",
       "      <td id=\"T_e0b39_row5_col0\" class=\"data row5 col0\" >0.7732</td>\n",
       "      <td id=\"T_e0b39_row5_col1\" class=\"data row5 col1\" >0.8454</td>\n",
       "      <td id=\"T_e0b39_row5_col2\" class=\"data row5 col2\" >0.7213</td>\n",
       "      <td id=\"T_e0b39_row5_col3\" class=\"data row5 col3\" >0.5523</td>\n",
       "      <td id=\"T_e0b39_row5_col4\" class=\"data row5 col4\" >0.6254</td>\n",
       "      <td id=\"T_e0b39_row5_col5\" class=\"data row5 col5\" >0.4668</td>\n",
       "      <td id=\"T_e0b39_row5_col6\" class=\"data row5 col6\" >0.4757</td>\n",
       "    </tr>\n",
       "    <tr>\n",
       "      <th id=\"T_e0b39_level0_row6\" class=\"row_heading level0 row6\" >Std</th>\n",
       "      <td id=\"T_e0b39_row6_col0\" class=\"data row6 col0\" >0.0198</td>\n",
       "      <td id=\"T_e0b39_row6_col1\" class=\"data row6 col1\" >0.0205</td>\n",
       "      <td id=\"T_e0b39_row6_col2\" class=\"data row6 col2\" >0.0515</td>\n",
       "      <td id=\"T_e0b39_row6_col3\" class=\"data row6 col3\" >0.0288</td>\n",
       "      <td id=\"T_e0b39_row6_col4\" class=\"data row6 col4\" >0.0361</td>\n",
       "      <td id=\"T_e0b39_row6_col5\" class=\"data row6 col5\" >0.0495</td>\n",
       "      <td id=\"T_e0b39_row6_col6\" class=\"data row6 col6\" >0.0517</td>\n",
       "    </tr>\n",
       "  </tbody>\n",
       "</table>\n"
      ],
      "text/plain": [
       "<pandas.io.formats.style.Styler at 0x1512f2b1520>"
      ]
     },
     "metadata": {},
     "output_type": "display_data"
    },
    {
     "data": {
      "text/html": [],
      "text/plain": [
       "<IPython.core.display.HTML object>"
      ]
     },
     "metadata": {},
     "output_type": "display_data"
    },
    {
     "data": {
      "text/html": [],
      "text/plain": [
       "<IPython.core.display.HTML object>"
      ]
     },
     "metadata": {},
     "output_type": "display_data"
    },
    {
     "data": {
      "text/html": [
       "<style type=\"text/css\">\n",
       "#T_950fd_row5_col0, #T_950fd_row5_col1, #T_950fd_row5_col2, #T_950fd_row5_col3, #T_950fd_row5_col4, #T_950fd_row5_col5, #T_950fd_row5_col6 {\n",
       "  background: yellow;\n",
       "}\n",
       "</style>\n",
       "<table id=\"T_950fd\">\n",
       "  <thead>\n",
       "    <tr>\n",
       "      <th class=\"blank level0\" >&nbsp;</th>\n",
       "      <th id=\"T_950fd_level0_col0\" class=\"col_heading level0 col0\" >Accuracy</th>\n",
       "      <th id=\"T_950fd_level0_col1\" class=\"col_heading level0 col1\" >AUC</th>\n",
       "      <th id=\"T_950fd_level0_col2\" class=\"col_heading level0 col2\" >Recall</th>\n",
       "      <th id=\"T_950fd_level0_col3\" class=\"col_heading level0 col3\" >Prec.</th>\n",
       "      <th id=\"T_950fd_level0_col4\" class=\"col_heading level0 col4\" >F1</th>\n",
       "      <th id=\"T_950fd_level0_col5\" class=\"col_heading level0 col5\" >Kappa</th>\n",
       "      <th id=\"T_950fd_level0_col6\" class=\"col_heading level0 col6\" >MCC</th>\n",
       "    </tr>\n",
       "    <tr>\n",
       "      <th class=\"index_name level0\" >Fold</th>\n",
       "      <th class=\"blank col0\" >&nbsp;</th>\n",
       "      <th class=\"blank col1\" >&nbsp;</th>\n",
       "      <th class=\"blank col2\" >&nbsp;</th>\n",
       "      <th class=\"blank col3\" >&nbsp;</th>\n",
       "      <th class=\"blank col4\" >&nbsp;</th>\n",
       "      <th class=\"blank col5\" >&nbsp;</th>\n",
       "      <th class=\"blank col6\" >&nbsp;</th>\n",
       "    </tr>\n",
       "  </thead>\n",
       "  <tbody>\n",
       "    <tr>\n",
       "      <th id=\"T_950fd_level0_row0\" class=\"row_heading level0 row0\" >0</th>\n",
       "      <td id=\"T_950fd_row0_col0\" class=\"data row0 col0\" >0.7714</td>\n",
       "      <td id=\"T_950fd_row0_col1\" class=\"data row0 col1\" >0.8451</td>\n",
       "      <td id=\"T_950fd_row0_col2\" class=\"data row0 col2\" >0.7564</td>\n",
       "      <td id=\"T_950fd_row0_col3\" class=\"data row0 col3\" >0.5480</td>\n",
       "      <td id=\"T_950fd_row0_col4\" class=\"data row0 col4\" >0.6355</td>\n",
       "      <td id=\"T_950fd_row0_col5\" class=\"data row0 col5\" >0.4751</td>\n",
       "      <td id=\"T_950fd_row0_col6\" class=\"data row0 col6\" >0.4882</td>\n",
       "    </tr>\n",
       "    <tr>\n",
       "      <th id=\"T_950fd_level0_row1\" class=\"row_heading level0 row1\" >1</th>\n",
       "      <td id=\"T_950fd_row1_col0\" class=\"data row1 col0\" >0.7880</td>\n",
       "      <td id=\"T_950fd_row1_col1\" class=\"data row1 col1\" >0.8692</td>\n",
       "      <td id=\"T_950fd_row1_col2\" class=\"data row1 col2\" >0.8112</td>\n",
       "      <td id=\"T_950fd_row1_col3\" class=\"data row1 col3\" >0.5676</td>\n",
       "      <td id=\"T_950fd_row1_col4\" class=\"data row1 col4\" >0.6678</td>\n",
       "      <td id=\"T_950fd_row1_col5\" class=\"data row1 col5\" >0.5192</td>\n",
       "      <td id=\"T_950fd_row1_col6\" class=\"data row1 col6\" >0.5371</td>\n",
       "    </tr>\n",
       "    <tr>\n",
       "      <th id=\"T_950fd_level0_row2\" class=\"row_heading level0 row2\" >2</th>\n",
       "      <td id=\"T_950fd_row2_col0\" class=\"data row2 col0\" >0.7689</td>\n",
       "      <td id=\"T_950fd_row2_col1\" class=\"data row2 col1\" >0.8553</td>\n",
       "      <td id=\"T_950fd_row2_col2\" class=\"data row2 col2\" >0.7511</td>\n",
       "      <td id=\"T_950fd_row2_col3\" class=\"data row2 col3\" >0.5435</td>\n",
       "      <td id=\"T_950fd_row2_col4\" class=\"data row2 col4\" >0.6306</td>\n",
       "      <td id=\"T_950fd_row2_col5\" class=\"data row2 col5\" >0.4687</td>\n",
       "      <td id=\"T_950fd_row2_col6\" class=\"data row2 col6\" >0.4817</td>\n",
       "    </tr>\n",
       "    <tr>\n",
       "      <th id=\"T_950fd_level0_row3\" class=\"row_heading level0 row3\" >3</th>\n",
       "      <td id=\"T_950fd_row3_col0\" class=\"data row3 col0\" >0.7418</td>\n",
       "      <td id=\"T_950fd_row3_col1\" class=\"data row3 col1\" >0.8117</td>\n",
       "      <td id=\"T_950fd_row3_col2\" class=\"data row3 col2\" >0.6996</td>\n",
       "      <td id=\"T_950fd_row3_col3\" class=\"data row3 col3\" >0.5062</td>\n",
       "      <td id=\"T_950fd_row3_col4\" class=\"data row3 col4\" >0.5874</td>\n",
       "      <td id=\"T_950fd_row3_col5\" class=\"data row3 col5\" >0.4065</td>\n",
       "      <td id=\"T_950fd_row3_col6\" class=\"data row3 col6\" >0.4177</td>\n",
       "    </tr>\n",
       "    <tr>\n",
       "      <th id=\"T_950fd_level0_row4\" class=\"row_heading level0 row4\" >4</th>\n",
       "      <td id=\"T_950fd_row4_col0\" class=\"data row4 col0\" >0.7678</td>\n",
       "      <td id=\"T_950fd_row4_col1\" class=\"data row4 col1\" >0.8615</td>\n",
       "      <td id=\"T_950fd_row4_col2\" class=\"data row4 col2\" >0.8069</td>\n",
       "      <td id=\"T_950fd_row4_col3\" class=\"data row4 col3\" >0.5387</td>\n",
       "      <td id=\"T_950fd_row4_col4\" class=\"data row4 col4\" >0.6460</td>\n",
       "      <td id=\"T_950fd_row4_col5\" class=\"data row4 col5\" >0.4833</td>\n",
       "      <td id=\"T_950fd_row4_col6\" class=\"data row4 col6\" >0.5051</td>\n",
       "    </tr>\n",
       "    <tr>\n",
       "      <th id=\"T_950fd_level0_row5\" class=\"row_heading level0 row5\" >Mean</th>\n",
       "      <td id=\"T_950fd_row5_col0\" class=\"data row5 col0\" >0.7676</td>\n",
       "      <td id=\"T_950fd_row5_col1\" class=\"data row5 col1\" >0.8485</td>\n",
       "      <td id=\"T_950fd_row5_col2\" class=\"data row5 col2\" >0.7650</td>\n",
       "      <td id=\"T_950fd_row5_col3\" class=\"data row5 col3\" >0.5408</td>\n",
       "      <td id=\"T_950fd_row5_col4\" class=\"data row5 col4\" >0.6335</td>\n",
       "      <td id=\"T_950fd_row5_col5\" class=\"data row5 col5\" >0.4706</td>\n",
       "      <td id=\"T_950fd_row5_col6\" class=\"data row5 col6\" >0.4860</td>\n",
       "    </tr>\n",
       "    <tr>\n",
       "      <th id=\"T_950fd_level0_row6\" class=\"row_heading level0 row6\" >Std</th>\n",
       "      <td id=\"T_950fd_row6_col0\" class=\"data row6 col0\" >0.0148</td>\n",
       "      <td id=\"T_950fd_row6_col1\" class=\"data row6 col1\" >0.0201</td>\n",
       "      <td id=\"T_950fd_row6_col2\" class=\"data row6 col2\" >0.0411</td>\n",
       "      <td id=\"T_950fd_row6_col3\" class=\"data row6 col3\" >0.0199</td>\n",
       "      <td id=\"T_950fd_row6_col4\" class=\"data row6 col4\" >0.0264</td>\n",
       "      <td id=\"T_950fd_row6_col5\" class=\"data row6 col5\" >0.0365</td>\n",
       "      <td id=\"T_950fd_row6_col6\" class=\"data row6 col6\" >0.0391</td>\n",
       "    </tr>\n",
       "  </tbody>\n",
       "</table>\n"
      ],
      "text/plain": [
       "<pandas.io.formats.style.Styler at 0x1512f4bbb50>"
      ]
     },
     "metadata": {},
     "output_type": "display_data"
    },
    {
     "data": {
      "text/html": [],
      "text/plain": [
       "<IPython.core.display.HTML object>"
      ]
     },
     "metadata": {},
     "output_type": "display_data"
    },
    {
     "name": "stdout",
     "output_type": "stream",
     "text": [
      "Fitting 5 folds for each of 10 candidates, totalling 50 fits\n"
     ]
    }
   ],
   "source": [
    "model_lr = create_model('lr')\n",
    "model_lr = tune_model(model_lr, optimize='recall', n_iter=10)"
   ]
  },
  {
   "cell_type": "code",
   "execution_count": 22,
   "id": "bc95b565",
   "metadata": {
    "ExecuteTime": {
     "end_time": "2024-06-23T14:27:40.732879Z",
     "start_time": "2024-06-23T14:27:40.399492Z"
    },
    "deletable": false,
    "editable": false,
    "hidden": true
   },
   "outputs": [
    {
     "name": "stdout",
     "output_type": "stream",
     "text": [
      "Accuracy: 0.7697160883280757\n",
      "roc-auc: 0.8449486447931527\n",
      "              precision    recall  f1-score   support\n",
      "\n",
      "           0       0.89      0.78      0.83      1402\n",
      "           1       0.55      0.74      0.63       500\n",
      "\n",
      "    accuracy                           0.77      1902\n",
      "   macro avg       0.72      0.76      0.73      1902\n",
      "weighted avg       0.80      0.77      0.78      1902\n",
      "\n"
     ]
    }
   ],
   "source": [
    "y_pred_lr = model_lr.predict(get_config(\"X_test_transformed\"))\n",
    "y_pred_lr_proba = model_lr.predict_proba(get_config(\"X_test_transformed\"))\n",
    "\n",
    "print(\"Accuracy:\", model_lr.score(get_config(\"X_test_transformed\"), get_config(\"y_test_transformed\")))\n",
    "print(\"roc-auc:\", roc_auc_score(get_config(\"y_test_transformed\"), y_pred_lr_proba[:, 1]))\n",
    "print(classification_report(get_config(\"y_test_transformed\"), y_pred_lr))"
   ]
  },
  {
   "cell_type": "code",
   "execution_count": 26,
   "id": "1505ffc8",
   "metadata": {
    "ExecuteTime": {
     "end_time": "2024-06-23T14:29:01.410316Z",
     "start_time": "2024-06-23T14:29:01.368645Z"
    },
    "deletable": false,
    "editable": false,
    "hidden": true
   },
   "outputs": [
    {
     "name": "stdout",
     "output_type": "stream",
     "text": [
      "Accuracy: 0.7943262411347518\n",
      "roc-auc: 0.8668576923831766\n",
      "              precision    recall  f1-score   support\n",
      "\n",
      "           0       0.90      0.80      0.85       502\n",
      "           1       0.61      0.77      0.68       203\n",
      "\n",
      "    accuracy                           0.79       705\n",
      "   macro avg       0.76      0.79      0.77       705\n",
      "weighted avg       0.82      0.79      0.80       705\n",
      "\n"
     ]
    }
   ],
   "source": [
    "y_pred_lr = model_lr.predict(X_test)\n",
    "y_pred_lr_proba = model_lr.predict_proba(X_test)\n",
    "\n",
    "print(\"Accuracy:\", model_lr.score(X_test, y_test))\n",
    "print(\"roc-auc:\", roc_auc_score(y_test, y_pred_lr_proba[:, 1]))\n",
    "print(classification_report(y_test, y_pred_lr))"
   ]
  },
  {
   "cell_type": "markdown",
   "id": "2caa632e",
   "metadata": {
    "ExecuteTime": {
     "end_time": "2024-06-23T14:28:01.945736Z",
     "start_time": "2024-06-23T14:28:01.936983Z"
    },
    "deletable": false,
    "editable": false,
    "heading_collapsed": true,
    "hidden": true,
    "run_control": {
     "frozen": true
    }
   },
   "source": [
    "##### Naive Bayes"
   ]
  },
  {
   "cell_type": "code",
   "execution_count": 25,
   "id": "a45537b3",
   "metadata": {
    "ExecuteTime": {
     "end_time": "2024-06-23T14:28:41.742732Z",
     "start_time": "2024-06-23T14:28:19.564067Z"
    },
    "collapsed": true,
    "deletable": false,
    "editable": false,
    "hidden": true
   },
   "outputs": [
    {
     "data": {
      "text/html": [],
      "text/plain": [
       "<IPython.core.display.HTML object>"
      ]
     },
     "metadata": {},
     "output_type": "display_data"
    },
    {
     "data": {
      "text/html": [
       "<style type=\"text/css\">\n",
       "#T_edff7_row5_col0, #T_edff7_row5_col1, #T_edff7_row5_col2, #T_edff7_row5_col3, #T_edff7_row5_col4, #T_edff7_row5_col5, #T_edff7_row5_col6 {\n",
       "  background: yellow;\n",
       "}\n",
       "</style>\n",
       "<table id=\"T_edff7\">\n",
       "  <thead>\n",
       "    <tr>\n",
       "      <th class=\"blank level0\" >&nbsp;</th>\n",
       "      <th id=\"T_edff7_level0_col0\" class=\"col_heading level0 col0\" >Accuracy</th>\n",
       "      <th id=\"T_edff7_level0_col1\" class=\"col_heading level0 col1\" >AUC</th>\n",
       "      <th id=\"T_edff7_level0_col2\" class=\"col_heading level0 col2\" >Recall</th>\n",
       "      <th id=\"T_edff7_level0_col3\" class=\"col_heading level0 col3\" >Prec.</th>\n",
       "      <th id=\"T_edff7_level0_col4\" class=\"col_heading level0 col4\" >F1</th>\n",
       "      <th id=\"T_edff7_level0_col5\" class=\"col_heading level0 col5\" >Kappa</th>\n",
       "      <th id=\"T_edff7_level0_col6\" class=\"col_heading level0 col6\" >MCC</th>\n",
       "    </tr>\n",
       "    <tr>\n",
       "      <th class=\"index_name level0\" >Fold</th>\n",
       "      <th class=\"blank col0\" >&nbsp;</th>\n",
       "      <th class=\"blank col1\" >&nbsp;</th>\n",
       "      <th class=\"blank col2\" >&nbsp;</th>\n",
       "      <th class=\"blank col3\" >&nbsp;</th>\n",
       "      <th class=\"blank col4\" >&nbsp;</th>\n",
       "      <th class=\"blank col5\" >&nbsp;</th>\n",
       "      <th class=\"blank col6\" >&nbsp;</th>\n",
       "    </tr>\n",
       "  </thead>\n",
       "  <tbody>\n",
       "    <tr>\n",
       "      <th id=\"T_edff7_level0_row0\" class=\"row_heading level0 row0\" >0</th>\n",
       "      <td id=\"T_edff7_row0_col0\" class=\"data row0 col0\" >0.6993</td>\n",
       "      <td id=\"T_edff7_row0_col1\" class=\"data row0 col1\" >0.8052</td>\n",
       "      <td id=\"T_edff7_row0_col2\" class=\"data row0 col2\" >0.8376</td>\n",
       "      <td id=\"T_edff7_row0_col3\" class=\"data row0 col3\" >0.4612</td>\n",
       "      <td id=\"T_edff7_row0_col4\" class=\"data row0 col4\" >0.5948</td>\n",
       "      <td id=\"T_edff7_row0_col5\" class=\"data row0 col5\" >0.3862</td>\n",
       "      <td id=\"T_edff7_row0_col6\" class=\"data row0 col6\" >0.4299</td>\n",
       "    </tr>\n",
       "    <tr>\n",
       "      <th id=\"T_edff7_level0_row1\" class=\"row_heading level0 row1\" >1</th>\n",
       "      <td id=\"T_edff7_row1_col0\" class=\"data row1 col0\" >0.7069</td>\n",
       "      <td id=\"T_edff7_row1_col1\" class=\"data row1 col1\" >0.8274</td>\n",
       "      <td id=\"T_edff7_row1_col2\" class=\"data row1 col2\" >0.8841</td>\n",
       "      <td id=\"T_edff7_row1_col3\" class=\"data row1 col3\" >0.4692</td>\n",
       "      <td id=\"T_edff7_row1_col4\" class=\"data row1 col4\" >0.6131</td>\n",
       "      <td id=\"T_edff7_row1_col5\" class=\"data row1 col5\" >0.4109</td>\n",
       "      <td id=\"T_edff7_row1_col6\" class=\"data row1 col6\" >0.4646</td>\n",
       "    </tr>\n",
       "    <tr>\n",
       "      <th id=\"T_edff7_level0_row2\" class=\"row_heading level0 row2\" >2</th>\n",
       "      <td id=\"T_edff7_row2_col0\" class=\"data row2 col0\" >0.7283</td>\n",
       "      <td id=\"T_edff7_row2_col1\" class=\"data row2 col1\" >0.8440</td>\n",
       "      <td id=\"T_edff7_row2_col2\" class=\"data row2 col2\" >0.8412</td>\n",
       "      <td id=\"T_edff7_row2_col3\" class=\"data row2 col3\" >0.4900</td>\n",
       "      <td id=\"T_edff7_row2_col4\" class=\"data row2 col4\" >0.6193</td>\n",
       "      <td id=\"T_edff7_row2_col5\" class=\"data row2 col5\" >0.4301</td>\n",
       "      <td id=\"T_edff7_row2_col6\" class=\"data row2 col6\" >0.4681</td>\n",
       "    </tr>\n",
       "    <tr>\n",
       "      <th id=\"T_edff7_level0_row3\" class=\"row_heading level0 row3\" >3</th>\n",
       "      <td id=\"T_edff7_row3_col0\" class=\"data row3 col0\" >0.6708</td>\n",
       "      <td id=\"T_edff7_row3_col1\" class=\"data row3 col1\" >0.7887</td>\n",
       "      <td id=\"T_edff7_row3_col2\" class=\"data row3 col2\" >0.8026</td>\n",
       "      <td id=\"T_edff7_row3_col3\" class=\"data row3 col3\" >0.4319</td>\n",
       "      <td id=\"T_edff7_row3_col4\" class=\"data row3 col4\" >0.5616</td>\n",
       "      <td id=\"T_edff7_row3_col5\" class=\"data row3 col5\" >0.3341</td>\n",
       "      <td id=\"T_edff7_row3_col6\" class=\"data row3 col6\" >0.3754</td>\n",
       "    </tr>\n",
       "    <tr>\n",
       "      <th id=\"T_edff7_level0_row4\" class=\"row_heading level0 row4\" >4</th>\n",
       "      <td id=\"T_edff7_row4_col0\" class=\"data row4 col0\" >0.6933</td>\n",
       "      <td id=\"T_edff7_row4_col1\" class=\"data row4 col1\" >0.8364</td>\n",
       "      <td id=\"T_edff7_row4_col2\" class=\"data row4 col2\" >0.8670</td>\n",
       "      <td id=\"T_edff7_row4_col3\" class=\"data row4 col3\" >0.4560</td>\n",
       "      <td id=\"T_edff7_row4_col4\" class=\"data row4 col4\" >0.5976</td>\n",
       "      <td id=\"T_edff7_row4_col5\" class=\"data row4 col5\" >0.3864</td>\n",
       "      <td id=\"T_edff7_row4_col6\" class=\"data row4 col6\" >0.4387</td>\n",
       "    </tr>\n",
       "    <tr>\n",
       "      <th id=\"T_edff7_level0_row5\" class=\"row_heading level0 row5\" >Mean</th>\n",
       "      <td id=\"T_edff7_row5_col0\" class=\"data row5 col0\" >0.6997</td>\n",
       "      <td id=\"T_edff7_row5_col1\" class=\"data row5 col1\" >0.8204</td>\n",
       "      <td id=\"T_edff7_row5_col2\" class=\"data row5 col2\" >0.8465</td>\n",
       "      <td id=\"T_edff7_row5_col3\" class=\"data row5 col3\" >0.4617</td>\n",
       "      <td id=\"T_edff7_row5_col4\" class=\"data row5 col4\" >0.5973</td>\n",
       "      <td id=\"T_edff7_row5_col5\" class=\"data row5 col5\" >0.3895</td>\n",
       "      <td id=\"T_edff7_row5_col6\" class=\"data row5 col6\" >0.4354</td>\n",
       "    </tr>\n",
       "    <tr>\n",
       "      <th id=\"T_edff7_level0_row6\" class=\"row_heading level0 row6\" >Std</th>\n",
       "      <td id=\"T_edff7_row6_col0\" class=\"data row6 col0\" >0.0187</td>\n",
       "      <td id=\"T_edff7_row6_col1\" class=\"data row6 col1\" >0.0205</td>\n",
       "      <td id=\"T_edff7_row6_col2\" class=\"data row6 col2\" >0.0278</td>\n",
       "      <td id=\"T_edff7_row6_col3\" class=\"data row6 col3\" >0.0189</td>\n",
       "      <td id=\"T_edff7_row6_col4\" class=\"data row6 col4\" >0.0201</td>\n",
       "      <td id=\"T_edff7_row6_col5\" class=\"data row6 col5\" >0.0322</td>\n",
       "      <td id=\"T_edff7_row6_col6\" class=\"data row6 col6\" >0.0334</td>\n",
       "    </tr>\n",
       "  </tbody>\n",
       "</table>\n"
      ],
      "text/plain": [
       "<pandas.io.formats.style.Styler at 0x1512f20f7c0>"
      ]
     },
     "metadata": {},
     "output_type": "display_data"
    },
    {
     "data": {
      "text/html": [],
      "text/plain": [
       "<IPython.core.display.HTML object>"
      ]
     },
     "metadata": {},
     "output_type": "display_data"
    },
    {
     "data": {
      "text/html": [],
      "text/plain": [
       "<IPython.core.display.HTML object>"
      ]
     },
     "metadata": {},
     "output_type": "display_data"
    },
    {
     "data": {
      "text/html": [
       "<style type=\"text/css\">\n",
       "#T_ad468_row5_col0, #T_ad468_row5_col1, #T_ad468_row5_col2, #T_ad468_row5_col3, #T_ad468_row5_col4, #T_ad468_row5_col5, #T_ad468_row5_col6 {\n",
       "  background: yellow;\n",
       "}\n",
       "</style>\n",
       "<table id=\"T_ad468\">\n",
       "  <thead>\n",
       "    <tr>\n",
       "      <th class=\"blank level0\" >&nbsp;</th>\n",
       "      <th id=\"T_ad468_level0_col0\" class=\"col_heading level0 col0\" >Accuracy</th>\n",
       "      <th id=\"T_ad468_level0_col1\" class=\"col_heading level0 col1\" >AUC</th>\n",
       "      <th id=\"T_ad468_level0_col2\" class=\"col_heading level0 col2\" >Recall</th>\n",
       "      <th id=\"T_ad468_level0_col3\" class=\"col_heading level0 col3\" >Prec.</th>\n",
       "      <th id=\"T_ad468_level0_col4\" class=\"col_heading level0 col4\" >F1</th>\n",
       "      <th id=\"T_ad468_level0_col5\" class=\"col_heading level0 col5\" >Kappa</th>\n",
       "      <th id=\"T_ad468_level0_col6\" class=\"col_heading level0 col6\" >MCC</th>\n",
       "    </tr>\n",
       "    <tr>\n",
       "      <th class=\"index_name level0\" >Fold</th>\n",
       "      <th class=\"blank col0\" >&nbsp;</th>\n",
       "      <th class=\"blank col1\" >&nbsp;</th>\n",
       "      <th class=\"blank col2\" >&nbsp;</th>\n",
       "      <th class=\"blank col3\" >&nbsp;</th>\n",
       "      <th class=\"blank col4\" >&nbsp;</th>\n",
       "      <th class=\"blank col5\" >&nbsp;</th>\n",
       "      <th class=\"blank col6\" >&nbsp;</th>\n",
       "    </tr>\n",
       "  </thead>\n",
       "  <tbody>\n",
       "    <tr>\n",
       "      <th id=\"T_ad468_level0_row0\" class=\"row_heading level0 row0\" >0</th>\n",
       "      <td id=\"T_ad468_row0_col0\" class=\"data row0 col0\" >0.7016</td>\n",
       "      <td id=\"T_ad468_row0_col1\" class=\"data row0 col1\" >0.8065</td>\n",
       "      <td id=\"T_ad468_row0_col2\" class=\"data row0 col2\" >0.8248</td>\n",
       "      <td id=\"T_ad468_row0_col3\" class=\"data row0 col3\" >0.4628</td>\n",
       "      <td id=\"T_ad468_row0_col4\" class=\"data row0 col4\" >0.5929</td>\n",
       "      <td id=\"T_ad468_row0_col5\" class=\"data row0 col5\" >0.3855</td>\n",
       "      <td id=\"T_ad468_row0_col6\" class=\"data row0 col6\" >0.4257</td>\n",
       "    </tr>\n",
       "    <tr>\n",
       "      <th id=\"T_ad468_level0_row1\" class=\"row_heading level0 row1\" >1</th>\n",
       "      <td id=\"T_ad468_row1_col0\" class=\"data row1 col0\" >0.7125</td>\n",
       "      <td id=\"T_ad468_row1_col1\" class=\"data row1 col1\" >0.8299</td>\n",
       "      <td id=\"T_ad468_row1_col2\" class=\"data row1 col2\" >0.8712</td>\n",
       "      <td id=\"T_ad468_row1_col3\" class=\"data row1 col3\" >0.4743</td>\n",
       "      <td id=\"T_ad468_row1_col4\" class=\"data row1 col4\" >0.6142</td>\n",
       "      <td id=\"T_ad468_row1_col5\" class=\"data row1 col5\" >0.4153</td>\n",
       "      <td id=\"T_ad468_row1_col6\" class=\"data row1 col6\" >0.4643</td>\n",
       "    </tr>\n",
       "    <tr>\n",
       "      <th id=\"T_ad468_level0_row2\" class=\"row_heading level0 row2\" >2</th>\n",
       "      <td id=\"T_ad468_row2_col0\" class=\"data row2 col0\" >0.7362</td>\n",
       "      <td id=\"T_ad468_row2_col1\" class=\"data row2 col1\" >0.8420</td>\n",
       "      <td id=\"T_ad468_row2_col2\" class=\"data row2 col2\" >0.8240</td>\n",
       "      <td id=\"T_ad468_row2_col3\" class=\"data row2 col3\" >0.4987</td>\n",
       "      <td id=\"T_ad468_row2_col4\" class=\"data row2 col4\" >0.6214</td>\n",
       "      <td id=\"T_ad468_row2_col5\" class=\"data row2 col5\" >0.4371</td>\n",
       "      <td id=\"T_ad468_row2_col6\" class=\"data row2 col6\" >0.4697</td>\n",
       "    </tr>\n",
       "    <tr>\n",
       "      <th id=\"T_ad468_level0_row3\" class=\"row_heading level0 row3\" >3</th>\n",
       "      <td id=\"T_ad468_row3_col0\" class=\"data row3 col0\" >0.6855</td>\n",
       "      <td id=\"T_ad468_row3_col1\" class=\"data row3 col1\" >0.7948</td>\n",
       "      <td id=\"T_ad468_row3_col2\" class=\"data row3 col2\" >0.7811</td>\n",
       "      <td id=\"T_ad468_row3_col3\" class=\"data row3 col3\" >0.4439</td>\n",
       "      <td id=\"T_ad468_row3_col4\" class=\"data row3 col4\" >0.5661</td>\n",
       "      <td id=\"T_ad468_row3_col5\" class=\"data row3 col5\" >0.3475</td>\n",
       "      <td id=\"T_ad468_row3_col6\" class=\"data row3 col6\" >0.3818</td>\n",
       "    </tr>\n",
       "    <tr>\n",
       "      <th id=\"T_ad468_level0_row4\" class=\"row_heading level0 row4\" >4</th>\n",
       "      <td id=\"T_ad468_row4_col0\" class=\"data row4 col0\" >0.7057</td>\n",
       "      <td id=\"T_ad468_row4_col1\" class=\"data row4 col1\" >0.8399</td>\n",
       "      <td id=\"T_ad468_row4_col2\" class=\"data row4 col2\" >0.8541</td>\n",
       "      <td id=\"T_ad468_row4_col3\" class=\"data row4 col3\" >0.4671</td>\n",
       "      <td id=\"T_ad468_row4_col4\" class=\"data row4 col4\" >0.6039</td>\n",
       "      <td id=\"T_ad468_row4_col5\" class=\"data row4 col5\" >0.4003</td>\n",
       "      <td id=\"T_ad468_row4_col6\" class=\"data row4 col6\" >0.4466</td>\n",
       "    </tr>\n",
       "    <tr>\n",
       "      <th id=\"T_ad468_level0_row5\" class=\"row_heading level0 row5\" >Mean</th>\n",
       "      <td id=\"T_ad468_row5_col0\" class=\"data row5 col0\" >0.7083</td>\n",
       "      <td id=\"T_ad468_row5_col1\" class=\"data row5 col1\" >0.8226</td>\n",
       "      <td id=\"T_ad468_row5_col2\" class=\"data row5 col2\" >0.8311</td>\n",
       "      <td id=\"T_ad468_row5_col3\" class=\"data row5 col3\" >0.4694</td>\n",
       "      <td id=\"T_ad468_row5_col4\" class=\"data row5 col4\" >0.5997</td>\n",
       "      <td id=\"T_ad468_row5_col5\" class=\"data row5 col5\" >0.3971</td>\n",
       "      <td id=\"T_ad468_row5_col6\" class=\"data row5 col6\" >0.4376</td>\n",
       "    </tr>\n",
       "    <tr>\n",
       "      <th id=\"T_ad468_level0_row6\" class=\"row_heading level0 row6\" >Std</th>\n",
       "      <td id=\"T_ad468_row6_col0\" class=\"data row6 col0\" >0.0165</td>\n",
       "      <td id=\"T_ad468_row6_col1\" class=\"data row6 col1\" >0.0188</td>\n",
       "      <td id=\"T_ad468_row6_col2\" class=\"data row6 col2\" >0.0307</td>\n",
       "      <td id=\"T_ad468_row6_col3\" class=\"data row6 col3\" >0.0178</td>\n",
       "      <td id=\"T_ad468_row6_col4\" class=\"data row6 col4\" >0.0194</td>\n",
       "      <td id=\"T_ad468_row6_col5\" class=\"data row6 col5\" >0.0301</td>\n",
       "      <td id=\"T_ad468_row6_col6\" class=\"data row6 col6\" >0.0319</td>\n",
       "    </tr>\n",
       "  </tbody>\n",
       "</table>\n"
      ],
      "text/plain": [
       "<pandas.io.formats.style.Styler at 0x1512f3f08e0>"
      ]
     },
     "metadata": {},
     "output_type": "display_data"
    },
    {
     "data": {
      "text/html": [],
      "text/plain": [
       "<IPython.core.display.HTML object>"
      ]
     },
     "metadata": {},
     "output_type": "display_data"
    },
    {
     "name": "stdout",
     "output_type": "stream",
     "text": [
      "Fitting 5 folds for each of 10 candidates, totalling 50 fits\n",
      "Original model was better than the tuned model, hence it will be returned. NOTE: The display metrics are for the tuned model (not the original one).\n"
     ]
    }
   ],
   "source": [
    "model_nb = create_model('nb')\n",
    "model_nb = tune_model(model_nb, optimize='recall', n_iter=10)"
   ]
  },
  {
   "cell_type": "code",
   "execution_count": 27,
   "id": "3a853079",
   "metadata": {
    "ExecuteTime": {
     "end_time": "2024-06-23T14:29:56.934733Z",
     "start_time": "2024-06-23T14:29:56.591629Z"
    },
    "deletable": false,
    "editable": false,
    "hidden": true
   },
   "outputs": [
    {
     "name": "stdout",
     "output_type": "stream",
     "text": [
      "Accuracy: 0.6882229232386962\n",
      "roc-auc: 0.8241526390870184\n",
      "              precision    recall  f1-score   support\n",
      "\n",
      "           0       0.92      0.63      0.75      1402\n",
      "           1       0.45      0.84      0.59       500\n",
      "\n",
      "    accuracy                           0.69      1902\n",
      "   macro avg       0.68      0.74      0.67      1902\n",
      "weighted avg       0.80      0.69      0.71      1902\n",
      "\n"
     ]
    }
   ],
   "source": [
    "y_pred_nb = model_nb.predict(get_config(\"X_test_transformed\"))\n",
    "y_pred_nb_proba = model_nb.predict_proba(get_config(\"X_test_transformed\"))\n",
    "\n",
    "print(\"Accuracy:\", model_nb.score(get_config(\"X_test_transformed\"), get_config(\"y_test_transformed\")))\n",
    "print(\"roc-auc:\", roc_auc_score(get_config(\"y_test_transformed\"), y_pred_nb_proba[:, 1]))\n",
    "print(classification_report(get_config(\"y_test_transformed\"), y_pred_nb))"
   ]
  },
  {
   "cell_type": "code",
   "execution_count": 28,
   "id": "57e86c19",
   "metadata": {
    "ExecuteTime": {
     "end_time": "2024-06-23T14:30:01.473565Z",
     "start_time": "2024-06-23T14:30:01.438022Z"
    },
    "deletable": false,
    "editable": false,
    "hidden": true
   },
   "outputs": [
    {
     "name": "stdout",
     "output_type": "stream",
     "text": [
      "Accuracy: 0.724822695035461\n",
      "roc-auc: 0.8469177477282985\n",
      "              precision    recall  f1-score   support\n",
      "\n",
      "           0       0.91      0.68      0.78       502\n",
      "           1       0.51      0.84      0.64       203\n",
      "\n",
      "    accuracy                           0.72       705\n",
      "   macro avg       0.71      0.76      0.71       705\n",
      "weighted avg       0.80      0.72      0.74       705\n",
      "\n"
     ]
    }
   ],
   "source": [
    "y_pred_nb = model_nb.predict(X_test)\n",
    "y_pred_nb_proba = model_nb.predict_proba(X_test)\n",
    "\n",
    "print(\"Accuracy:\", model_nb.score(X_test, y_test))\n",
    "print(\"roc-auc:\", roc_auc_score(y_test, y_pred_nb_proba[:, 1]))\n",
    "print(classification_report(y_test, y_pred_nb))"
   ]
  },
  {
   "cell_type": "code",
   "execution_count": null,
   "id": "ed647f94",
   "metadata": {
    "ExecuteTime": {
     "end_time": "2024-06-18T08:02:23.332624Z",
     "start_time": "2024-06-18T08:02:23.016417Z"
    },
    "deletable": false,
    "editable": false,
    "hidden": true
   },
   "outputs": [],
   "source": [
    "evaluate_model(model_ada)"
   ]
  },
  {
   "cell_type": "code",
   "execution_count": null,
   "id": "76125c46",
   "metadata": {
    "ExecuteTime": {
     "end_time": "2024-06-18T08:02:33.666920Z",
     "start_time": "2024-06-18T08:02:33.367153Z"
    },
    "deletable": false,
    "editable": false,
    "hidden": true
   },
   "outputs": [],
   "source": [
    "evaluate_model(model_nb)"
   ]
  },
  {
   "cell_type": "markdown",
   "id": "f2e917d6",
   "metadata": {
    "ExecuteTime": {
     "end_time": "2024-06-18T03:03:57.709277Z",
     "start_time": "2024-06-18T03:03:57.692487Z"
    },
    "deletable": false,
    "editable": false,
    "run_control": {
     "frozen": true
    }
   },
   "source": [
    "### Selected Model"
   ]
  },
  {
   "cell_type": "markdown",
   "id": "0b5297cf",
   "metadata": {
    "deletable": false,
    "editable": false,
    "run_control": {
     "frozen": true
    }
   },
   "source": [
    "To address our churn analysis needs, we have selected two distinct models based on their strengths in specific performance metrics. Below is a detailed description of our model choices:\n",
    "\n",
    "1. Adaptive Boosting (ADA) Model\n",
    "    - Objective: Achieve a high AUC (Area Under the Curve) score.\n",
    "    - Model Characteristics:\n",
    "        - Boosting Technique: ADA improves the performance of weak learners sequentially to create a strong learner.\n",
    "        - Feature Handling: Capable of handling both numerical and categorical features effectively.\n",
    "        - Imbalance Management: Efficiently manages class imbalances often present in churn data.\n",
    "    - Expected Outcome: High AUC score, indicating strong overall model performance in distinguishing churned customers.\n",
    "2. Logistic Regression Model\n",
    "    - Objective: Maximize recall score for the positive class (churned customers). We assume that the cost of acquiring new customers is higher than retaining existing ones.        \n",
    "    - Model Characteristics:\n",
    "        - Interpretability: Provides clear insight into feature importance and the direction of their effect.\n",
    "        - Regularization: Supports techniques like L1 and L2 regularization to prevent overfitting.\n",
    "        - Performance on Imbalanced Data: Can be adjusted (e.g., by altering the decision threshold) to improve recall, which is particularly useful when the cost of missing a churned customer is high.\n",
    "    - Expected Outcome: High recall score, ensuring that the majority of churned customers are identified."
   ]
  },
  {
   "cell_type": "markdown",
   "id": "a93a2a60",
   "metadata": {
    "ExecuteTime": {
     "end_time": "2024-06-23T19:27:17.263827Z",
     "start_time": "2024-06-23T19:27:17.251868Z"
    },
    "deletable": false,
    "editable": false,
    "run_control": {
     "frozen": true
    }
   },
   "source": [
    "#### Experiment Setup"
   ]
  },
  {
   "cell_type": "code",
   "execution_count": 35,
   "id": "3ff8a932",
   "metadata": {
    "ExecuteTime": {
     "end_time": "2024-06-23T19:33:47.314086Z",
     "start_time": "2024-06-23T19:33:45.608635Z"
    },
    "collapsed": true,
    "deletable": false,
    "editable": false
   },
   "outputs": [
    {
     "name": "stdout",
     "output_type": "stream",
     "text": [
      "above top cap (tenure | 1): 23\n",
      "above top cap (TotalCharges | 1): 109\n"
     ]
    },
    {
     "data": {
      "text/html": [
       "<style type=\"text/css\">\n",
       "#T_d6c82_row9_col1, #T_d6c82_row15_col1, #T_d6c82_row17_col1 {\n",
       "  background-color: lightgreen;\n",
       "}\n",
       "</style>\n",
       "<table id=\"T_d6c82\">\n",
       "  <thead>\n",
       "    <tr>\n",
       "      <th class=\"blank level0\" >&nbsp;</th>\n",
       "      <th id=\"T_d6c82_level0_col0\" class=\"col_heading level0 col0\" >Description</th>\n",
       "      <th id=\"T_d6c82_level0_col1\" class=\"col_heading level0 col1\" >Value</th>\n",
       "    </tr>\n",
       "  </thead>\n",
       "  <tbody>\n",
       "    <tr>\n",
       "      <th id=\"T_d6c82_level0_row0\" class=\"row_heading level0 row0\" >0</th>\n",
       "      <td id=\"T_d6c82_row0_col0\" class=\"data row0 col0\" >Session id</td>\n",
       "      <td id=\"T_d6c82_row0_col1\" class=\"data row0 col1\" >123</td>\n",
       "    </tr>\n",
       "    <tr>\n",
       "      <th id=\"T_d6c82_level0_row1\" class=\"row_heading level0 row1\" >1</th>\n",
       "      <td id=\"T_d6c82_row1_col0\" class=\"data row1 col0\" >Target</td>\n",
       "      <td id=\"T_d6c82_row1_col1\" class=\"data row1 col1\" >Churn</td>\n",
       "    </tr>\n",
       "    <tr>\n",
       "      <th id=\"T_d6c82_level0_row2\" class=\"row_heading level0 row2\" >2</th>\n",
       "      <td id=\"T_d6c82_row2_col0\" class=\"data row2 col0\" >Target type</td>\n",
       "      <td id=\"T_d6c82_row2_col1\" class=\"data row2 col1\" >Binary</td>\n",
       "    </tr>\n",
       "    <tr>\n",
       "      <th id=\"T_d6c82_level0_row3\" class=\"row_heading level0 row3\" >3</th>\n",
       "      <td id=\"T_d6c82_row3_col0\" class=\"data row3 col0\" >Original data shape</td>\n",
       "      <td id=\"T_d6c82_row3_col1\" class=\"data row3 col1\" >(6338, 20)</td>\n",
       "    </tr>\n",
       "    <tr>\n",
       "      <th id=\"T_d6c82_level0_row4\" class=\"row_heading level0 row4\" >4</th>\n",
       "      <td id=\"T_d6c82_row4_col0\" class=\"data row4 col0\" >Transformed data shape</td>\n",
       "      <td id=\"T_d6c82_row4_col1\" class=\"data row4 col1\" >(8442, 41)</td>\n",
       "    </tr>\n",
       "    <tr>\n",
       "      <th id=\"T_d6c82_level0_row5\" class=\"row_heading level0 row5\" >5</th>\n",
       "      <td id=\"T_d6c82_row5_col0\" class=\"data row5 col0\" >Transformed train set shape</td>\n",
       "      <td id=\"T_d6c82_row5_col1\" class=\"data row5 col1\" >(6540, 41)</td>\n",
       "    </tr>\n",
       "    <tr>\n",
       "      <th id=\"T_d6c82_level0_row6\" class=\"row_heading level0 row6\" >6</th>\n",
       "      <td id=\"T_d6c82_row6_col0\" class=\"data row6 col0\" >Transformed test set shape</td>\n",
       "      <td id=\"T_d6c82_row6_col1\" class=\"data row6 col1\" >(1902, 41)</td>\n",
       "    </tr>\n",
       "    <tr>\n",
       "      <th id=\"T_d6c82_level0_row7\" class=\"row_heading level0 row7\" >7</th>\n",
       "      <td id=\"T_d6c82_row7_col0\" class=\"data row7 col0\" >Numeric features</td>\n",
       "      <td id=\"T_d6c82_row7_col1\" class=\"data row7 col1\" >4</td>\n",
       "    </tr>\n",
       "    <tr>\n",
       "      <th id=\"T_d6c82_level0_row8\" class=\"row_heading level0 row8\" >8</th>\n",
       "      <td id=\"T_d6c82_row8_col0\" class=\"data row8 col0\" >Categorical features</td>\n",
       "      <td id=\"T_d6c82_row8_col1\" class=\"data row8 col1\" >15</td>\n",
       "    </tr>\n",
       "    <tr>\n",
       "      <th id=\"T_d6c82_level0_row9\" class=\"row_heading level0 row9\" >9</th>\n",
       "      <td id=\"T_d6c82_row9_col0\" class=\"data row9 col0\" >Preprocess</td>\n",
       "      <td id=\"T_d6c82_row9_col1\" class=\"data row9 col1\" >True</td>\n",
       "    </tr>\n",
       "    <tr>\n",
       "      <th id=\"T_d6c82_level0_row10\" class=\"row_heading level0 row10\" >10</th>\n",
       "      <td id=\"T_d6c82_row10_col0\" class=\"data row10 col0\" >Imputation type</td>\n",
       "      <td id=\"T_d6c82_row10_col1\" class=\"data row10 col1\" >simple</td>\n",
       "    </tr>\n",
       "    <tr>\n",
       "      <th id=\"T_d6c82_level0_row11\" class=\"row_heading level0 row11\" >11</th>\n",
       "      <td id=\"T_d6c82_row11_col0\" class=\"data row11 col0\" >Numeric imputation</td>\n",
       "      <td id=\"T_d6c82_row11_col1\" class=\"data row11 col1\" >mean</td>\n",
       "    </tr>\n",
       "    <tr>\n",
       "      <th id=\"T_d6c82_level0_row12\" class=\"row_heading level0 row12\" >12</th>\n",
       "      <td id=\"T_d6c82_row12_col0\" class=\"data row12 col0\" >Categorical imputation</td>\n",
       "      <td id=\"T_d6c82_row12_col1\" class=\"data row12 col1\" >mode</td>\n",
       "    </tr>\n",
       "    <tr>\n",
       "      <th id=\"T_d6c82_level0_row13\" class=\"row_heading level0 row13\" >13</th>\n",
       "      <td id=\"T_d6c82_row13_col0\" class=\"data row13 col0\" >Maximum one-hot encoding</td>\n",
       "      <td id=\"T_d6c82_row13_col1\" class=\"data row13 col1\" >25</td>\n",
       "    </tr>\n",
       "    <tr>\n",
       "      <th id=\"T_d6c82_level0_row14\" class=\"row_heading level0 row14\" >14</th>\n",
       "      <td id=\"T_d6c82_row14_col0\" class=\"data row14 col0\" >Encoding method</td>\n",
       "      <td id=\"T_d6c82_row14_col1\" class=\"data row14 col1\" >None</td>\n",
       "    </tr>\n",
       "    <tr>\n",
       "      <th id=\"T_d6c82_level0_row15\" class=\"row_heading level0 row15\" >15</th>\n",
       "      <td id=\"T_d6c82_row15_col0\" class=\"data row15 col0\" >Fix imbalance</td>\n",
       "      <td id=\"T_d6c82_row15_col1\" class=\"data row15 col1\" >True</td>\n",
       "    </tr>\n",
       "    <tr>\n",
       "      <th id=\"T_d6c82_level0_row16\" class=\"row_heading level0 row16\" >16</th>\n",
       "      <td id=\"T_d6c82_row16_col0\" class=\"data row16 col0\" >Fix imbalance method</td>\n",
       "      <td id=\"T_d6c82_row16_col1\" class=\"data row16 col1\" >SMOTE</td>\n",
       "    </tr>\n",
       "    <tr>\n",
       "      <th id=\"T_d6c82_level0_row17\" class=\"row_heading level0 row17\" >17</th>\n",
       "      <td id=\"T_d6c82_row17_col0\" class=\"data row17 col0\" >Transformation</td>\n",
       "      <td id=\"T_d6c82_row17_col1\" class=\"data row17 col1\" >True</td>\n",
       "    </tr>\n",
       "    <tr>\n",
       "      <th id=\"T_d6c82_level0_row18\" class=\"row_heading level0 row18\" >18</th>\n",
       "      <td id=\"T_d6c82_row18_col0\" class=\"data row18 col0\" >Transformation method</td>\n",
       "      <td id=\"T_d6c82_row18_col1\" class=\"data row18 col1\" >yeo-johnson</td>\n",
       "    </tr>\n",
       "    <tr>\n",
       "      <th id=\"T_d6c82_level0_row19\" class=\"row_heading level0 row19\" >19</th>\n",
       "      <td id=\"T_d6c82_row19_col0\" class=\"data row19 col0\" >Fold Generator</td>\n",
       "      <td id=\"T_d6c82_row19_col1\" class=\"data row19 col1\" >StratifiedKFold</td>\n",
       "    </tr>\n",
       "    <tr>\n",
       "      <th id=\"T_d6c82_level0_row20\" class=\"row_heading level0 row20\" >20</th>\n",
       "      <td id=\"T_d6c82_row20_col0\" class=\"data row20 col0\" >Fold Number</td>\n",
       "      <td id=\"T_d6c82_row20_col1\" class=\"data row20 col1\" >5</td>\n",
       "    </tr>\n",
       "    <tr>\n",
       "      <th id=\"T_d6c82_level0_row21\" class=\"row_heading level0 row21\" >21</th>\n",
       "      <td id=\"T_d6c82_row21_col0\" class=\"data row21 col0\" >CPU Jobs</td>\n",
       "      <td id=\"T_d6c82_row21_col1\" class=\"data row21 col1\" >-1</td>\n",
       "    </tr>\n",
       "    <tr>\n",
       "      <th id=\"T_d6c82_level0_row22\" class=\"row_heading level0 row22\" >22</th>\n",
       "      <td id=\"T_d6c82_row22_col0\" class=\"data row22 col0\" >Use GPU</td>\n",
       "      <td id=\"T_d6c82_row22_col1\" class=\"data row22 col1\" >False</td>\n",
       "    </tr>\n",
       "    <tr>\n",
       "      <th id=\"T_d6c82_level0_row23\" class=\"row_heading level0 row23\" >23</th>\n",
       "      <td id=\"T_d6c82_row23_col0\" class=\"data row23 col0\" >Log Experiment</td>\n",
       "      <td id=\"T_d6c82_row23_col1\" class=\"data row23 col1\" >False</td>\n",
       "    </tr>\n",
       "    <tr>\n",
       "      <th id=\"T_d6c82_level0_row24\" class=\"row_heading level0 row24\" >24</th>\n",
       "      <td id=\"T_d6c82_row24_col0\" class=\"data row24 col0\" >Experiment Name</td>\n",
       "      <td id=\"T_d6c82_row24_col1\" class=\"data row24 col1\" >clf-default-name</td>\n",
       "    </tr>\n",
       "    <tr>\n",
       "      <th id=\"T_d6c82_level0_row25\" class=\"row_heading level0 row25\" >25</th>\n",
       "      <td id=\"T_d6c82_row25_col0\" class=\"data row25 col0\" >USI</td>\n",
       "      <td id=\"T_d6c82_row25_col1\" class=\"data row25 col1\" >d8fb</td>\n",
       "    </tr>\n",
       "  </tbody>\n",
       "</table>\n"
      ],
      "text/plain": [
       "<pandas.io.formats.style.Styler at 0x151199c9340>"
      ]
     },
     "metadata": {},
     "output_type": "display_data"
    }
   ],
   "source": [
    "df_processed = replace_outliers_by_group(df, ['tenure', 'TotalCharges', 'MonthlyCharges'], 'Churn')\n",
    "data, data_unseen = train_test_split(df_processed, test_size=0.1, random_state=123)\n",
    "\n",
    "exp_03 = setup(\n",
    "    data=data,\n",
    "    target='Churn',\n",
    "    session_id=RANDOM_SEED,\n",
    "    remove_outliers=False,        \n",
    "    train_size=0.7,\n",
    "    normalize=False, \n",
    "    transformation=True,\n",
    "    transformation_method='yeo-johnson',\n",
    "    fix_imbalance=True,\n",
    "    fix_imbalance_method='SMOTE',\n",
    "    fold_strategy='stratifiedkfold',\n",
    "    fold=5,\n",
    "    data_split_stratify=True,\n",
    ")\n",
    "\n",
    "data_unseen = exp_03.pipeline.transform(data_unseen)\n",
    "X_test = data_unseen.drop(['Churn'], axis=1)\n",
    "y_test = data_unseen['Churn']"
   ]
  },
  {
   "cell_type": "markdown",
   "id": "b3b572a3",
   "metadata": {
    "ExecuteTime": {
     "end_time": "2024-06-23T19:26:33.533237Z",
     "start_time": "2024-06-23T19:26:33.520367Z"
    },
    "deletable": false,
    "editable": false,
    "run_control": {
     "frozen": true
    }
   },
   "source": [
    "#### General Model (ADA)"
   ]
  },
  {
   "cell_type": "code",
   "execution_count": 36,
   "id": "51e9de65",
   "metadata": {
    "ExecuteTime": {
     "end_time": "2024-06-23T19:35:39.834879Z",
     "start_time": "2024-06-23T19:34:16.135734Z"
    },
    "collapsed": true,
    "deletable": false,
    "editable": false
   },
   "outputs": [
    {
     "data": {
      "text/html": [],
      "text/plain": [
       "<IPython.core.display.HTML object>"
      ]
     },
     "metadata": {},
     "output_type": "display_data"
    },
    {
     "data": {
      "text/html": [
       "<style type=\"text/css\">\n",
       "#T_9c31b_row5_col0, #T_9c31b_row5_col1, #T_9c31b_row5_col2, #T_9c31b_row5_col3, #T_9c31b_row5_col4, #T_9c31b_row5_col5, #T_9c31b_row5_col6 {\n",
       "  background: yellow;\n",
       "}\n",
       "</style>\n",
       "<table id=\"T_9c31b\">\n",
       "  <thead>\n",
       "    <tr>\n",
       "      <th class=\"blank level0\" >&nbsp;</th>\n",
       "      <th id=\"T_9c31b_level0_col0\" class=\"col_heading level0 col0\" >Accuracy</th>\n",
       "      <th id=\"T_9c31b_level0_col1\" class=\"col_heading level0 col1\" >AUC</th>\n",
       "      <th id=\"T_9c31b_level0_col2\" class=\"col_heading level0 col2\" >Recall</th>\n",
       "      <th id=\"T_9c31b_level0_col3\" class=\"col_heading level0 col3\" >Prec.</th>\n",
       "      <th id=\"T_9c31b_level0_col4\" class=\"col_heading level0 col4\" >F1</th>\n",
       "      <th id=\"T_9c31b_level0_col5\" class=\"col_heading level0 col5\" >Kappa</th>\n",
       "      <th id=\"T_9c31b_level0_col6\" class=\"col_heading level0 col6\" >MCC</th>\n",
       "    </tr>\n",
       "    <tr>\n",
       "      <th class=\"index_name level0\" >Fold</th>\n",
       "      <th class=\"blank col0\" >&nbsp;</th>\n",
       "      <th class=\"blank col1\" >&nbsp;</th>\n",
       "      <th class=\"blank col2\" >&nbsp;</th>\n",
       "      <th class=\"blank col3\" >&nbsp;</th>\n",
       "      <th class=\"blank col4\" >&nbsp;</th>\n",
       "      <th class=\"blank col5\" >&nbsp;</th>\n",
       "      <th class=\"blank col6\" >&nbsp;</th>\n",
       "    </tr>\n",
       "  </thead>\n",
       "  <tbody>\n",
       "    <tr>\n",
       "      <th id=\"T_9c31b_level0_row0\" class=\"row_heading level0 row0\" >0</th>\n",
       "      <td id=\"T_9c31b_row0_col0\" class=\"data row0 col0\" >0.8153</td>\n",
       "      <td id=\"T_9c31b_row0_col1\" class=\"data row0 col1\" >0.8822</td>\n",
       "      <td id=\"T_9c31b_row0_col2\" class=\"data row0 col2\" >0.7137</td>\n",
       "      <td id=\"T_9c31b_row0_col3\" class=\"data row0 col3\" >0.6326</td>\n",
       "      <td id=\"T_9c31b_row0_col4\" class=\"data row0 col4\" >0.6707</td>\n",
       "      <td id=\"T_9c31b_row0_col5\" class=\"data row0 col5\" >0.5430</td>\n",
       "      <td id=\"T_9c31b_row0_col6\" class=\"data row0 col6\" >0.5449</td>\n",
       "    </tr>\n",
       "    <tr>\n",
       "      <th id=\"T_9c31b_level0_row1\" class=\"row_heading level0 row1\" >1</th>\n",
       "      <td id=\"T_9c31b_row1_col0\" class=\"data row1 col0\" >0.8275</td>\n",
       "      <td id=\"T_9c31b_row1_col1\" class=\"data row1 col1\" >0.8862</td>\n",
       "      <td id=\"T_9c31b_row1_col2\" class=\"data row1 col2\" >0.7039</td>\n",
       "      <td id=\"T_9c31b_row1_col3\" class=\"data row1 col3\" >0.6613</td>\n",
       "      <td id=\"T_9c31b_row1_col4\" class=\"data row1 col4\" >0.6819</td>\n",
       "      <td id=\"T_9c31b_row1_col5\" class=\"data row1 col5\" >0.5637</td>\n",
       "      <td id=\"T_9c31b_row1_col6\" class=\"data row1 col6\" >0.5643</td>\n",
       "    </tr>\n",
       "    <tr>\n",
       "      <th id=\"T_9c31b_level0_row2\" class=\"row_heading level0 row2\" >2</th>\n",
       "      <td id=\"T_9c31b_row2_col0\" class=\"data row2 col0\" >0.8365</td>\n",
       "      <td id=\"T_9c31b_row2_col1\" class=\"data row2 col1\" >0.8929</td>\n",
       "      <td id=\"T_9c31b_row2_col2\" class=\"data row2 col2\" >0.6996</td>\n",
       "      <td id=\"T_9c31b_row2_col3\" class=\"data row2 col3\" >0.6849</td>\n",
       "      <td id=\"T_9c31b_row2_col4\" class=\"data row2 col4\" >0.6921</td>\n",
       "      <td id=\"T_9c31b_row2_col5\" class=\"data row2 col5\" >0.5809</td>\n",
       "      <td id=\"T_9c31b_row2_col6\" class=\"data row2 col6\" >0.5809</td>\n",
       "    </tr>\n",
       "    <tr>\n",
       "      <th id=\"T_9c31b_level0_row3\" class=\"row_heading level0 row3\" >3</th>\n",
       "      <td id=\"T_9c31b_row3_col0\" class=\"data row3 col0\" >0.7790</td>\n",
       "      <td id=\"T_9c31b_row3_col1\" class=\"data row3 col1\" >0.8390</td>\n",
       "      <td id=\"T_9c31b_row3_col2\" class=\"data row3 col2\" >0.6438</td>\n",
       "      <td id=\"T_9c31b_row3_col3\" class=\"data row3 col3\" >0.5703</td>\n",
       "      <td id=\"T_9c31b_row3_col4\" class=\"data row3 col4\" >0.6048</td>\n",
       "      <td id=\"T_9c31b_row3_col5\" class=\"data row3 col5\" >0.4523</td>\n",
       "      <td id=\"T_9c31b_row3_col6\" class=\"data row3 col6\" >0.4538</td>\n",
       "    </tr>\n",
       "    <tr>\n",
       "      <th id=\"T_9c31b_level0_row4\" class=\"row_heading level0 row4\" >4</th>\n",
       "      <td id=\"T_9c31b_row4_col0\" class=\"data row4 col0\" >0.8106</td>\n",
       "      <td id=\"T_9c31b_row4_col1\" class=\"data row4 col1\" >0.8869</td>\n",
       "      <td id=\"T_9c31b_row4_col2\" class=\"data row4 col2\" >0.7039</td>\n",
       "      <td id=\"T_9c31b_row4_col3\" class=\"data row4 col3\" >0.6236</td>\n",
       "      <td id=\"T_9c31b_row4_col4\" class=\"data row4 col4\" >0.6613</td>\n",
       "      <td id=\"T_9c31b_row4_col5\" class=\"data row4 col5\" >0.5305</td>\n",
       "      <td id=\"T_9c31b_row4_col6\" class=\"data row4 col6\" >0.5324</td>\n",
       "    </tr>\n",
       "    <tr>\n",
       "      <th id=\"T_9c31b_level0_row5\" class=\"row_heading level0 row5\" >Mean</th>\n",
       "      <td id=\"T_9c31b_row5_col0\" class=\"data row5 col0\" >0.8138</td>\n",
       "      <td id=\"T_9c31b_row5_col1\" class=\"data row5 col1\" >0.8775</td>\n",
       "      <td id=\"T_9c31b_row5_col2\" class=\"data row5 col2\" >0.6929</td>\n",
       "      <td id=\"T_9c31b_row5_col3\" class=\"data row5 col3\" >0.6345</td>\n",
       "      <td id=\"T_9c31b_row5_col4\" class=\"data row5 col4\" >0.6622</td>\n",
       "      <td id=\"T_9c31b_row5_col5\" class=\"data row5 col5\" >0.5341</td>\n",
       "      <td id=\"T_9c31b_row5_col6\" class=\"data row5 col6\" >0.5353</td>\n",
       "    </tr>\n",
       "    <tr>\n",
       "      <th id=\"T_9c31b_level0_row6\" class=\"row_heading level0 row6\" >Std</th>\n",
       "      <td id=\"T_9c31b_row6_col0\" class=\"data row6 col0\" >0.0196</td>\n",
       "      <td id=\"T_9c31b_row6_col1\" class=\"data row6 col1\" >0.0195</td>\n",
       "      <td id=\"T_9c31b_row6_col2\" class=\"data row6 col2\" >0.0250</td>\n",
       "      <td id=\"T_9c31b_row6_col3\" class=\"data row6 col3\" >0.0387</td>\n",
       "      <td id=\"T_9c31b_row6_col4\" class=\"data row6 col4\" >0.0305</td>\n",
       "      <td id=\"T_9c31b_row6_col5\" class=\"data row6 col5\" >0.0444</td>\n",
       "      <td id=\"T_9c31b_row6_col6\" class=\"data row6 col6\" >0.0439</td>\n",
       "    </tr>\n",
       "  </tbody>\n",
       "</table>\n"
      ],
      "text/plain": [
       "<pandas.io.formats.style.Styler at 0x1512d605820>"
      ]
     },
     "metadata": {},
     "output_type": "display_data"
    },
    {
     "data": {
      "text/html": [],
      "text/plain": [
       "<IPython.core.display.HTML object>"
      ]
     },
     "metadata": {},
     "output_type": "display_data"
    },
    {
     "data": {
      "text/html": [],
      "text/plain": [
       "<IPython.core.display.HTML object>"
      ]
     },
     "metadata": {},
     "output_type": "display_data"
    },
    {
     "data": {
      "text/html": [
       "<style type=\"text/css\">\n",
       "#T_38a77_row5_col0, #T_38a77_row5_col1, #T_38a77_row5_col2, #T_38a77_row5_col3, #T_38a77_row5_col4, #T_38a77_row5_col5, #T_38a77_row5_col6 {\n",
       "  background: yellow;\n",
       "}\n",
       "</style>\n",
       "<table id=\"T_38a77\">\n",
       "  <thead>\n",
       "    <tr>\n",
       "      <th class=\"blank level0\" >&nbsp;</th>\n",
       "      <th id=\"T_38a77_level0_col0\" class=\"col_heading level0 col0\" >Accuracy</th>\n",
       "      <th id=\"T_38a77_level0_col1\" class=\"col_heading level0 col1\" >AUC</th>\n",
       "      <th id=\"T_38a77_level0_col2\" class=\"col_heading level0 col2\" >Recall</th>\n",
       "      <th id=\"T_38a77_level0_col3\" class=\"col_heading level0 col3\" >Prec.</th>\n",
       "      <th id=\"T_38a77_level0_col4\" class=\"col_heading level0 col4\" >F1</th>\n",
       "      <th id=\"T_38a77_level0_col5\" class=\"col_heading level0 col5\" >Kappa</th>\n",
       "      <th id=\"T_38a77_level0_col6\" class=\"col_heading level0 col6\" >MCC</th>\n",
       "    </tr>\n",
       "    <tr>\n",
       "      <th class=\"index_name level0\" >Fold</th>\n",
       "      <th class=\"blank col0\" >&nbsp;</th>\n",
       "      <th class=\"blank col1\" >&nbsp;</th>\n",
       "      <th class=\"blank col2\" >&nbsp;</th>\n",
       "      <th class=\"blank col3\" >&nbsp;</th>\n",
       "      <th class=\"blank col4\" >&nbsp;</th>\n",
       "      <th class=\"blank col5\" >&nbsp;</th>\n",
       "      <th class=\"blank col6\" >&nbsp;</th>\n",
       "    </tr>\n",
       "  </thead>\n",
       "  <tbody>\n",
       "    <tr>\n",
       "      <th id=\"T_38a77_level0_row0\" class=\"row_heading level0 row0\" >0</th>\n",
       "      <td id=\"T_38a77_row0_col0\" class=\"data row0 col0\" >0.7815</td>\n",
       "      <td id=\"T_38a77_row0_col1\" class=\"data row0 col1\" >0.8614</td>\n",
       "      <td id=\"T_38a77_row0_col2\" class=\"data row0 col2\" >0.7436</td>\n",
       "      <td id=\"T_38a77_row0_col3\" class=\"data row0 col3\" >0.5649</td>\n",
       "      <td id=\"T_38a77_row0_col4\" class=\"data row0 col4\" >0.6421</td>\n",
       "      <td id=\"T_38a77_row0_col5\" class=\"data row0 col5\" >0.4890</td>\n",
       "      <td id=\"T_38a77_row0_col6\" class=\"data row0 col6\" >0.4986</td>\n",
       "    </tr>\n",
       "    <tr>\n",
       "      <th id=\"T_38a77_level0_row1\" class=\"row_heading level0 row1\" >1</th>\n",
       "      <td id=\"T_38a77_row1_col0\" class=\"data row1 col0\" >0.7937</td>\n",
       "      <td id=\"T_38a77_row1_col1\" class=\"data row1 col1\" >0.8760</td>\n",
       "      <td id=\"T_38a77_row1_col2\" class=\"data row1 col2\" >0.7897</td>\n",
       "      <td id=\"T_38a77_row1_col3\" class=\"data row1 col3\" >0.5786</td>\n",
       "      <td id=\"T_38a77_row1_col4\" class=\"data row1 col4\" >0.6679</td>\n",
       "      <td id=\"T_38a77_row1_col5\" class=\"data row1 col5\" >0.5234</td>\n",
       "      <td id=\"T_38a77_row1_col6\" class=\"data row1 col6\" >0.5367</td>\n",
       "    </tr>\n",
       "    <tr>\n",
       "      <th id=\"T_38a77_level0_row2\" class=\"row_heading level0 row2\" >2</th>\n",
       "      <td id=\"T_38a77_row2_col0\" class=\"data row2 col0\" >0.7959</td>\n",
       "      <td id=\"T_38a77_row2_col1\" class=\"data row2 col1\" >0.8700</td>\n",
       "      <td id=\"T_38a77_row2_col2\" class=\"data row2 col2\" >0.7639</td>\n",
       "      <td id=\"T_38a77_row2_col3\" class=\"data row2 col3\" >0.5855</td>\n",
       "      <td id=\"T_38a77_row2_col4\" class=\"data row2 col4\" >0.6629</td>\n",
       "      <td id=\"T_38a77_row2_col5\" class=\"data row2 col5\" >0.5203</td>\n",
       "      <td id=\"T_38a77_row2_col6\" class=\"data row2 col6\" >0.5297</td>\n",
       "    </tr>\n",
       "    <tr>\n",
       "      <th id=\"T_38a77_level0_row3\" class=\"row_heading level0 row3\" >3</th>\n",
       "      <td id=\"T_38a77_row3_col0\" class=\"data row3 col0\" >0.7475</td>\n",
       "      <td id=\"T_38a77_row3_col1\" class=\"data row3 col1\" >0.8289</td>\n",
       "      <td id=\"T_38a77_row3_col2\" class=\"data row3 col2\" >0.7124</td>\n",
       "      <td id=\"T_38a77_row3_col3\" class=\"data row3 col3\" >0.5139</td>\n",
       "      <td id=\"T_38a77_row3_col4\" class=\"data row3 col4\" >0.5971</td>\n",
       "      <td id=\"T_38a77_row3_col5\" class=\"data row3 col5\" >0.4201</td>\n",
       "      <td id=\"T_38a77_row3_col6\" class=\"data row3 col6\" >0.4320</td>\n",
       "    </tr>\n",
       "    <tr>\n",
       "      <th id=\"T_38a77_level0_row4\" class=\"row_heading level0 row4\" >4</th>\n",
       "      <td id=\"T_38a77_row4_col0\" class=\"data row4 col0\" >0.7790</td>\n",
       "      <td id=\"T_38a77_row4_col1\" class=\"data row4 col1\" >0.8710</td>\n",
       "      <td id=\"T_38a77_row4_col2\" class=\"data row4 col2\" >0.7854</td>\n",
       "      <td id=\"T_38a77_row4_col3\" class=\"data row4 col3\" >0.5562</td>\n",
       "      <td id=\"T_38a77_row4_col4\" class=\"data row4 col4\" >0.6512</td>\n",
       "      <td id=\"T_38a77_row4_col5\" class=\"data row4 col5\" >0.4963</td>\n",
       "      <td id=\"T_38a77_row4_col6\" class=\"data row4 col6\" >0.5122</td>\n",
       "    </tr>\n",
       "    <tr>\n",
       "      <th id=\"T_38a77_level0_row5\" class=\"row_heading level0 row5\" >Mean</th>\n",
       "      <td id=\"T_38a77_row5_col0\" class=\"data row5 col0\" >0.7795</td>\n",
       "      <td id=\"T_38a77_row5_col1\" class=\"data row5 col1\" >0.8614</td>\n",
       "      <td id=\"T_38a77_row5_col2\" class=\"data row5 col2\" >0.7590</td>\n",
       "      <td id=\"T_38a77_row5_col3\" class=\"data row5 col3\" >0.5598</td>\n",
       "      <td id=\"T_38a77_row5_col4\" class=\"data row5 col4\" >0.6443</td>\n",
       "      <td id=\"T_38a77_row5_col5\" class=\"data row5 col5\" >0.4898</td>\n",
       "      <td id=\"T_38a77_row5_col6\" class=\"data row5 col6\" >0.5018</td>\n",
       "    </tr>\n",
       "    <tr>\n",
       "      <th id=\"T_38a77_level0_row6\" class=\"row_heading level0 row6\" >Std</th>\n",
       "      <td id=\"T_38a77_row6_col0\" class=\"data row6 col0\" >0.0173</td>\n",
       "      <td id=\"T_38a77_row6_col1\" class=\"data row6 col1\" >0.0169</td>\n",
       "      <td id=\"T_38a77_row6_col2\" class=\"data row6 col2\" >0.0285</td>\n",
       "      <td id=\"T_38a77_row6_col3\" class=\"data row6 col3\" >0.0251</td>\n",
       "      <td id=\"T_38a77_row6_col4\" class=\"data row6 col4\" >0.0252</td>\n",
       "      <td id=\"T_38a77_row6_col5\" class=\"data row6 col5\" >0.0373</td>\n",
       "      <td id=\"T_38a77_row6_col6\" class=\"data row6 col6\" >0.0374</td>\n",
       "    </tr>\n",
       "  </tbody>\n",
       "</table>\n"
      ],
      "text/plain": [
       "<pandas.io.formats.style.Styler at 0x1512f254a60>"
      ]
     },
     "metadata": {},
     "output_type": "display_data"
    },
    {
     "data": {
      "text/html": [],
      "text/plain": [
       "<IPython.core.display.HTML object>"
      ]
     },
     "metadata": {},
     "output_type": "display_data"
    },
    {
     "name": "stdout",
     "output_type": "stream",
     "text": [
      "Fitting 5 folds for each of 10 candidates, totalling 50 fits\n",
      "Original model was better than the tuned model, hence it will be returned. NOTE: The display metrics are for the tuned model (not the original one).\n"
     ]
    }
   ],
   "source": [
    "model_ada = create_model('ada')\n",
    "model_ada = tune_model(model_ada, optimize='AUC', n_iter=10)"
   ]
  },
  {
   "cell_type": "code",
   "execution_count": 37,
   "id": "753f005d",
   "metadata": {
    "ExecuteTime": {
     "end_time": "2024-06-23T19:36:02.315692Z",
     "start_time": "2024-06-23T19:36:02.236556Z"
    },
    "deletable": false,
    "editable": false
   },
   "outputs": [
    {
     "name": "stdout",
     "output_type": "stream",
     "text": [
      "Accuracy: 0.8241134751773049\n",
      "roc-auc: 0.8818666221812258\n",
      "              precision    recall  f1-score   support\n",
      "\n",
      "           0       0.88      0.87      0.88       502\n",
      "           1       0.69      0.72      0.70       203\n",
      "\n",
      "    accuracy                           0.82       705\n",
      "   macro avg       0.78      0.79      0.79       705\n",
      "weighted avg       0.83      0.82      0.83       705\n",
      "\n"
     ]
    }
   ],
   "source": [
    "y_pred_ada = model_ada.predict(X_test)\n",
    "y_pred_ada_proba = model_ada.predict_proba(X_test)\n",
    "\n",
    "print(\"Accuracy:\", model_ada.score(X_test, y_test))\n",
    "print(\"roc-auc:\", roc_auc_score(y_test, y_pred_ada_proba[:, 1]))\n",
    "print(classification_report(y_test, y_pred_ada))"
   ]
  },
  {
   "cell_type": "markdown",
   "id": "431ddd96",
   "metadata": {
    "ExecuteTime": {
     "end_time": "2024-06-23T19:26:45.850194Z",
     "start_time": "2024-06-23T19:26:45.835428Z"
    },
    "deletable": false,
    "editable": false,
    "run_control": {
     "frozen": true
    }
   },
   "source": [
    "#### Model with Recall Optimization (Logistic Regression)"
   ]
  },
  {
   "cell_type": "code",
   "execution_count": 38,
   "id": "baef9eea",
   "metadata": {
    "ExecuteTime": {
     "end_time": "2024-06-23T19:37:20.758292Z",
     "start_time": "2024-06-23T19:36:20.585258Z"
    },
    "collapsed": true,
    "deletable": false,
    "editable": false
   },
   "outputs": [
    {
     "data": {
      "text/html": [],
      "text/plain": [
       "<IPython.core.display.HTML object>"
      ]
     },
     "metadata": {},
     "output_type": "display_data"
    },
    {
     "data": {
      "text/html": [
       "<style type=\"text/css\">\n",
       "#T_2d3cd_row5_col0, #T_2d3cd_row5_col1, #T_2d3cd_row5_col2, #T_2d3cd_row5_col3, #T_2d3cd_row5_col4, #T_2d3cd_row5_col5, #T_2d3cd_row5_col6 {\n",
       "  background: yellow;\n",
       "}\n",
       "</style>\n",
       "<table id=\"T_2d3cd\">\n",
       "  <thead>\n",
       "    <tr>\n",
       "      <th class=\"blank level0\" >&nbsp;</th>\n",
       "      <th id=\"T_2d3cd_level0_col0\" class=\"col_heading level0 col0\" >Accuracy</th>\n",
       "      <th id=\"T_2d3cd_level0_col1\" class=\"col_heading level0 col1\" >AUC</th>\n",
       "      <th id=\"T_2d3cd_level0_col2\" class=\"col_heading level0 col2\" >Recall</th>\n",
       "      <th id=\"T_2d3cd_level0_col3\" class=\"col_heading level0 col3\" >Prec.</th>\n",
       "      <th id=\"T_2d3cd_level0_col4\" class=\"col_heading level0 col4\" >F1</th>\n",
       "      <th id=\"T_2d3cd_level0_col5\" class=\"col_heading level0 col5\" >Kappa</th>\n",
       "      <th id=\"T_2d3cd_level0_col6\" class=\"col_heading level0 col6\" >MCC</th>\n",
       "    </tr>\n",
       "    <tr>\n",
       "      <th class=\"index_name level0\" >Fold</th>\n",
       "      <th class=\"blank col0\" >&nbsp;</th>\n",
       "      <th class=\"blank col1\" >&nbsp;</th>\n",
       "      <th class=\"blank col2\" >&nbsp;</th>\n",
       "      <th class=\"blank col3\" >&nbsp;</th>\n",
       "      <th class=\"blank col4\" >&nbsp;</th>\n",
       "      <th class=\"blank col5\" >&nbsp;</th>\n",
       "      <th class=\"blank col6\" >&nbsp;</th>\n",
       "    </tr>\n",
       "  </thead>\n",
       "  <tbody>\n",
       "    <tr>\n",
       "      <th id=\"T_2d3cd_level0_row0\" class=\"row_heading level0 row0\" >0</th>\n",
       "      <td id=\"T_2d3cd_row0_col0\" class=\"data row0 col0\" >0.7815</td>\n",
       "      <td id=\"T_2d3cd_row0_col1\" class=\"data row0 col1\" >0.8490</td>\n",
       "      <td id=\"T_2d3cd_row0_col2\" class=\"data row0 col2\" >0.7051</td>\n",
       "      <td id=\"T_2d3cd_row0_col3\" class=\"data row0 col3\" >0.5690</td>\n",
       "      <td id=\"T_2d3cd_row0_col4\" class=\"data row0 col4\" >0.6298</td>\n",
       "      <td id=\"T_2d3cd_row0_col5\" class=\"data row0 col5\" >0.4773</td>\n",
       "      <td id=\"T_2d3cd_row0_col6\" class=\"data row0 col6\" >0.4828</td>\n",
       "    </tr>\n",
       "    <tr>\n",
       "      <th id=\"T_2d3cd_level0_row1\" class=\"row_heading level0 row1\" >1</th>\n",
       "      <td id=\"T_2d3cd_row1_col0\" class=\"data row1 col0\" >0.7948</td>\n",
       "      <td id=\"T_2d3cd_row1_col1\" class=\"data row1 col1\" >0.8670</td>\n",
       "      <td id=\"T_2d3cd_row1_col2\" class=\"data row1 col2\" >0.7854</td>\n",
       "      <td id=\"T_2d3cd_row1_col3\" class=\"data row1 col3\" >0.5810</td>\n",
       "      <td id=\"T_2d3cd_row1_col4\" class=\"data row1 col4\" >0.6679</td>\n",
       "      <td id=\"T_2d3cd_row1_col5\" class=\"data row1 col5\" >0.5242</td>\n",
       "      <td id=\"T_2d3cd_row1_col6\" class=\"data row1 col6\" >0.5367</td>\n",
       "    </tr>\n",
       "    <tr>\n",
       "      <th id=\"T_2d3cd_level0_row2\" class=\"row_heading level0 row2\" >2</th>\n",
       "      <td id=\"T_2d3cd_row2_col0\" class=\"data row2 col0\" >0.7802</td>\n",
       "      <td id=\"T_2d3cd_row2_col1\" class=\"data row2 col1\" >0.8491</td>\n",
       "      <td id=\"T_2d3cd_row2_col2\" class=\"data row2 col2\" >0.7210</td>\n",
       "      <td id=\"T_2d3cd_row2_col3\" class=\"data row2 col3\" >0.5638</td>\n",
       "      <td id=\"T_2d3cd_row2_col4\" class=\"data row2 col4\" >0.6328</td>\n",
       "      <td id=\"T_2d3cd_row2_col5\" class=\"data row2 col5\" >0.4792</td>\n",
       "      <td id=\"T_2d3cd_row2_col6\" class=\"data row2 col6\" >0.4866</td>\n",
       "    </tr>\n",
       "    <tr>\n",
       "      <th id=\"T_2d3cd_level0_row3\" class=\"row_heading level0 row3\" >3</th>\n",
       "      <td id=\"T_2d3cd_row3_col0\" class=\"data row3 col0\" >0.7362</td>\n",
       "      <td id=\"T_2d3cd_row3_col1\" class=\"data row3 col1\" >0.8067</td>\n",
       "      <td id=\"T_2d3cd_row3_col2\" class=\"data row3 col2\" >0.6352</td>\n",
       "      <td id=\"T_2d3cd_row3_col3\" class=\"data row3 col3\" >0.4983</td>\n",
       "      <td id=\"T_2d3cd_row3_col4\" class=\"data row3 col4\" >0.5585</td>\n",
       "      <td id=\"T_2d3cd_row3_col5\" class=\"data row3 col5\" >0.3743</td>\n",
       "      <td id=\"T_2d3cd_row3_col6\" class=\"data row3 col6\" >0.3799</td>\n",
       "    </tr>\n",
       "    <tr>\n",
       "      <th id=\"T_2d3cd_level0_row4\" class=\"row_heading level0 row4\" >4</th>\n",
       "      <td id=\"T_2d3cd_row4_col0\" class=\"data row4 col0\" >0.7734</td>\n",
       "      <td id=\"T_2d3cd_row4_col1\" class=\"data row4 col1\" >0.8552</td>\n",
       "      <td id=\"T_2d3cd_row4_col2\" class=\"data row4 col2\" >0.7597</td>\n",
       "      <td id=\"T_2d3cd_row4_col3\" class=\"data row4 col3\" >0.5497</td>\n",
       "      <td id=\"T_2d3cd_row4_col4\" class=\"data row4 col4\" >0.6378</td>\n",
       "      <td id=\"T_2d3cd_row4_col5\" class=\"data row4 col5\" >0.4790</td>\n",
       "      <td id=\"T_2d3cd_row4_col6\" class=\"data row4 col6\" >0.4923</td>\n",
       "    </tr>\n",
       "    <tr>\n",
       "      <th id=\"T_2d3cd_level0_row5\" class=\"row_heading level0 row5\" >Mean</th>\n",
       "      <td id=\"T_2d3cd_row5_col0\" class=\"data row5 col0\" >0.7732</td>\n",
       "      <td id=\"T_2d3cd_row5_col1\" class=\"data row5 col1\" >0.8454</td>\n",
       "      <td id=\"T_2d3cd_row5_col2\" class=\"data row5 col2\" >0.7213</td>\n",
       "      <td id=\"T_2d3cd_row5_col3\" class=\"data row5 col3\" >0.5523</td>\n",
       "      <td id=\"T_2d3cd_row5_col4\" class=\"data row5 col4\" >0.6254</td>\n",
       "      <td id=\"T_2d3cd_row5_col5\" class=\"data row5 col5\" >0.4668</td>\n",
       "      <td id=\"T_2d3cd_row5_col6\" class=\"data row5 col6\" >0.4757</td>\n",
       "    </tr>\n",
       "    <tr>\n",
       "      <th id=\"T_2d3cd_level0_row6\" class=\"row_heading level0 row6\" >Std</th>\n",
       "      <td id=\"T_2d3cd_row6_col0\" class=\"data row6 col0\" >0.0198</td>\n",
       "      <td id=\"T_2d3cd_row6_col1\" class=\"data row6 col1\" >0.0205</td>\n",
       "      <td id=\"T_2d3cd_row6_col2\" class=\"data row6 col2\" >0.0515</td>\n",
       "      <td id=\"T_2d3cd_row6_col3\" class=\"data row6 col3\" >0.0288</td>\n",
       "      <td id=\"T_2d3cd_row6_col4\" class=\"data row6 col4\" >0.0361</td>\n",
       "      <td id=\"T_2d3cd_row6_col5\" class=\"data row6 col5\" >0.0495</td>\n",
       "      <td id=\"T_2d3cd_row6_col6\" class=\"data row6 col6\" >0.0517</td>\n",
       "    </tr>\n",
       "  </tbody>\n",
       "</table>\n"
      ],
      "text/plain": [
       "<pandas.io.formats.style.Styler at 0x1512f5e4460>"
      ]
     },
     "metadata": {},
     "output_type": "display_data"
    },
    {
     "data": {
      "text/html": [],
      "text/plain": [
       "<IPython.core.display.HTML object>"
      ]
     },
     "metadata": {},
     "output_type": "display_data"
    },
    {
     "data": {
      "text/html": [],
      "text/plain": [
       "<IPython.core.display.HTML object>"
      ]
     },
     "metadata": {},
     "output_type": "display_data"
    },
    {
     "data": {
      "text/html": [
       "<style type=\"text/css\">\n",
       "#T_f0655_row5_col0, #T_f0655_row5_col1, #T_f0655_row5_col2, #T_f0655_row5_col3, #T_f0655_row5_col4, #T_f0655_row5_col5, #T_f0655_row5_col6 {\n",
       "  background: yellow;\n",
       "}\n",
       "</style>\n",
       "<table id=\"T_f0655\">\n",
       "  <thead>\n",
       "    <tr>\n",
       "      <th class=\"blank level0\" >&nbsp;</th>\n",
       "      <th id=\"T_f0655_level0_col0\" class=\"col_heading level0 col0\" >Accuracy</th>\n",
       "      <th id=\"T_f0655_level0_col1\" class=\"col_heading level0 col1\" >AUC</th>\n",
       "      <th id=\"T_f0655_level0_col2\" class=\"col_heading level0 col2\" >Recall</th>\n",
       "      <th id=\"T_f0655_level0_col3\" class=\"col_heading level0 col3\" >Prec.</th>\n",
       "      <th id=\"T_f0655_level0_col4\" class=\"col_heading level0 col4\" >F1</th>\n",
       "      <th id=\"T_f0655_level0_col5\" class=\"col_heading level0 col5\" >Kappa</th>\n",
       "      <th id=\"T_f0655_level0_col6\" class=\"col_heading level0 col6\" >MCC</th>\n",
       "    </tr>\n",
       "    <tr>\n",
       "      <th class=\"index_name level0\" >Fold</th>\n",
       "      <th class=\"blank col0\" >&nbsp;</th>\n",
       "      <th class=\"blank col1\" >&nbsp;</th>\n",
       "      <th class=\"blank col2\" >&nbsp;</th>\n",
       "      <th class=\"blank col3\" >&nbsp;</th>\n",
       "      <th class=\"blank col4\" >&nbsp;</th>\n",
       "      <th class=\"blank col5\" >&nbsp;</th>\n",
       "      <th class=\"blank col6\" >&nbsp;</th>\n",
       "    </tr>\n",
       "  </thead>\n",
       "  <tbody>\n",
       "    <tr>\n",
       "      <th id=\"T_f0655_level0_row0\" class=\"row_heading level0 row0\" >0</th>\n",
       "      <td id=\"T_f0655_row0_col0\" class=\"data row0 col0\" >0.7714</td>\n",
       "      <td id=\"T_f0655_row0_col1\" class=\"data row0 col1\" >0.8451</td>\n",
       "      <td id=\"T_f0655_row0_col2\" class=\"data row0 col2\" >0.7564</td>\n",
       "      <td id=\"T_f0655_row0_col3\" class=\"data row0 col3\" >0.5480</td>\n",
       "      <td id=\"T_f0655_row0_col4\" class=\"data row0 col4\" >0.6355</td>\n",
       "      <td id=\"T_f0655_row0_col5\" class=\"data row0 col5\" >0.4751</td>\n",
       "      <td id=\"T_f0655_row0_col6\" class=\"data row0 col6\" >0.4882</td>\n",
       "    </tr>\n",
       "    <tr>\n",
       "      <th id=\"T_f0655_level0_row1\" class=\"row_heading level0 row1\" >1</th>\n",
       "      <td id=\"T_f0655_row1_col0\" class=\"data row1 col0\" >0.7880</td>\n",
       "      <td id=\"T_f0655_row1_col1\" class=\"data row1 col1\" >0.8692</td>\n",
       "      <td id=\"T_f0655_row1_col2\" class=\"data row1 col2\" >0.8112</td>\n",
       "      <td id=\"T_f0655_row1_col3\" class=\"data row1 col3\" >0.5676</td>\n",
       "      <td id=\"T_f0655_row1_col4\" class=\"data row1 col4\" >0.6678</td>\n",
       "      <td id=\"T_f0655_row1_col5\" class=\"data row1 col5\" >0.5192</td>\n",
       "      <td id=\"T_f0655_row1_col6\" class=\"data row1 col6\" >0.5371</td>\n",
       "    </tr>\n",
       "    <tr>\n",
       "      <th id=\"T_f0655_level0_row2\" class=\"row_heading level0 row2\" >2</th>\n",
       "      <td id=\"T_f0655_row2_col0\" class=\"data row2 col0\" >0.7689</td>\n",
       "      <td id=\"T_f0655_row2_col1\" class=\"data row2 col1\" >0.8553</td>\n",
       "      <td id=\"T_f0655_row2_col2\" class=\"data row2 col2\" >0.7511</td>\n",
       "      <td id=\"T_f0655_row2_col3\" class=\"data row2 col3\" >0.5435</td>\n",
       "      <td id=\"T_f0655_row2_col4\" class=\"data row2 col4\" >0.6306</td>\n",
       "      <td id=\"T_f0655_row2_col5\" class=\"data row2 col5\" >0.4687</td>\n",
       "      <td id=\"T_f0655_row2_col6\" class=\"data row2 col6\" >0.4817</td>\n",
       "    </tr>\n",
       "    <tr>\n",
       "      <th id=\"T_f0655_level0_row3\" class=\"row_heading level0 row3\" >3</th>\n",
       "      <td id=\"T_f0655_row3_col0\" class=\"data row3 col0\" >0.7418</td>\n",
       "      <td id=\"T_f0655_row3_col1\" class=\"data row3 col1\" >0.8117</td>\n",
       "      <td id=\"T_f0655_row3_col2\" class=\"data row3 col2\" >0.6996</td>\n",
       "      <td id=\"T_f0655_row3_col3\" class=\"data row3 col3\" >0.5062</td>\n",
       "      <td id=\"T_f0655_row3_col4\" class=\"data row3 col4\" >0.5874</td>\n",
       "      <td id=\"T_f0655_row3_col5\" class=\"data row3 col5\" >0.4065</td>\n",
       "      <td id=\"T_f0655_row3_col6\" class=\"data row3 col6\" >0.4177</td>\n",
       "    </tr>\n",
       "    <tr>\n",
       "      <th id=\"T_f0655_level0_row4\" class=\"row_heading level0 row4\" >4</th>\n",
       "      <td id=\"T_f0655_row4_col0\" class=\"data row4 col0\" >0.7678</td>\n",
       "      <td id=\"T_f0655_row4_col1\" class=\"data row4 col1\" >0.8615</td>\n",
       "      <td id=\"T_f0655_row4_col2\" class=\"data row4 col2\" >0.8069</td>\n",
       "      <td id=\"T_f0655_row4_col3\" class=\"data row4 col3\" >0.5387</td>\n",
       "      <td id=\"T_f0655_row4_col4\" class=\"data row4 col4\" >0.6460</td>\n",
       "      <td id=\"T_f0655_row4_col5\" class=\"data row4 col5\" >0.4833</td>\n",
       "      <td id=\"T_f0655_row4_col6\" class=\"data row4 col6\" >0.5051</td>\n",
       "    </tr>\n",
       "    <tr>\n",
       "      <th id=\"T_f0655_level0_row5\" class=\"row_heading level0 row5\" >Mean</th>\n",
       "      <td id=\"T_f0655_row5_col0\" class=\"data row5 col0\" >0.7676</td>\n",
       "      <td id=\"T_f0655_row5_col1\" class=\"data row5 col1\" >0.8485</td>\n",
       "      <td id=\"T_f0655_row5_col2\" class=\"data row5 col2\" >0.7650</td>\n",
       "      <td id=\"T_f0655_row5_col3\" class=\"data row5 col3\" >0.5408</td>\n",
       "      <td id=\"T_f0655_row5_col4\" class=\"data row5 col4\" >0.6335</td>\n",
       "      <td id=\"T_f0655_row5_col5\" class=\"data row5 col5\" >0.4706</td>\n",
       "      <td id=\"T_f0655_row5_col6\" class=\"data row5 col6\" >0.4860</td>\n",
       "    </tr>\n",
       "    <tr>\n",
       "      <th id=\"T_f0655_level0_row6\" class=\"row_heading level0 row6\" >Std</th>\n",
       "      <td id=\"T_f0655_row6_col0\" class=\"data row6 col0\" >0.0148</td>\n",
       "      <td id=\"T_f0655_row6_col1\" class=\"data row6 col1\" >0.0201</td>\n",
       "      <td id=\"T_f0655_row6_col2\" class=\"data row6 col2\" >0.0411</td>\n",
       "      <td id=\"T_f0655_row6_col3\" class=\"data row6 col3\" >0.0199</td>\n",
       "      <td id=\"T_f0655_row6_col4\" class=\"data row6 col4\" >0.0264</td>\n",
       "      <td id=\"T_f0655_row6_col5\" class=\"data row6 col5\" >0.0365</td>\n",
       "      <td id=\"T_f0655_row6_col6\" class=\"data row6 col6\" >0.0391</td>\n",
       "    </tr>\n",
       "  </tbody>\n",
       "</table>\n"
      ],
      "text/plain": [
       "<pandas.io.formats.style.Styler at 0x1512f262310>"
      ]
     },
     "metadata": {},
     "output_type": "display_data"
    },
    {
     "data": {
      "text/html": [],
      "text/plain": [
       "<IPython.core.display.HTML object>"
      ]
     },
     "metadata": {},
     "output_type": "display_data"
    },
    {
     "name": "stdout",
     "output_type": "stream",
     "text": [
      "Fitting 5 folds for each of 10 candidates, totalling 50 fits\n"
     ]
    }
   ],
   "source": [
    "model_lr = create_model('lr')\n",
    "model_lr = tune_model(model_lr, optimize='recall', n_iter=10)"
   ]
  },
  {
   "cell_type": "code",
   "execution_count": 39,
   "id": "da418cd8",
   "metadata": {
    "ExecuteTime": {
     "end_time": "2024-06-23T19:37:29.855554Z",
     "start_time": "2024-06-23T19:37:29.824358Z"
    },
    "deletable": false,
    "editable": false
   },
   "outputs": [
    {
     "name": "stdout",
     "output_type": "stream",
     "text": [
      "Accuracy: 0.7943262411347518\n",
      "roc-auc: 0.8668576923831766\n",
      "              precision    recall  f1-score   support\n",
      "\n",
      "           0       0.90      0.80      0.85       502\n",
      "           1       0.61      0.77      0.68       203\n",
      "\n",
      "    accuracy                           0.79       705\n",
      "   macro avg       0.76      0.79      0.77       705\n",
      "weighted avg       0.82      0.79      0.80       705\n",
      "\n"
     ]
    }
   ],
   "source": [
    "y_pred_lr = model_lr.predict(X_test)\n",
    "y_pred_lr_proba = model_lr.predict_proba(X_test)\n",
    "\n",
    "print(\"Accuracy:\", model_lr.score(X_test, y_test))\n",
    "print(\"roc-auc:\", roc_auc_score(y_test, y_pred_lr_proba[:, 1]))\n",
    "print(classification_report(y_test, y_pred_lr))"
   ]
  }
 ],
 "metadata": {
  "kernelspec": {
   "display_name": "Python 3 (ipykernel)",
   "language": "python",
   "name": "python3"
  },
  "language_info": {
   "codemirror_mode": {
    "name": "ipython",
    "version": 3
   },
   "file_extension": ".py",
   "mimetype": "text/x-python",
   "name": "python",
   "nbconvert_exporter": "python",
   "pygments_lexer": "ipython3",
   "version": "3.9.12"
  },
  "toc": {
   "base_numbering": 1,
   "nav_menu": {},
   "number_sections": true,
   "sideBar": true,
   "skip_h1_title": false,
   "title_cell": "Table of Contents",
   "title_sidebar": "Contents",
   "toc_cell": false,
   "toc_position": {},
   "toc_section_display": true,
   "toc_window_display": false
  },
  "varInspector": {
   "cols": {
    "lenName": 16,
    "lenType": 16,
    "lenVar": 40
   },
   "kernels_config": {
    "python": {
     "delete_cmd_postfix": "",
     "delete_cmd_prefix": "del ",
     "library": "var_list.py",
     "varRefreshCmd": "print(var_dic_list())"
    },
    "r": {
     "delete_cmd_postfix": ") ",
     "delete_cmd_prefix": "rm(",
     "library": "var_list.r",
     "varRefreshCmd": "cat(var_dic_list()) "
    }
   },
   "types_to_exclude": [
    "module",
    "function",
    "builtin_function_or_method",
    "instance",
    "_Feature"
   ],
   "window_display": false
  }
 },
 "nbformat": 4,
 "nbformat_minor": 5
}

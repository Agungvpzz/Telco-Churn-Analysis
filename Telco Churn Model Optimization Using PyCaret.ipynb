{
 "cells": [
  {
   "cell_type": "code",
   "execution_count": null,
   "id": "0805676a",
   "metadata": {
    "ExecuteTime": {
     "end_time": "2024-06-19T07:48:57.949106Z",
     "start_time": "2024-06-19T07:48:57.940132Z"
    },
    "deletable": false,
    "editable": false
   },
   "outputs": [],
   "source": [
    "import pandas as pd\n",
    "from sklearn.metrics import confusion_matrix, classification_report, auc, roc_auc_score, roc_curve, accuracy_score\n",
    "from pycaret.classification import *"
   ]
  },
  {
   "cell_type": "code",
   "execution_count": null,
   "id": "d24dbe32",
   "metadata": {
    "ExecuteTime": {
     "end_time": "2024-06-19T07:49:38.289521Z",
     "start_time": "2024-06-19T07:49:38.241433Z"
    },
    "deletable": false,
    "editable": false
   },
   "outputs": [],
   "source": [
    "df = pd.read_csv(\"F:/Data/datas/WA_Fn-UseC_-Telco-Customer-Churn.csv\", index_col=0)"
   ]
  },
  {
   "cell_type": "markdown",
   "id": "28e580b0",
   "metadata": {
    "deletable": false,
    "editable": false,
    "run_control": {
     "frozen": true
    }
   },
   "source": [
    "**Fix Data Error**\n",
    "- 0 tenure value causes the blank value in the total charges column and makes that column detected automatically as object data type\n",
    "- We replace the blank string values with 0.0 float number"
   ]
  },
  {
   "cell_type": "code",
   "execution_count": null,
   "id": "d62f9286",
   "metadata": {
    "ExecuteTime": {
     "end_time": "2024-06-19T07:49:39.720145Z",
     "start_time": "2024-06-19T07:49:39.702192Z"
    },
    "deletable": false,
    "editable": false
   },
   "outputs": [],
   "source": [
    "# Fix data type error\n",
    "df.loc[df['tenure'] == 0, 'TotalCharges'] = 0.0\n",
    "df['TotalCharges'] = pd.to_numeric(df['TotalCharges'], errors='coerce')\n",
    "print(\"Missing Values:\", df['TotalCharges'].isna().sum())"
   ]
  },
  {
   "cell_type": "markdown",
   "id": "d8ce1f6c",
   "metadata": {
    "ExecuteTime": {
     "end_time": "2024-06-18T03:03:18.912872Z",
     "start_time": "2024-06-18T03:03:18.905893Z"
    },
    "deletable": false,
    "editable": false,
    "heading_collapsed": true,
    "run_control": {
     "frozen": true
    }
   },
   "source": [
    "### Model Setup"
   ]
  },
  {
   "cell_type": "markdown",
   "id": "b6d1a488",
   "metadata": {
    "deletable": false,
    "editable": false,
    "hidden": true
   },
   "source": [
    "- We do split our data into train data and test data to prevent data leakage to test our model (even though the PyCaret itself already handles this data train-test split automatically to prevent the data leakage issue)\n",
    "- We also use the original data frame because the PyCaret will handle the all data-processed steps"
   ]
  },
  {
   "cell_type": "code",
   "execution_count": null,
   "id": "9c0baeaa",
   "metadata": {
    "ExecuteTime": {
     "end_time": "2024-06-19T05:57:14.921594Z",
     "start_time": "2024-06-19T05:57:14.902484Z"
    },
    "deletable": false,
    "editable": false,
    "hidden": true
   },
   "outputs": [],
   "source": [
    "data, data_unseen = train_test_split(df, test_size=0.1, random_state=123)"
   ]
  },
  {
   "cell_type": "code",
   "execution_count": null,
   "id": "730a02ea",
   "metadata": {
    "code_folding": [],
    "deletable": false,
    "editable": false,
    "hidden": true
   },
   "outputs": [],
   "source": [
    "exp01 = setup(data=data, target=\"Churn\", session_id=RANDOM_SEED, ignore_features=[\"customerID\"], \n",
    "                numeric_features=[\"SeniorCitizen\"], normalize=True,\n",
    "                feature_selection=True, remove_outliers=True,\n",
    "                remove_multicollinearity=True, fix_imbalance=True,\n",
    "                transformation=True, ignore_low_variance=True, pca=True, \n",
    "                bin_numeric_features=[\"MonthlyCharges\", \"TotalCharges\"],\n",
    "                silent=True, experiment_name=\"customer-churn-prediction\",\n",
    "                log_experiment=True)"
   ]
  },
  {
   "cell_type": "code",
   "execution_count": null,
   "id": "c19a4bee",
   "metadata": {
    "ExecuteTime": {
     "end_time": "2024-06-19T06:08:42.108386Z",
     "start_time": "2024-06-19T06:08:39.333985Z"
    },
    "deletable": false,
    "editable": false,
    "hidden": true
   },
   "outputs": [],
   "source": [
    "classification_setup = setup(\n",
    "    data=data,\n",
    "    target='Churn',\n",
    "    session_id=123,\n",
    "    remove_outliers=True,\n",
    "    outliers_method='iforest',\n",
    "    outliers_threshold=0.05,\n",
    "    train_size=0.7,\n",
    "    normalize=False,\n",
    "    normalize_method='zscore',\n",
    "    transformation=True,\n",
    "    transformation_method='yeo-johnson',\n",
    "    fix_imbalance=True,\n",
    "    fix_imbalance_method='SMOTE',\n",
    "    fold_strategy='stratifiedkfold',\n",
    "    fold=5,\n",
    "    data_split_stratify=True,\n",
    ")"
   ]
  },
  {
   "cell_type": "code",
   "execution_count": null,
   "id": "71abf3ab",
   "metadata": {
    "ExecuteTime": {
     "end_time": "2024-06-19T06:04:59.208640Z",
     "start_time": "2024-06-19T06:04:58.754635Z"
    },
    "deletable": false,
    "editable": false,
    "hidden": true
   },
   "outputs": [],
   "source": [
    "data_unseen = classification_setup.pipeline.transform(data_unseen)"
   ]
  },
  {
   "cell_type": "markdown",
   "id": "74043c5b",
   "metadata": {
    "ExecuteTime": {
     "end_time": "2024-06-18T03:03:31.995475Z",
     "start_time": "2024-06-18T03:03:31.988494Z"
    },
    "deletable": false,
    "editable": false,
    "heading_collapsed": true
   },
   "source": [
    "### Get the best model"
   ]
  },
  {
   "cell_type": "code",
   "execution_count": null,
   "id": "a90a9a42",
   "metadata": {
    "ExecuteTime": {
     "end_time": "2024-06-19T06:12:48.724761Z",
     "start_time": "2024-06-19T06:12:48.556990Z"
    },
    "deletable": false,
    "editable": false,
    "hidden": true
   },
   "outputs": [],
   "source": [
    "get_config('y_train_transformed').value_counts()"
   ]
  },
  {
   "cell_type": "code",
   "execution_count": null,
   "id": "5d5afc6d",
   "metadata": {
    "ExecuteTime": {
     "end_time": "2024-06-19T06:12:59.766064Z",
     "start_time": "2024-06-19T06:12:59.677895Z"
    },
    "deletable": false,
    "editable": false,
    "hidden": true
   },
   "outputs": [],
   "source": [
    "get_config('y_test_transformed').value_counts()"
   ]
  },
  {
   "cell_type": "code",
   "execution_count": null,
   "id": "da385610",
   "metadata": {
    "ExecuteTime": {
     "end_time": "2024-06-19T06:10:26.472457Z",
     "start_time": "2024-06-19T06:08:45.848311Z"
    },
    "deletable": false,
    "editable": false,
    "hidden": true
   },
   "outputs": [],
   "source": [
    "best_model = compare_models(budget_time=1)"
   ]
  },
  {
   "cell_type": "markdown",
   "id": "cacfd47e",
   "metadata": {
    "deletable": false,
    "editable": false,
    "hidden": true
   },
   "source": [
    "- We chose the AdaBoost Classifier as our general model because it achieved the highest AUC and F1 scores.\n",
    "- We selected Naive Bayes for optimizing recall due to its high recall yet good AUC score."
   ]
  },
  {
   "cell_type": "markdown",
   "id": "3cfda3ed",
   "metadata": {
    "ExecuteTime": {
     "end_time": "2024-06-18T03:03:39.871377Z",
     "start_time": "2024-06-18T03:03:39.862358Z"
    },
    "deletable": false,
    "editable": false,
    "heading_collapsed": true,
    "run_control": {
     "frozen": true
    }
   },
   "source": [
    "### Create a Model"
   ]
  },
  {
   "cell_type": "code",
   "execution_count": null,
   "id": "b907f653",
   "metadata": {
    "ExecuteTime": {
     "end_time": "2024-06-19T06:14:03.831156Z",
     "start_time": "2024-06-19T06:13:59.900593Z"
    },
    "deletable": false,
    "editable": false,
    "hidden": true
   },
   "outputs": [],
   "source": [
    "lda_model = create_model('lda')"
   ]
  },
  {
   "cell_type": "code",
   "execution_count": null,
   "id": "1fb2a1cf",
   "metadata": {
    "ExecuteTime": {
     "end_time": "2024-06-19T06:15:33.269137Z",
     "start_time": "2024-06-19T06:15:07.880258Z"
    },
    "deletable": false,
    "editable": false,
    "hidden": true
   },
   "outputs": [],
   "source": [
    "lda_model_tuned = tune_model(lda_model, optimize='AUC')"
   ]
  },
  {
   "cell_type": "code",
   "execution_count": null,
   "id": "0d4971d0",
   "metadata": {
    "ExecuteTime": {
     "end_time": "2024-06-19T02:18:06.268575Z",
     "start_time": "2024-06-19T02:18:04.716922Z"
    },
    "deletable": false,
    "editable": false,
    "hidden": true
   },
   "outputs": [],
   "source": [
    "ada_model = create_model('ada')"
   ]
  },
  {
   "cell_type": "code",
   "execution_count": null,
   "id": "d8247690",
   "metadata": {
    "ExecuteTime": {
     "end_time": "2024-06-19T02:17:53.902201Z",
     "start_time": "2024-06-19T02:17:53.409515Z"
    },
    "deletable": false,
    "editable": false,
    "hidden": true
   },
   "outputs": [],
   "source": [
    "nb_model = create_model('nb')"
   ]
  },
  {
   "cell_type": "code",
   "execution_count": null,
   "id": "88035d8e",
   "metadata": {
    "ExecuteTime": {
     "end_time": "2024-06-19T02:18:24.353010Z",
     "start_time": "2024-06-19T02:18:24.339306Z"
    },
    "deletable": false,
    "editable": false,
    "hidden": true
   },
   "outputs": [],
   "source": [
    "test_data_X = test_data.drop('Churn', axis=1)\n",
    "test_data_y = test_data['Churn']"
   ]
  },
  {
   "cell_type": "code",
   "execution_count": null,
   "id": "a730bfcd",
   "metadata": {
    "ExecuteTime": {
     "end_time": "2024-06-19T02:21:50.392994Z",
     "start_time": "2024-06-19T02:21:50.195872Z"
    },
    "deletable": false,
    "editable": false,
    "hidden": true
   },
   "outputs": [],
   "source": [
    "y_pred_ada_proba = ada_model.predict_proba(get_config('X_test'))\n",
    "y_pred_nb_proba = nb_model.predict_proba(get_config('X_test'))\n",
    "\n",
    "print(\"ada model test accuracy:\", ada_model.score(get_config('X_test'), get_config('y_test')))\n",
    "print(\"nb model test accuracy:\", nb_model.score(get_config('X_test'), get_config('y_test')))\n",
    "print(\"ada model auc score:\", roc_auc_score(get_config('y_test'), y_pred_ada_proba[:, 1]))\n",
    "print(\"nb model auc score:\", roc_auc_score(get_config('y_test'), y_pred_nb_proba[:, 1]))"
   ]
  },
  {
   "cell_type": "code",
   "execution_count": null,
   "id": "b6278464",
   "metadata": {
    "ExecuteTime": {
     "end_time": "2024-06-19T02:21:54.924679Z",
     "start_time": "2024-06-19T02:21:54.852979Z"
    },
    "deletable": false,
    "editable": false,
    "hidden": true
   },
   "outputs": [],
   "source": [
    "y_pred_ada_proba = ada_model.predict_proba(test_data_X)\n",
    "y_pred_nb_proba = nb_model.predict_proba(test_data_X)\n",
    "\n",
    "print(\"ada model test accuracy:\", ada_model.score(test_data_X, test_data_y))\n",
    "print(\"nb model test accuracy:\", nb_model.score(test_data_X, test_data_y))\n",
    "print(\"ada model auc score:\", roc_auc_score(test_data_y, y_pred_ada_proba[:, 1]))\n",
    "print(\"nb model auc score:\", roc_auc_score(test_data_y, y_pred_nb_proba[:, 1]))"
   ]
  },
  {
   "cell_type": "markdown",
   "id": "5df84429",
   "metadata": {
    "ExecuteTime": {
     "end_time": "2024-06-18T03:03:49.408219Z",
     "start_time": "2024-06-18T03:03:49.400199Z"
    },
    "deletable": false,
    "editable": false,
    "heading_collapsed": true
   },
   "source": [
    "### Model Evaluation"
   ]
  },
  {
   "cell_type": "code",
   "execution_count": null,
   "id": "ed647f94",
   "metadata": {
    "ExecuteTime": {
     "end_time": "2024-06-18T08:02:23.332624Z",
     "start_time": "2024-06-18T08:02:23.016417Z"
    },
    "deletable": false,
    "editable": false,
    "hidden": true
   },
   "outputs": [],
   "source": [
    "evaluate_model(ada_model)"
   ]
  },
  {
   "cell_type": "code",
   "execution_count": null,
   "id": "76125c46",
   "metadata": {
    "ExecuteTime": {
     "end_time": "2024-06-18T08:02:33.666920Z",
     "start_time": "2024-06-18T08:02:33.367153Z"
    },
    "deletable": false,
    "editable": false,
    "hidden": true
   },
   "outputs": [],
   "source": [
    "evaluate_model(nb_model)"
   ]
  },
  {
   "cell_type": "markdown",
   "id": "f2e917d6",
   "metadata": {
    "ExecuteTime": {
     "end_time": "2024-06-18T03:03:57.709277Z",
     "start_time": "2024-06-18T03:03:57.692487Z"
    },
    "deletable": false,
    "editable": false,
    "run_control": {
     "frozen": true
    }
   },
   "source": [
    "### Tuning Model"
   ]
  },
  {
   "cell_type": "code",
   "execution_count": null,
   "id": "4956f616",
   "metadata": {
    "ExecuteTime": {
     "end_time": "2024-06-19T02:22:23.675639Z",
     "start_time": "2024-06-19T02:22:23.663145Z"
    },
    "deletable": false,
    "editable": false,
    "scrolled": true
   },
   "outputs": [],
   "source": [
    "custom_grid = {'n_estimators': [50, 100, 150, 200], 'learning_rate': [0.05, 0.1, 0.2, 0.5, 1]}"
   ]
  },
  {
   "cell_type": "code",
   "execution_count": null,
   "id": "beee1333",
   "metadata": {
    "ExecuteTime": {
     "end_time": "2024-06-19T02:24:48.271370Z",
     "start_time": "2024-06-19T02:24:17.091175Z"
    },
    "deletable": false,
    "editable": false
   },
   "outputs": [],
   "source": [
    "ada_model = tune_model(ada_model, optimize='auc', custom_grid=custom_grid)"
   ]
  },
  {
   "cell_type": "code",
   "execution_count": null,
   "id": "743832d6",
   "metadata": {
    "ExecuteTime": {
     "end_time": "2024-06-19T02:23:36.672344Z",
     "start_time": "2024-06-19T02:23:36.663453Z"
    },
    "deletable": false,
    "editable": false
   },
   "outputs": [],
   "source": [
    "param_grid_gnb = {'var_smoothing': [1e-9, 1e-8, 1e-7, 1e-6, 1e-5]}"
   ]
  },
  {
   "cell_type": "code",
   "execution_count": null,
   "id": "c936d066",
   "metadata": {
    "ExecuteTime": {
     "end_time": "2024-06-19T02:23:39.093383Z",
     "start_time": "2024-06-19T02:23:37.352469Z"
    },
    "deletable": false,
    "editable": false
   },
   "outputs": [],
   "source": [
    "nb_model = tune_model(nb_model, optimize='recall', custom_grid=param_grid_gnb)"
   ]
  },
  {
   "cell_type": "markdown",
   "id": "03886602",
   "metadata": {
    "deletable": false,
    "editable": false
   },
   "source": [
    "- We decide to choose **Recall** optimization as the evaluation scoring metric.\n",
    "- we assume that:\n",
    "    - The cost of acquiring new customers is higher than retaining existing ones.\n",
    "    - Retention Efforts Are Not Exorbitantly Expensive"
   ]
  }
 ],
 "metadata": {
  "kernelspec": {
   "display_name": "Python 3 (ipykernel)",
   "language": "python",
   "name": "python3"
  },
  "language_info": {
   "codemirror_mode": {
    "name": "ipython",
    "version": 3
   },
   "file_extension": ".py",
   "mimetype": "text/x-python",
   "name": "python",
   "nbconvert_exporter": "python",
   "pygments_lexer": "ipython3",
   "version": "3.9.12"
  },
  "toc": {
   "base_numbering": 1,
   "nav_menu": {},
   "number_sections": true,
   "sideBar": true,
   "skip_h1_title": false,
   "title_cell": "Table of Contents",
   "title_sidebar": "Contents",
   "toc_cell": false,
   "toc_position": {},
   "toc_section_display": true,
   "toc_window_display": false
  },
  "varInspector": {
   "cols": {
    "lenName": 16,
    "lenType": 16,
    "lenVar": 40
   },
   "kernels_config": {
    "python": {
     "delete_cmd_postfix": "",
     "delete_cmd_prefix": "del ",
     "library": "var_list.py",
     "varRefreshCmd": "print(var_dic_list())"
    },
    "r": {
     "delete_cmd_postfix": ") ",
     "delete_cmd_prefix": "rm(",
     "library": "var_list.r",
     "varRefreshCmd": "cat(var_dic_list()) "
    }
   },
   "types_to_exclude": [
    "module",
    "function",
    "builtin_function_or_method",
    "instance",
    "_Feature"
   ],
   "window_display": false
  }
 },
 "nbformat": 4,
 "nbformat_minor": 5
}

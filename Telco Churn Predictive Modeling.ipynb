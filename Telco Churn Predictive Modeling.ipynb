{
 "cells": [
  {
   "cell_type": "markdown",
   "id": "16bdfe10",
   "metadata": {
    "deletable": false,
    "editable": false,
    "run_control": {
     "frozen": true
    }
   },
   "source": [
    "https://www.kaggle.com/code/arezoodahesh/customer-churn-with-oversampling-techniques#Import-Libraries"
   ]
  },
  {
   "cell_type": "code",
   "execution_count": 1,
   "id": "2ab22c47",
   "metadata": {
    "ExecuteTime": {
     "end_time": "2024-06-10T15:15:06.218189Z",
     "start_time": "2024-06-10T15:14:46.798256Z"
    },
    "deletable": false,
    "editable": false
   },
   "outputs": [],
   "source": [
    "import pandas as pd\n",
    "import numpy as np\n",
    "\n",
    "import plotly.express as px"
   ]
  },
  {
   "cell_type": "code",
   "execution_count": 2,
   "id": "3675523c",
   "metadata": {
    "ExecuteTime": {
     "end_time": "2024-06-10T15:15:25.758202Z",
     "start_time": "2024-06-10T15:15:06.267016Z"
    },
    "deletable": false,
    "editable": false
   },
   "outputs": [],
   "source": [
    "from sklearn.preprocessing import LabelEncoder, StandardScaler\n",
    "from sklearn.metrics import confusion_matrix, classification_report, auc, roc_auc_score, roc_curve\n",
    "from sklearn.model_selection import train_test_split\n",
    "\n",
    "from imblearn.over_sampling import SMOTE, ADASYN, BorderlineSMOTE, SVMSMOTE, RandomOverSampler\n",
    "\n",
    "from scipy import stats\n",
    "import joblib"
   ]
  },
  {
   "cell_type": "code",
   "execution_count": 3,
   "id": "03a99237",
   "metadata": {
    "ExecuteTime": {
     "end_time": "2024-06-10T15:15:29.323210Z",
     "start_time": "2024-06-10T15:15:28.519055Z"
    },
    "deletable": false,
    "editable": false
   },
   "outputs": [],
   "source": [
    "from sklearn.linear_model import LogisticRegression\n",
    "from sklearn.tree import DecisionTreeClassifier\n",
    "from sklearn.ensemble import RandomForestClassifier\n",
    "from xgboost import XGBClassifier"
   ]
  },
  {
   "cell_type": "code",
   "execution_count": 4,
   "id": "c504b9d3",
   "metadata": {
    "ExecuteTime": {
     "end_time": "2024-06-10T15:15:36.903570Z",
     "start_time": "2024-06-10T15:15:32.789361Z"
    },
    "deletable": false,
    "editable": false
   },
   "outputs": [],
   "source": [
    "from funcs.plots.confusion_matrix import plot_confusion_matrix\n",
    "from funcs.plots.roc_curves import plot_roc_curves, plot_roc_area_curve\n",
    "from funcs.plots.tpr_fpr_thresholds import plot_tpr_fpr_thresholds\n",
    "from funcs.plots.distribution import plot_violin_binary_dist, plots_kde"
   ]
  },
  {
   "cell_type": "code",
   "execution_count": 5,
   "id": "51e2713d",
   "metadata": {
    "ExecuteTime": {
     "end_time": "2024-06-10T15:15:39.958296Z",
     "start_time": "2024-06-10T15:15:38.084742Z"
    },
    "deletable": false,
    "editable": false
   },
   "outputs": [],
   "source": [
    "from statsmodels.stats.outliers_influence import variance_inflation_factor"
   ]
  },
  {
   "cell_type": "code",
   "execution_count": 6,
   "id": "1feac2b8",
   "metadata": {
    "ExecuteTime": {
     "end_time": "2024-06-10T15:15:41.150102Z",
     "start_time": "2024-06-10T15:15:40.704096Z"
    },
    "deletable": false,
    "editable": false
   },
   "outputs": [],
   "source": [
    "df = pd.read_csv(\"F:/Data/datas/WA_Fn-UseC_-Telco-Customer-Churn.csv\", index_col=0)\n",
    "df['Churn'] = df['Churn'].map({'Yes':1, 'No':0})"
   ]
  },
  {
   "cell_type": "code",
   "execution_count": 7,
   "id": "9620adba",
   "metadata": {
    "ExecuteTime": {
     "end_time": "2024-06-10T15:15:41.839752Z",
     "start_time": "2024-06-10T15:15:41.830774Z"
    },
    "deletable": false,
    "editable": false
   },
   "outputs": [],
   "source": [
    "NUM_COLS = [\"tenure\", \"MonthlyCharges\", \"TotalCharges\"]"
   ]
  },
  {
   "cell_type": "markdown",
   "id": "f173c90a",
   "metadata": {
    "ExecuteTime": {
     "end_time": "2024-06-05T13:50:05.900824Z",
     "start_time": "2024-06-05T13:50:05.889768Z"
    },
    "deletable": false,
    "editable": false,
    "run_control": {
     "frozen": true
    }
   },
   "source": [
    "## Data Preparation"
   ]
  },
  {
   "cell_type": "markdown",
   "id": "4aabdba4",
   "metadata": {
    "ExecuteTime": {
     "end_time": "2024-06-05T13:50:55.249794Z",
     "start_time": "2024-06-05T13:50:55.240795Z"
    },
    "deletable": false,
    "editable": false,
    "run_control": {
     "frozen": true
    }
   },
   "source": [
    "### Data Cleaning"
   ]
  },
  {
   "cell_type": "markdown",
   "id": "21c06c9c",
   "metadata": {
    "ExecuteTime": {
     "end_time": "2024-06-09T17:40:14.833342Z",
     "start_time": "2024-06-09T17:40:14.827358Z"
    },
    "deletable": false,
    "editable": false,
    "heading_collapsed": true,
    "run_control": {
     "frozen": true
    }
   },
   "source": [
    "#### Drop 0 Tenure"
   ]
  },
  {
   "cell_type": "code",
   "execution_count": 8,
   "id": "2f931567",
   "metadata": {
    "ExecuteTime": {
     "end_time": "2024-06-10T15:15:45.528483Z",
     "start_time": "2024-06-10T15:15:45.485964Z"
    },
    "deletable": false,
    "editable": false,
    "hidden": true
   },
   "outputs": [],
   "source": [
    "df = df.drop(index=df[df['tenure'] == 0].index)"
   ]
  },
  {
   "cell_type": "markdown",
   "id": "31aab607",
   "metadata": {
    "ExecuteTime": {
     "end_time": "2024-06-05T13:51:14.226535Z",
     "start_time": "2024-06-05T13:51:14.211379Z"
    },
    "deletable": false,
    "editable": false,
    "heading_collapsed": true,
    "run_control": {
     "frozen": true
    }
   },
   "source": [
    "#### Drop Missing Values"
   ]
  },
  {
   "cell_type": "code",
   "execution_count": 9,
   "id": "e044383f",
   "metadata": {
    "ExecuteTime": {
     "end_time": "2024-06-10T15:15:46.338287Z",
     "start_time": "2024-06-10T15:15:46.298698Z"
    },
    "deletable": false,
    "editable": false,
    "hidden": true
   },
   "outputs": [
    {
     "name": "stdout",
     "output_type": "stream",
     "text": [
      "Missing Values: 0\n",
      "Missing Values: 0\n"
     ]
    }
   ],
   "source": [
    "df['TotalCharges'] = pd.to_numeric(df['TotalCharges'], errors='coerce')\n",
    "print(\"Missing Values:\", df['TotalCharges'].isna().sum())\n",
    "df['TotalCharges'] = df['TotalCharges'].fillna(df['TotalCharges'].median())\n",
    "print(\"Missing Values:\", df['TotalCharges'].isna().sum())"
   ]
  },
  {
   "cell_type": "markdown",
   "id": "c87347fc",
   "metadata": {
    "ExecuteTime": {
     "end_time": "2024-06-05T13:58:21.306422Z",
     "start_time": "2024-06-05T13:58:21.300439Z"
    },
    "deletable": false,
    "editable": false,
    "heading_collapsed": true,
    "run_control": {
     "frozen": true
    }
   },
   "source": [
    "#### Handling Outliers (Optional)"
   ]
  },
  {
   "cell_type": "code",
   "execution_count": 10,
   "id": "a7e3ce6d",
   "metadata": {
    "ExecuteTime": {
     "end_time": "2024-06-10T15:15:47.752679Z",
     "start_time": "2024-06-10T15:15:47.733707Z"
    },
    "code_folding": [
     0
    ],
    "deletable": false,
    "editable": false,
    "hidden": true
   },
   "outputs": [],
   "source": [
    "def replace_outliers(df, columns):\n",
    "    df = df.copy()\n",
    "    \n",
    "    for col in columns:\n",
    "        Q1 = df[col].quantile(0.25)\n",
    "        Q3 = df[col].quantile(0.75)\n",
    "        IQR = Q3-Q1\n",
    "        \n",
    "        top_cap = Q3 + (IQR * 1.5)\n",
    "        bottom_cap = Q1 - (IQR * 1.5)\n",
    "        \n",
    "        if df[col].max() > top_cap:\n",
    "            print(\"above bottom cap:\", df[df[col] > top_cap].shape[0])            \n",
    "            df[col] = df[col].apply(lambda x: top_cap if x > top_cap else x)\n",
    "        if df[col].min() < bottom_cap:\n",
    "            print(\"below bottom cap:\", df[df[col] < top_cap].shape[0])\n",
    "            df[col] = df[col].apply(lambda x: bottom_cap if x < bottom_cap else x)\n",
    "                \n",
    "    return df"
   ]
  },
  {
   "cell_type": "code",
   "execution_count": 11,
   "id": "724576d2",
   "metadata": {
    "ExecuteTime": {
     "end_time": "2024-06-10T15:15:48.477550Z",
     "start_time": "2024-06-10T15:15:48.461590Z"
    },
    "code_folding": [
     0
    ],
    "deletable": false,
    "editable": false,
    "hidden": true
   },
   "outputs": [],
   "source": [
    "def replace_outliers_by_group(df, columns, col_group):\n",
    "    df = df.copy()\n",
    "    groups = df[col_group].unique()\n",
    "    \n",
    "    for col in columns:\n",
    "        df[col] = df[col].astype(float)\n",
    "    \n",
    "    for group in groups:\n",
    "        datas = df[df[col_group] == group]\n",
    "        for col in columns:\n",
    "            data = datas[col]\n",
    "            Q1 = data.quantile(0.25)\n",
    "            Q3 = data.quantile(0.75)\n",
    "            IQR = Q3-Q1\n",
    "\n",
    "            top_cap = Q3 + (IQR * 1.5)\n",
    "            bottom_cap = Q1 - (IQR * 1.5)\n",
    "\n",
    "            if data.max() > top_cap:                \n",
    "                idx_above_cap = data[data > top_cap].index\n",
    "                print(f\"above top cap ({col} | {group}):\", len(idx_above_cap))\n",
    "                df.loc[idx_above_cap, col] = top_cap\n",
    "            if df[col].min() < bottom_cap:\n",
    "                idx_below_cap = data[data < bottom_cap].index\n",
    "                print(f\"below bottom cap ({col}):\", len(idx_below_cap))\n",
    "                df.loc[idx_below_cap, col] = idx_below_cap\n",
    "                \n",
    "    return df"
   ]
  },
  {
   "cell_type": "markdown",
   "id": "944c10e3",
   "metadata": {
    "ExecuteTime": {
     "end_time": "2024-06-09T04:26:07.324024Z",
     "start_time": "2024-06-09T04:26:07.318380Z"
    },
    "deletable": false,
    "editable": false,
    "heading_collapsed": true,
    "hidden": true,
    "run_control": {
     "frozen": true
    }
   },
   "source": [
    "##### Without Grouping"
   ]
  },
  {
   "cell_type": "code",
   "execution_count": null,
   "id": "957dae96",
   "metadata": {
    "ExecuteTime": {
     "end_time": "2024-06-10T05:51:05.199008Z",
     "start_time": "2024-06-10T05:50:49.715886Z"
    },
    "deletable": false,
    "editable": false,
    "hidden": true
   },
   "outputs": [],
   "source": [
    "fig_kde_outliers = plots_kde(df, ['tenure', 'TotalCharges', 'MonthlyCharges'], 1)"
   ]
  },
  {
   "cell_type": "markdown",
   "id": "6657887e",
   "metadata": {
    "deletable": false,
    "editable": false,
    "hidden": true,
    "run_control": {
     "frozen": true
    }
   },
   "source": [
    "No outliers were detected when we didn't group them by \"Churn\" label"
   ]
  },
  {
   "cell_type": "code",
   "execution_count": null,
   "id": "2695a874",
   "metadata": {
    "ExecuteTime": {
     "end_time": "2024-06-10T05:51:50.751706Z",
     "start_time": "2024-06-10T05:51:50.719298Z"
    },
    "deletable": false,
    "editable": false,
    "hidden": true
   },
   "outputs": [],
   "source": [
    "fig_kde_outliers"
   ]
  },
  {
   "cell_type": "code",
   "execution_count": null,
   "id": "ed10290e",
   "metadata": {
    "ExecuteTime": {
     "end_time": "2024-06-10T05:51:49.828512Z",
     "start_time": "2024-06-10T05:51:49.801585Z"
    },
    "deletable": false,
    "editable": false,
    "hidden": true
   },
   "outputs": [],
   "source": [
    "df = replace_outliers(df, ['tenure', 'TotalCharges', 'MonthlyCharges'])"
   ]
  },
  {
   "cell_type": "markdown",
   "id": "0d276cb0",
   "metadata": {
    "ExecuteTime": {
     "end_time": "2024-06-09T04:26:32.406299Z",
     "start_time": "2024-06-09T04:26:32.401028Z"
    },
    "deletable": false,
    "editable": false,
    "hidden": true,
    "run_control": {
     "frozen": true
    }
   },
   "source": [
    "##### Grouping by Churn"
   ]
  },
  {
   "cell_type": "markdown",
   "id": "92de7da2",
   "metadata": {
    "deletable": false,
    "editable": false,
    "hidden": true,
    "run_control": {
     "frozen": true
    }
   },
   "source": [
    "Some outliers were detected if we group them by \"Churn\""
   ]
  },
  {
   "cell_type": "code",
   "execution_count": null,
   "id": "64c15b5b",
   "metadata": {
    "ExecuteTime": {
     "end_time": "2024-06-10T05:52:47.111709Z",
     "start_time": "2024-06-10T05:52:46.362251Z"
    },
    "deletable": false,
    "editable": false,
    "hidden": true
   },
   "outputs": [],
   "source": [
    "plot_violin_binary_dist(df, 'tenure', 'Churn')"
   ]
  },
  {
   "cell_type": "code",
   "execution_count": null,
   "id": "c5c89cea",
   "metadata": {
    "ExecuteTime": {
     "end_time": "2024-06-10T05:52:52.083525Z",
     "start_time": "2024-06-10T05:52:51.971166Z"
    },
    "deletable": false,
    "editable": false,
    "hidden": true
   },
   "outputs": [],
   "source": [
    "plot_violin_binary_dist(df, 'TotalCharges', 'Churn')"
   ]
  },
  {
   "cell_type": "code",
   "execution_count": null,
   "id": "6c175490",
   "metadata": {
    "ExecuteTime": {
     "end_time": "2024-06-10T05:53:03.732884Z",
     "start_time": "2024-06-10T05:53:03.626549Z"
    },
    "deletable": false,
    "editable": false,
    "hidden": true
   },
   "outputs": [],
   "source": [
    "plot_violin_binary_dist(df, 'MonthlyCharges', 'Churn')"
   ]
  },
  {
   "cell_type": "code",
   "execution_count": 12,
   "id": "b48581ac",
   "metadata": {
    "ExecuteTime": {
     "end_time": "2024-06-10T15:16:03.049102Z",
     "start_time": "2024-06-10T15:16:02.862804Z"
    },
    "deletable": false,
    "editable": false,
    "hidden": true
   },
   "outputs": [
    {
     "name": "stdout",
     "output_type": "stream",
     "text": [
      "above top cap (tenure | 1): 23\n",
      "above top cap (TotalCharges | 1): 109\n"
     ]
    }
   ],
   "source": [
    "df = replace_outliers_by_group(df, ['tenure', 'TotalCharges', 'MonthlyCharges'], 'Churn')"
   ]
  },
  {
   "cell_type": "markdown",
   "id": "75cb0cd1",
   "metadata": {
    "ExecuteTime": {
     "end_time": "2024-06-05T13:50:33.729739Z",
     "start_time": "2024-06-05T13:50:33.715763Z"
    },
    "deletable": false,
    "editable": false,
    "run_control": {
     "frozen": true
    }
   },
   "source": [
    "### Features Encoding"
   ]
  },
  {
   "cell_type": "markdown",
   "id": "1587c216",
   "metadata": {
    "ExecuteTime": {
     "end_time": "2024-06-05T13:54:49.362963Z",
     "start_time": "2024-06-05T13:54:49.344080Z"
    },
    "deletable": false,
    "editable": false,
    "run_control": {
     "frozen": true
    }
   },
   "source": [
    "#### Nominal Data into Binary"
   ]
  },
  {
   "cell_type": "markdown",
   "id": "7e01cb3b",
   "metadata": {
    "deletable": false,
    "editable": false,
    "run_control": {
     "frozen": true
    }
   },
   "source": [
    "We convert our nominal data into binary values."
   ]
  },
  {
   "cell_type": "code",
   "execution_count": 13,
   "id": "eb133bd6",
   "metadata": {
    "ExecuteTime": {
     "end_time": "2024-06-10T15:16:13.465237Z",
     "start_time": "2024-06-10T15:16:13.383165Z"
    },
    "deletable": false,
    "editable": false
   },
   "outputs": [
    {
     "name": "stdout",
     "output_type": "stream",
     "text": [
      "gender: \n",
      "['Female' 'Male']\n",
      "\n",
      "Partner: \n",
      "['Yes' 'No']\n",
      "\n",
      "Dependents: \n",
      "['No' 'Yes']\n",
      "\n",
      "PhoneService: \n",
      "['No' 'Yes']\n",
      "\n",
      "MultipleLines: \n",
      "['No phone service' 'No' 'Yes']\n",
      "\n",
      "InternetService: \n",
      "['DSL' 'Fiber optic' 'No']\n",
      "\n",
      "OnlineSecurity: \n",
      "['No' 'Yes' 'No internet service']\n",
      "\n",
      "OnlineBackup: \n",
      "['Yes' 'No' 'No internet service']\n",
      "\n",
      "DeviceProtection: \n",
      "['No' 'Yes' 'No internet service']\n",
      "\n",
      "TechSupport: \n",
      "['No' 'Yes' 'No internet service']\n",
      "\n",
      "StreamingTV: \n",
      "['No' 'Yes' 'No internet service']\n",
      "\n",
      "StreamingMovies: \n",
      "['No' 'Yes' 'No internet service']\n",
      "\n",
      "Contract: \n",
      "['Month-to-month' 'One year' 'Two year']\n",
      "\n",
      "PaperlessBilling: \n",
      "['Yes' 'No']\n",
      "\n",
      "PaymentMethod: \n",
      "['Electronic check' 'Mailed check' 'Bank transfer (automatic)'\n",
      " 'Credit card (automatic)']\n",
      "\n"
     ]
    }
   ],
   "source": [
    "for col in df.select_dtypes('object').columns:\n",
    "    print(f\"{col}: \\n{df[col].unique()}\\n\")"
   ]
  },
  {
   "cell_type": "code",
   "execution_count": 14,
   "id": "5c5ac0c8",
   "metadata": {
    "ExecuteTime": {
     "end_time": "2024-06-10T15:16:13.621647Z",
     "start_time": "2024-06-10T15:16:13.470184Z"
    },
    "deletable": false,
    "editable": false
   },
   "outputs": [],
   "source": [
    "df['gender'] = df['gender'].map({'Male':1, 'Female':0})\n",
    "df['Partner'] = df['Partner'].map({'Yes':1, 'No':0})\n",
    "df['Dependents'] = df['Dependents'].map({'Yes':1, 'No':0})\n",
    "df['PhoneService'] = df['PhoneService'].map({'Yes':1, 'No':0})\n",
    "df['PaperlessBilling'] = df['PaperlessBilling'].map({'Yes':1, 'No':0})"
   ]
  },
  {
   "cell_type": "code",
   "execution_count": 15,
   "id": "ab21c702",
   "metadata": {
    "ExecuteTime": {
     "end_time": "2024-06-10T15:16:14.010201Z",
     "start_time": "2024-06-10T15:16:13.625889Z"
    },
    "deletable": false,
    "editable": false
   },
   "outputs": [
    {
     "data": {
      "text/html": [
       "<div>\n",
       "<style scoped>\n",
       "    .dataframe tbody tr th:only-of-type {\n",
       "        vertical-align: middle;\n",
       "    }\n",
       "\n",
       "    .dataframe tbody tr th {\n",
       "        vertical-align: top;\n",
       "    }\n",
       "\n",
       "    .dataframe thead th {\n",
       "        text-align: right;\n",
       "    }\n",
       "</style>\n",
       "<table border=\"1\" class=\"dataframe\">\n",
       "  <thead>\n",
       "    <tr style=\"text-align: right;\">\n",
       "      <th></th>\n",
       "      <th>MultipleLines</th>\n",
       "      <th>InternetService</th>\n",
       "      <th>OnlineSecurity</th>\n",
       "      <th>OnlineBackup</th>\n",
       "      <th>DeviceProtection</th>\n",
       "      <th>TechSupport</th>\n",
       "      <th>StreamingTV</th>\n",
       "      <th>StreamingMovies</th>\n",
       "      <th>Contract</th>\n",
       "      <th>PaymentMethod</th>\n",
       "    </tr>\n",
       "  </thead>\n",
       "  <tbody>\n",
       "    <tr>\n",
       "      <th>count</th>\n",
       "      <td>7032</td>\n",
       "      <td>7032</td>\n",
       "      <td>7032</td>\n",
       "      <td>7032</td>\n",
       "      <td>7032</td>\n",
       "      <td>7032</td>\n",
       "      <td>7032</td>\n",
       "      <td>7032</td>\n",
       "      <td>7032</td>\n",
       "      <td>7032</td>\n",
       "    </tr>\n",
       "    <tr>\n",
       "      <th>unique</th>\n",
       "      <td>3</td>\n",
       "      <td>3</td>\n",
       "      <td>3</td>\n",
       "      <td>3</td>\n",
       "      <td>3</td>\n",
       "      <td>3</td>\n",
       "      <td>3</td>\n",
       "      <td>3</td>\n",
       "      <td>3</td>\n",
       "      <td>4</td>\n",
       "    </tr>\n",
       "    <tr>\n",
       "      <th>top</th>\n",
       "      <td>No</td>\n",
       "      <td>Fiber optic</td>\n",
       "      <td>No</td>\n",
       "      <td>No</td>\n",
       "      <td>No</td>\n",
       "      <td>No</td>\n",
       "      <td>No</td>\n",
       "      <td>No</td>\n",
       "      <td>Month-to-month</td>\n",
       "      <td>Electronic check</td>\n",
       "    </tr>\n",
       "    <tr>\n",
       "      <th>freq</th>\n",
       "      <td>3385</td>\n",
       "      <td>3096</td>\n",
       "      <td>3497</td>\n",
       "      <td>3087</td>\n",
       "      <td>3094</td>\n",
       "      <td>3472</td>\n",
       "      <td>2809</td>\n",
       "      <td>2781</td>\n",
       "      <td>3875</td>\n",
       "      <td>2365</td>\n",
       "    </tr>\n",
       "  </tbody>\n",
       "</table>\n",
       "</div>"
      ],
      "text/plain": [
       "       MultipleLines InternetService OnlineSecurity OnlineBackup  \\\n",
       "count           7032            7032           7032         7032   \n",
       "unique             3               3              3            3   \n",
       "top               No     Fiber optic             No           No   \n",
       "freq            3385            3096           3497         3087   \n",
       "\n",
       "       DeviceProtection TechSupport StreamingTV StreamingMovies  \\\n",
       "count              7032        7032        7032            7032   \n",
       "unique                3           3           3               3   \n",
       "top                  No          No          No              No   \n",
       "freq               3094        3472        2809            2781   \n",
       "\n",
       "              Contract     PaymentMethod  \n",
       "count             7032              7032  \n",
       "unique               3                 4  \n",
       "top     Month-to-month  Electronic check  \n",
       "freq              3875              2365  "
      ]
     },
     "execution_count": 15,
     "metadata": {},
     "output_type": "execute_result"
    }
   ],
   "source": [
    "df.describe(include='object')"
   ]
  },
  {
   "cell_type": "markdown",
   "id": "271652db",
   "metadata": {
    "ExecuteTime": {
     "end_time": "2024-06-05T13:57:00.624604Z",
     "start_time": "2024-06-05T13:57:00.604579Z"
    },
    "deletable": false,
    "editable": false,
    "run_control": {
     "frozen": true
    }
   },
   "source": [
    "#### Ordinal Data into Stratificiation encoding"
   ]
  },
  {
   "cell_type": "markdown",
   "id": "ca022a80",
   "metadata": {
    "deletable": false,
    "editable": false,
    "run_control": {
     "frozen": true
    }
   },
   "source": [
    "We considered ordinal data has a stratification values"
   ]
  },
  {
   "cell_type": "code",
   "execution_count": 16,
   "id": "29f04f35",
   "metadata": {
    "ExecuteTime": {
     "end_time": "2024-06-10T15:16:14.026166Z",
     "start_time": "2024-06-10T15:16:14.015191Z"
    },
    "deletable": false,
    "editable": false
   },
   "outputs": [],
   "source": [
    "def target_encoder(df, y:\"independent variable\"):\n",
    "    df = df.copy()\n",
    "    mapping = {}\n",
    "    \n",
    "    if y in df.select_dtypes(exclude='number').columns:\n",
    "        df[y] = LabelEncoder().fit_transform(df[y])\n",
    "    \n",
    "    for col in df.select_dtypes(exclude='number').columns:\n",
    "        grouped = df[[y, col]].groupby(col).agg('mean')\n",
    "        sort_idx = grouped.sort_values(y).index\n",
    "        remap = {idx: rank for idx, rank in zip(sort_idx, range(len(sort_idx)))}\n",
    "        mapping[col] = {v:k for k, v in remap.items()}\n",
    "        df[col] = df[col].map(remap)\n",
    "    \n",
    "    return df, mapping"
   ]
  },
  {
   "cell_type": "code",
   "execution_count": 17,
   "id": "71b72207",
   "metadata": {
    "ExecuteTime": {
     "end_time": "2024-06-10T15:16:14.384287Z",
     "start_time": "2024-06-10T15:16:14.032359Z"
    },
    "deletable": false,
    "editable": false
   },
   "outputs": [],
   "source": [
    "df, mapping = target_encoder(df, 'Churn')"
   ]
  },
  {
   "cell_type": "markdown",
   "id": "e9e114ef",
   "metadata": {
    "ExecuteTime": {
     "end_time": "2024-06-05T13:50:12.791440Z",
     "start_time": "2024-06-05T13:50:12.772965Z"
    },
    "deletable": false,
    "editable": false,
    "run_control": {
     "frozen": true
    }
   },
   "source": [
    "### Data Preprocessing and Processing"
   ]
  },
  {
   "cell_type": "markdown",
   "id": "06ea502f",
   "metadata": {
    "deletable": false,
    "editable": false,
    "heading_collapsed": true,
    "run_control": {
     "frozen": true
    }
   },
   "source": [
    "#### Data Scaling (Change the range of values)"
   ]
  },
  {
   "cell_type": "code",
   "execution_count": null,
   "id": "06cd4526",
   "metadata": {
    "ExecuteTime": {
     "end_time": "2024-06-09T17:36:24.363936Z",
     "start_time": "2024-06-09T17:36:24.353963Z"
    },
    "deletable": false,
    "editable": false,
    "hidden": true
   },
   "outputs": [],
   "source": [
    "from sklearn.preprocessing import StandardScaler\n",
    "from sklearn.preprocessing import MinMaxScaler\n",
    "from sklearn.preprocessing import RobustScaler"
   ]
  },
  {
   "cell_type": "code",
   "execution_count": null,
   "id": "7f36d418",
   "metadata": {
    "ExecuteTime": {
     "end_time": "2024-06-09T17:36:56.358248Z",
     "start_time": "2024-06-09T17:36:54.774030Z"
    },
    "deletable": false,
    "editable": false,
    "hidden": true
   },
   "outputs": [],
   "source": [
    "df[NUM_COLS].hist(figsize=(12, 2), bins=100, layout=(1, 3));"
   ]
  },
  {
   "cell_type": "code",
   "execution_count": null,
   "id": "3d85f59b",
   "metadata": {
    "ExecuteTime": {
     "end_time": "2024-06-09T17:03:16.612989Z",
     "start_time": "2024-06-09T17:03:16.462635Z"
    },
    "deletable": false,
    "editable": false,
    "hidden": true
   },
   "outputs": [],
   "source": [
    "ss = StandardScaler()\n",
    "df.loc[:, NUM_COLS] = ss.fit_transform(df[NUM_COLS])"
   ]
  },
  {
   "cell_type": "code",
   "execution_count": null,
   "id": "0b18ce88",
   "metadata": {
    "ExecuteTime": {
     "end_time": "2024-06-09T17:35:11.853321Z",
     "start_time": "2024-06-09T17:35:10.906346Z"
    },
    "deletable": false,
    "editable": false,
    "hidden": true
   },
   "outputs": [],
   "source": [
    "df[NUM_COLS].hist(figsize=(12, 2), bins=100, layout=(1, 3));"
   ]
  },
  {
   "cell_type": "markdown",
   "id": "43d50050",
   "metadata": {
    "ExecuteTime": {
     "end_time": "2024-06-09T14:28:01.745210Z",
     "start_time": "2024-06-09T14:28:01.734282Z"
    },
    "deletable": false,
    "editable": false,
    "run_control": {
     "frozen": true
    }
   },
   "source": [
    "#### Data Transformation (Change the shape of distribution)"
   ]
  },
  {
   "cell_type": "code",
   "execution_count": 18,
   "id": "1854db72",
   "metadata": {
    "ExecuteTime": {
     "end_time": "2024-06-10T15:16:19.589171Z",
     "start_time": "2024-06-10T15:16:19.573213Z"
    },
    "deletable": false,
    "editable": false
   },
   "outputs": [],
   "source": [
    "from sklearn.preprocessing import PowerTransformer"
   ]
  },
  {
   "cell_type": "code",
   "execution_count": 19,
   "id": "e5b3c6b3",
   "metadata": {
    "ExecuteTime": {
     "end_time": "2024-06-10T15:16:20.620822Z",
     "start_time": "2024-06-10T15:16:20.298176Z"
    },
    "deletable": false,
    "editable": false
   },
   "outputs": [
    {
     "name": "stdout",
     "output_type": "stream",
     "text": [
      "skewness\n",
      "yeo-johnson:  0.6498133292516175\n",
      "box-cox:  0.6988480893392347\n",
      "sqrt:  1.0167197031782584\n",
      "cbrt:  1.0196118879109115\n",
      "log:  2.450998772169236\n",
      "log1p:  2.2445118665109236\n"
     ]
    }
   ],
   "source": [
    "print(\"skewness\")\n",
    "print('yeo-johnson: ', pd.DataFrame(PowerTransformer(method='yeo-johnson').fit_transform(df[NUM_COLS])).skew().abs().sum())\n",
    "print('box-cox: ', pd.DataFrame(PowerTransformer(method='box-cox').fit_transform(df[NUM_COLS])).skew().abs().sum())\n",
    "print('sqrt: ', np.sqrt(df[NUM_COLS]).skew().abs().sum())\n",
    "print('cbrt: ', np.cbrt(df[NUM_COLS]).skew().abs().sum())\n",
    "print('log: ', np.log(df[NUM_COLS]).skew().abs().sum())\n",
    "print('log1p: ', np.log1p(df[NUM_COLS]).skew().abs().sum())"
   ]
  },
  {
   "cell_type": "code",
   "execution_count": 20,
   "id": "d308437f",
   "metadata": {
    "ExecuteTime": {
     "end_time": "2024-06-10T15:16:23.829848Z",
     "start_time": "2024-06-10T15:16:23.773003Z"
    },
    "deletable": false,
    "editable": false
   },
   "outputs": [],
   "source": [
    "df[NUM_COLS] = PowerTransformer(method='yeo-johnson').fit_transform(df[NUM_COLS])"
   ]
  },
  {
   "cell_type": "code",
   "execution_count": 21,
   "id": "a24e0888",
   "metadata": {
    "ExecuteTime": {
     "end_time": "2024-06-10T15:16:29.962375Z",
     "start_time": "2024-06-10T15:16:24.608212Z"
    },
    "deletable": false,
    "editable": false
   },
   "outputs": [
    {
     "data": {
      "image/png": "[encoded data removed]",
      "text/plain": [
       "<Figure size 1200x200 with 3 Axes>"
      ]
     },
     "metadata": {},
     "output_type": "display_data"
    }
   ],
   "source": [
    "df[NUM_COLS].hist(figsize=(12, 2), bins=100, layout=(1, 3));"
   ]
  },
  {
   "cell_type": "markdown",
   "id": "265a86fc",
   "metadata": {
    "ExecuteTime": {
     "end_time": "2024-06-05T13:59:22.505850Z",
     "start_time": "2024-06-05T13:59:22.494879Z"
    },
    "deletable": false,
    "editable": false,
    "run_control": {
     "frozen": true
    }
   },
   "source": [
    "## Feature Selection"
   ]
  },
  {
   "cell_type": "code",
   "execution_count": 22,
   "id": "186ffe5f",
   "metadata": {
    "ExecuteTime": {
     "end_time": "2024-06-10T15:16:39.342054Z",
     "start_time": "2024-06-10T15:16:39.330048Z"
    },
    "deletable": false,
    "editable": false
   },
   "outputs": [],
   "source": [
    "def vif(df, y:'y will droped', scale=True):\n",
    "    df = df.drop(y, axis=1).copy()\n",
    "    index = df.columns.tolist()\n",
    "    \n",
    "    if scale:\n",
    "        df = pd.DataFrame(StandardScaler().fit_transform(df))\n",
    "\n",
    "    vif = pd.Series([variance_inflation_factor(df.values, i) for i in range(df.shape[1])], index=index)\n",
    "    \n",
    "    return pd.DataFrame(vif, index=index, columns=['vif']).sort_values(by='vif', ascending=False)"
   ]
  },
  {
   "cell_type": "code",
   "execution_count": 24,
   "id": "2ce1cc68",
   "metadata": {
    "ExecuteTime": {
     "end_time": "2024-06-10T15:16:52.587335Z",
     "start_time": "2024-06-10T15:16:52.227225Z"
    },
    "collapsed": true,
    "deletable": false,
    "editable": false
   },
   "outputs": [
    {
     "data": {
      "text/html": [
       "<div>\n",
       "<style scoped>\n",
       "    .dataframe tbody tr th:only-of-type {\n",
       "        vertical-align: middle;\n",
       "    }\n",
       "\n",
       "    .dataframe tbody tr th {\n",
       "        vertical-align: top;\n",
       "    }\n",
       "\n",
       "    .dataframe thead th {\n",
       "        text-align: right;\n",
       "    }\n",
       "</style>\n",
       "<table border=\"1\" class=\"dataframe\">\n",
       "  <thead>\n",
       "    <tr style=\"text-align: right;\">\n",
       "      <th></th>\n",
       "      <th>vif</th>\n",
       "    </tr>\n",
       "  </thead>\n",
       "  <tbody>\n",
       "    <tr>\n",
       "      <th>TotalCharges</th>\n",
       "      <td>47.235092</td>\n",
       "    </tr>\n",
       "    <tr>\n",
       "      <th>tenure</th>\n",
       "      <td>31.190673</td>\n",
       "    </tr>\n",
       "    <tr>\n",
       "      <th>MonthlyCharges</th>\n",
       "      <td>9.445823</td>\n",
       "    </tr>\n",
       "  </tbody>\n",
       "</table>\n",
       "</div>"
      ],
      "text/plain": [
       "                      vif\n",
       "TotalCharges    47.235092\n",
       "tenure          31.190673\n",
       "MonthlyCharges   9.445823"
      ]
     },
     "execution_count": 24,
     "metadata": {},
     "output_type": "execute_result"
    }
   ],
   "source": [
    "vif(df[NUM_COLS + ['Churn']], 'Churn')"
   ]
  },
  {
   "cell_type": "code",
   "execution_count": 25,
   "id": "b41a3199",
   "metadata": {
    "ExecuteTime": {
     "end_time": "2024-06-10T15:17:16.094612Z",
     "start_time": "2024-06-10T15:17:15.721089Z"
    },
    "collapsed": true,
    "deletable": false,
    "editable": false
   },
   "outputs": [
    {
     "data": {
      "text/html": [
       "<div>\n",
       "<style scoped>\n",
       "    .dataframe tbody tr th:only-of-type {\n",
       "        vertical-align: middle;\n",
       "    }\n",
       "\n",
       "    .dataframe tbody tr th {\n",
       "        vertical-align: top;\n",
       "    }\n",
       "\n",
       "    .dataframe thead th {\n",
       "        text-align: right;\n",
       "    }\n",
       "</style>\n",
       "<table border=\"1\" class=\"dataframe\">\n",
       "  <thead>\n",
       "    <tr style=\"text-align: right;\">\n",
       "      <th></th>\n",
       "      <th>vif</th>\n",
       "    </tr>\n",
       "  </thead>\n",
       "  <tbody>\n",
       "    <tr>\n",
       "      <th>TotalCharges</th>\n",
       "      <td>58.555252</td>\n",
       "    </tr>\n",
       "    <tr>\n",
       "      <th>tenure</th>\n",
       "      <td>42.031619</td>\n",
       "    </tr>\n",
       "    <tr>\n",
       "      <th>MonthlyCharges</th>\n",
       "      <td>28.297118</td>\n",
       "    </tr>\n",
       "    <tr>\n",
       "      <th>InternetService</th>\n",
       "      <td>14.646536</td>\n",
       "    </tr>\n",
       "    <tr>\n",
       "      <th>TechSupport</th>\n",
       "      <td>4.318437</td>\n",
       "    </tr>\n",
       "    <tr>\n",
       "      <th>OnlineSecurity</th>\n",
       "      <td>3.982891</td>\n",
       "    </tr>\n",
       "    <tr>\n",
       "      <th>StreamingMovies</th>\n",
       "      <td>3.865185</td>\n",
       "    </tr>\n",
       "    <tr>\n",
       "      <th>StreamingTV</th>\n",
       "      <td>3.858371</td>\n",
       "    </tr>\n",
       "    <tr>\n",
       "      <th>DeviceProtection</th>\n",
       "      <td>3.710979</td>\n",
       "    </tr>\n",
       "    <tr>\n",
       "      <th>OnlineBackup</th>\n",
       "      <td>3.299587</td>\n",
       "    </tr>\n",
       "    <tr>\n",
       "      <th>MultipleLines</th>\n",
       "      <td>2.552524</td>\n",
       "    </tr>\n",
       "    <tr>\n",
       "      <th>Contract</th>\n",
       "      <td>2.513714</td>\n",
       "    </tr>\n",
       "    <tr>\n",
       "      <th>PhoneService</th>\n",
       "      <td>2.283830</td>\n",
       "    </tr>\n",
       "    <tr>\n",
       "      <th>Partner</th>\n",
       "      <td>1.458862</td>\n",
       "    </tr>\n",
       "    <tr>\n",
       "      <th>Dependents</th>\n",
       "      <td>1.377900</td>\n",
       "    </tr>\n",
       "    <tr>\n",
       "      <th>PaymentMethod</th>\n",
       "      <td>1.221795</td>\n",
       "    </tr>\n",
       "    <tr>\n",
       "      <th>PaperlessBilling</th>\n",
       "      <td>1.202787</td>\n",
       "    </tr>\n",
       "    <tr>\n",
       "      <th>SeniorCitizen</th>\n",
       "      <td>1.150182</td>\n",
       "    </tr>\n",
       "    <tr>\n",
       "      <th>gender</th>\n",
       "      <td>1.001193</td>\n",
       "    </tr>\n",
       "  </tbody>\n",
       "</table>\n",
       "</div>"
      ],
      "text/plain": [
       "                        vif\n",
       "TotalCharges      58.555252\n",
       "tenure            42.031619\n",
       "MonthlyCharges    28.297118\n",
       "InternetService   14.646536\n",
       "TechSupport        4.318437\n",
       "OnlineSecurity     3.982891\n",
       "StreamingMovies    3.865185\n",
       "StreamingTV        3.858371\n",
       "DeviceProtection   3.710979\n",
       "OnlineBackup       3.299587\n",
       "MultipleLines      2.552524\n",
       "Contract           2.513714\n",
       "PhoneService       2.283830\n",
       "Partner            1.458862\n",
       "Dependents         1.377900\n",
       "PaymentMethod      1.221795\n",
       "PaperlessBilling   1.202787\n",
       "SeniorCitizen      1.150182\n",
       "gender             1.001193"
      ]
     },
     "execution_count": 25,
     "metadata": {},
     "output_type": "execute_result"
    }
   ],
   "source": [
    "vif(df, 'Churn')"
   ]
  },
  {
   "cell_type": "markdown",
   "id": "6a6d9d49",
   "metadata": {
    "ExecuteTime": {
     "end_time": "2024-06-05T13:59:55.759493Z",
     "start_time": "2024-06-05T13:59:55.749403Z"
    }
   },
   "source": [
    "## Data Modeling"
   ]
  },
  {
   "cell_type": "markdown",
   "id": "f6bbb926",
   "metadata": {
    "ExecuteTime": {
     "end_time": "2024-06-10T06:18:55.476733Z",
     "start_time": "2024-06-10T06:18:55.468754Z"
    },
    "deletable": false,
    "editable": false,
    "run_control": {
     "frozen": true
    }
   },
   "source": [
    "### Split Dataset"
   ]
  },
  {
   "cell_type": "code",
   "execution_count": null,
   "id": "03cb9305",
   "metadata": {
    "ExecuteTime": {
     "end_time": "2024-06-10T06:19:08.609110Z",
     "start_time": "2024-06-10T06:19:08.589126Z"
    },
    "deletable": false,
    "editable": false
   },
   "outputs": [],
   "source": [
    "X = df.drop('Churn', axis=1)\n",
    "y = df['Churn']"
   ]
  },
  {
   "cell_type": "markdown",
   "id": "57fd288e",
   "metadata": {
    "ExecuteTime": {
     "end_time": "2024-06-10T06:17:34.256599Z",
     "start_time": "2024-06-10T06:17:34.251616Z"
    },
    "deletable": false,
    "editable": false,
    "run_control": {
     "frozen": true
    }
   },
   "source": [
    "### Handling Imbalanced Data Label"
   ]
  },
  {
   "cell_type": "markdown",
   "id": "81c3c681",
   "metadata": {
    "ExecuteTime": {
     "end_time": "2024-06-10T06:21:01.072384Z",
     "start_time": "2024-06-10T06:21:01.065402Z"
    },
    "deletable": false,
    "editable": false,
    "run_control": {
     "frozen": true
    }
   },
   "source": [
    "#### SMOTE"
   ]
  },
  {
   "cell_type": "markdown",
   "id": "88e8dfb5",
   "metadata": {
    "deletable": false,
    "editable": false,
    "run_control": {
     "frozen": true
    }
   },
   "source": [
    "Oversampling: Increase the number of samples in the minority class"
   ]
  },
  {
   "cell_type": "code",
   "execution_count": null,
   "id": "b39b8b8a",
   "metadata": {
    "ExecuteTime": {
     "end_time": "2024-06-10T06:19:57.381990Z",
     "start_time": "2024-06-10T06:19:55.985852Z"
    },
    "deletable": false,
    "editable": false
   },
   "outputs": [],
   "source": [
    "smote = SMOTE(sampling_strategy='auto', random_state=42)\n",
    "X_smote_resampled, y_smote_resampled = smote.fit_resample(X, y)"
   ]
  },
  {
   "cell_type": "code",
   "execution_count": null,
   "id": "fa3c8e0f",
   "metadata": {
    "ExecuteTime": {
     "end_time": "2024-06-10T06:20:52.031894Z",
     "start_time": "2024-06-10T06:20:51.981544Z"
    },
    "deletable": false,
    "editable": false
   },
   "outputs": [],
   "source": [
    "y_smote_resampled.value_counts()"
   ]
  },
  {
   "cell_type": "markdown",
   "id": "327e98cb",
   "metadata": {
    "ExecuteTime": {
     "end_time": "2024-06-05T14:01:22.502223Z",
     "start_time": "2024-06-05T14:01:22.491252Z"
    },
    "deletable": false,
    "editable": false,
    "run_control": {
     "frozen": true
    }
   },
   "source": [
    "### Train-Test Split"
   ]
  },
  {
   "cell_type": "code",
   "execution_count": null,
   "id": "8c8b9dee",
   "metadata": {
    "ExecuteTime": {
     "end_time": "2024-06-10T06:23:58.744129Z",
     "start_time": "2024-06-10T06:23:58.728172Z"
    },
    "deletable": false,
    "editable": false
   },
   "outputs": [],
   "source": [
    "X_train, X_test, y_train, y_test = train_test_split(X, y, test_size=0.3, random_state=42)"
   ]
  },
  {
   "cell_type": "code",
   "execution_count": null,
   "id": "886a977a",
   "metadata": {
    "ExecuteTime": {
     "end_time": "2024-06-10T06:20:40.050725Z",
     "start_time": "2024-06-10T06:20:39.998509Z"
    },
    "deletable": false,
    "editable": false
   },
   "outputs": [],
   "source": [
    "X_train_smote, X_test_smote, y_train_smote, y_test_smote = train_test_split(X_smote_resampled, y_smote_resampled, test_size=0.3, random_state=42)"
   ]
  },
  {
   "cell_type": "markdown",
   "id": "033be621",
   "metadata": {
    "ExecuteTime": {
     "end_time": "2024-06-05T14:02:32.438021Z",
     "start_time": "2024-06-05T14:02:32.427050Z"
    },
    "deletable": false,
    "editable": false,
    "run_control": {
     "frozen": true
    }
   },
   "source": [
    "### Models Fitting"
   ]
  },
  {
   "cell_type": "code",
   "execution_count": null,
   "id": "c01fe2f2",
   "metadata": {
    "deletable": false,
    "editable": false
   },
   "outputs": [],
   "source": [
    "def fitting_models(obj_model, X_train, y_train, X_test, y_test):\n",
    "    obj_model.fit(X_train, y_train)\n",
    "    y_pred = obj_model.predict(X_test)\n",
    "    y_pred_prob = obj_model.predict_proba(X_test)\n",
    "    \n",
    "    print(\"train score:\", obj_model.score(X_train, y_train))\n",
    "    print(\"test score:\", obj_model.score(X_test, y_test))\n",
    "    \n",
    "    return y_pred, y_pred_prob"
   ]
  },
  {
   "cell_type": "code",
   "execution_count": null,
   "id": "05aa84c7",
   "metadata": {
    "deletable": false,
    "editable": false
   },
   "outputs": [],
   "source": [
    "lg_model = LogisticRegression(max_iter=100).fit(X_train, y_train)\n",
    "y_pred_lg = lg_model.predict(X_test)\n",
    "y_score_lg = lg_model.predict_proba(X_test)[:,1]"
   ]
  },
  {
   "cell_type": "code",
   "execution_count": null,
   "id": "72bb7a62",
   "metadata": {},
   "outputs": [],
   "source": [
    "print(\"train score:\", lg_model.score(X_train, y_train))\n",
    "print(\"test score:\", lg_model.score(X_test, y_test))"
   ]
  },
  {
   "cell_type": "code",
   "execution_count": null,
   "id": "bbaafbb8",
   "metadata": {},
   "outputs": [],
   "source": [
    "clf_xgb_model = XGBClassifier()\n",
    "clf_xgb_model.fit(X_train, y_train, verbose=True, eval_metric='aucpr', \n",
    "            early_stopping_rounds=10, eval_set=[(X_test, y_test)])"
   ]
  },
  {
   "cell_type": "code",
   "execution_count": null,
   "id": "b2d8bcd6",
   "metadata": {},
   "outputs": [],
   "source": [
    "print(\"train score:\", clf_xgb_model.score(X_train, y_train))\n",
    "print(\"test score:\", clf_xgb_model.score(X_test, y_test))"
   ]
  },
  {
   "cell_type": "markdown",
   "id": "f6dedc39",
   "metadata": {
    "ExecuteTime": {
     "end_time": "2024-06-05T14:00:18.984623Z",
     "start_time": "2024-06-05T14:00:18.974648Z"
    },
    "deletable": false,
    "editable": false,
    "run_control": {
     "frozen": true
    }
   },
   "source": [
    "## Model Optimization"
   ]
  },
  {
   "cell_type": "markdown",
   "id": "b4c3bb9d",
   "metadata": {
    "ExecuteTime": {
     "end_time": "2024-06-05T14:00:07.296799Z",
     "start_time": "2024-06-05T14:00:07.277852Z"
    },
    "deletable": false,
    "editable": false,
    "heading_collapsed": true,
    "run_control": {
     "frozen": true
    }
   },
   "source": [
    "## Model Evaluation"
   ]
  },
  {
   "cell_type": "markdown",
   "id": "55c5d926",
   "metadata": {
    "ExecuteTime": {
     "end_time": "2024-06-03T07:06:23.828925Z",
     "start_time": "2024-06-03T07:06:23.817956Z"
    },
    "deletable": false,
    "editable": false,
    "hidden": true,
    "run_control": {
     "frozen": true
    }
   },
   "source": [
    "### Classification Report"
   ]
  },
  {
   "cell_type": "code",
   "execution_count": null,
   "id": "c0bcde67",
   "metadata": {
    "ExecuteTime": {
     "end_time": "2024-06-04T08:14:09.619494Z",
     "start_time": "2024-06-04T08:14:09.593123Z"
    },
    "deletable": false,
    "editable": false,
    "hidden": true,
    "scrolled": true
   },
   "outputs": [],
   "source": [
    "print(classification_report(y_pred_lg, y_test, output_dict=False))"
   ]
  },
  {
   "cell_type": "markdown",
   "id": "6d13f6b4",
   "metadata": {
    "deletable": false,
    "editable": false,
    "hidden": true,
    "run_control": {
     "frozen": true
    }
   },
   "source": [
    "The classification report indicates that our model:\n",
    "\n",
    "- Overall Accuracy: Achieves an accuracy of 81% (f1-score).\n",
    "- Performance on Non-Churn Customers:\n",
    "    - Accuracy: 88% f1-score.\n",
    "    - Precision: 90% (higher than recall), indicating that the model tends to assume customers are loyal.\n",
    "    - Recall: 85%, which, along with the higher precision, suggests an imbalance in the dataset where non-churn cases are more prevalent.\n",
    "- Performance on Churn Customers:\n",
    "    - Accuracy: 62% f1-score, indicating weaker performance.\n",
    "    - Precision: 57% (lower than recall), suggesting the model is cautious in predicting churn, leading to fewer false positives.\n",
    "    - Recall: 62%, which shows the model identifies more actual churn cases but at the cost of lower precision.\n",
    "- Overall, the model shows good performance in predicting non-churn customers but struggles with accurately identifying churn customers, highlighting areas for potential improvement"
   ]
  },
  {
   "cell_type": "code",
   "execution_count": null,
   "id": "806b69b5",
   "metadata": {
    "ExecuteTime": {
     "end_time": "2024-06-04T08:14:10.418511Z",
     "start_time": "2024-06-04T08:14:10.383075Z"
    },
    "deletable": false,
    "editable": false,
    "hidden": true
   },
   "outputs": [],
   "source": [
    "pd.DataFrame(classification_report(y_pred_lg, y_test, output_dict=True)).T.iloc[:,:-1]"
   ]
  },
  {
   "cell_type": "markdown",
   "id": "de08798a",
   "metadata": {
    "ExecuteTime": {
     "end_time": "2024-06-03T07:06:30.511479Z",
     "start_time": "2024-06-03T07:06:30.498369Z"
    },
    "deletable": false,
    "editable": false,
    "hidden": true
   },
   "source": [
    "### Confusion Matrix"
   ]
  },
  {
   "cell_type": "code",
   "execution_count": null,
   "id": "155854fe",
   "metadata": {
    "ExecuteTime": {
     "end_time": "2024-06-04T08:14:56.009111Z",
     "start_time": "2024-06-04T08:14:55.918235Z"
    },
    "deletable": false,
    "editable": false,
    "hidden": true
   },
   "outputs": [],
   "source": [
    "fig_cm = plot_confusion_matrix(confusion_matrix(y_test, y_pred_lg))\n",
    "fig_cm"
   ]
  },
  {
   "cell_type": "code",
   "execution_count": null,
   "id": "4f90ffec",
   "metadata": {
    "ExecuteTime": {
     "end_time": "2024-06-04T08:14:59.566250Z",
     "start_time": "2024-06-04T08:14:59.553777Z"
    },
    "deletable": false,
    "editable": false,
    "hidden": true
   },
   "outputs": [],
   "source": [
    "tn, fp, fn, tp = confusion_matrix(y_test, y_pred_lg).ravel()"
   ]
  },
  {
   "cell_type": "code",
   "execution_count": null,
   "id": "578d30d4",
   "metadata": {
    "ExecuteTime": {
     "end_time": "2024-06-04T08:15:00.052026Z",
     "start_time": "2024-06-04T08:15:00.022769Z"
    },
    "deletable": false,
    "editable": false,
    "hidden": true
   },
   "outputs": [],
   "source": [
    "pd.DataFrame(\n",
    "    confusion_matrix(y_test, y_pred_lg), \n",
    "    index=['Actual Negative', 'Actual Positive'], \n",
    "    columns=['Predicted Negative', 'Predicted Positive']\n",
    ")"
   ]
  },
  {
   "cell_type": "markdown",
   "id": "a86b1090",
   "metadata": {
    "hidden": true
   },
   "source": [
    "Our confusion matrix shows the following:\n",
    "\n",
    "- True Negative (1159), the model predicted negative and the actual was also negative.\n",
    "- False Positive (123), the model predicted positive but the actual was negative.\n",
    "- True Positive (273), the model predicted positive and the actual was also positive.\n",
    "- False Negative (206), the model predicted negative but the actual was positive."
   ]
  },
  {
   "cell_type": "markdown",
   "id": "92102292",
   "metadata": {
    "ExecuteTime": {
     "end_time": "2024-06-03T07:18:19.759921Z",
     "start_time": "2024-06-03T07:18:19.746309Z"
    },
    "deletable": false,
    "editable": false,
    "hidden": true,
    "run_control": {
     "frozen": true
    }
   },
   "source": [
    "### TPR (True Positive Rate) and (False Positive Rate) Thresholds"
   ]
  },
  {
   "cell_type": "markdown",
   "id": "fb59abdf",
   "metadata": {
    "deletable": false,
    "editable": false,
    "hidden": true,
    "run_control": {
     "frozen": true
    }
   },
   "source": [
    "- True Positive Rate (also known as recall or sensitivity) measures the proportion of true positive cases correctly identified by the model among all actual positive cases. It is calculated as the ratio of true positives to the sum of true positives and false negatives.\n",
    "- False Positive Rate measures the proportion of false positive cases incorrectly identified as positive by the model among all actual negative cases. It is calculated as the ratio of false positives to the sum of false positives and true negatives."
   ]
  },
  {
   "cell_type": "code",
   "execution_count": null,
   "id": "f49178dc",
   "metadata": {
    "ExecuteTime": {
     "end_time": "2024-06-04T08:15:21.362967Z",
     "start_time": "2024-06-04T08:15:20.757253Z"
    },
    "deletable": false,
    "editable": false,
    "hidden": true
   },
   "outputs": [],
   "source": [
    "fig_tpr_fpr = plot_tpr_fpr_thresholds(lg_model, X_test, y_test)\n",
    "fig_tpr_fpr.update_layout(width=None)"
   ]
  },
  {
   "cell_type": "markdown",
   "id": "82436d49",
   "metadata": {
    "ExecuteTime": {
     "end_time": "2024-06-03T07:20:43.892454Z",
     "start_time": "2024-06-03T07:20:43.874543Z"
    },
    "deletable": false,
    "editable": false,
    "hidden": true,
    "run_control": {
     "frozen": true
    }
   },
   "source": [
    "### ROC Curves"
   ]
  },
  {
   "cell_type": "code",
   "execution_count": null,
   "id": "76b9444b",
   "metadata": {
    "ExecuteTime": {
     "end_time": "2024-06-04T08:16:21.796818Z",
     "start_time": "2024-06-04T08:16:21.782816Z"
    },
    "deletable": false,
    "editable": false,
    "hidden": true
   },
   "outputs": [],
   "source": [
    "from sklearn.metrics import auc, roc_auc_score, roc_curve, accuracy_score"
   ]
  },
  {
   "cell_type": "code",
   "execution_count": null,
   "id": "8d916cd3",
   "metadata": {
    "ExecuteTime": {
     "end_time": "2024-06-04T08:16:24.313213Z",
     "start_time": "2024-06-04T08:16:24.244118Z"
    },
    "code_folding": [
     0
    ],
    "deletable": false,
    "editable": false,
    "hidden": true
   },
   "outputs": [],
   "source": [
    "def calculate_auc(fpr, tpr):\n",
    "    \"\"\"\n",
    "    Calculate the Area Under the Curve (AUC) using the trapezoidal rule.\n",
    "    \n",
    "    Parameters:\n",
    "    fpr (list): List of False Positive Rates (FPR).\n",
    "    tpr (list): List of True Positive Rates (TPR).\n",
    "\n",
    "    Returns:\n",
    "    float: The AUC value.\n",
    "    \"\"\"\n",
    "    # Ensure the lists are sorted in ascending order of FPR\n",
    "    sorted_indices = sorted(range(len(fpr)), key=lambda i: fpr[i])\n",
    "    fpr = [fpr[i] for i in sorted_indices]\n",
    "    tpr = [tpr[i] for i in sorted_indices]\n",
    "\n",
    "    # Initialize AUC\n",
    "    auc = 0.0\n",
    "\n",
    "    # Apply the trapezoidal rule\n",
    "    for i in range(1, len(fpr)):\n",
    "        auc += (fpr[i] - fpr[i-1]) * (tpr[i] + tpr[i-1]) / 2\n",
    "\n",
    "    return auc"
   ]
  },
  {
   "cell_type": "code",
   "execution_count": null,
   "id": "cc6f0498",
   "metadata": {
    "ExecuteTime": {
     "end_time": "2024-06-04T03:04:10.477935Z",
     "start_time": "2024-06-04T03:04:10.463976Z"
    },
    "deletable": false,
    "editable": false,
    "hidden": true
   },
   "outputs": [],
   "source": [
    "accuracy_score(y_test, y_pred_custom[:, 0])"
   ]
  },
  {
   "cell_type": "code",
   "execution_count": null,
   "id": "8b75e0fe",
   "metadata": {
    "ExecuteTime": {
     "end_time": "2024-06-04T03:02:13.481828Z",
     "start_time": "2024-06-04T03:02:13.470854Z"
    },
    "deletable": false,
    "editable": false,
    "hidden": true
   },
   "outputs": [],
   "source": [
    "accuracy_score(y_test, y_pred_lg)"
   ]
  },
  {
   "cell_type": "code",
   "execution_count": null,
   "id": "bec51337",
   "metadata": {
    "ExecuteTime": {
     "end_time": "2024-06-04T02:30:33.905227Z",
     "start_time": "2024-06-04T02:30:33.885282Z"
    },
    "deletable": false,
    "editable": false,
    "hidden": true
   },
   "outputs": [],
   "source": [
    "y_score = lg_model.predict_proba(X_test)\n",
    "fpr, tpr, thresholds = roc_curve(y_test, y_score[:, 1])\n",
    "\n",
    "df_threshold = pd.DataFrame({\"fpr\": fpr, \"tpr\": tpr, \"thresholds\": thresholds})\n",
    "df_threshold = df_threshold.sort_values('thresholds').reset_index(drop=True)\n",
    "df_threshold['different'] = df_threshold['tpr'] - df_threshold['fpr']"
   ]
  },
  {
   "cell_type": "code",
   "execution_count": null,
   "id": "4bd04fd0",
   "metadata": {
    "ExecuteTime": {
     "end_time": "2024-06-04T02:28:49.571795Z",
     "start_time": "2024-06-04T02:28:49.543867Z"
    },
    "deletable": false,
    "editable": false,
    "hidden": true
   },
   "outputs": [],
   "source": [
    "df_threshold.sort_values('different')"
   ]
  },
  {
   "cell_type": "code",
   "execution_count": null,
   "id": "e2c9fd8a",
   "metadata": {
    "ExecuteTime": {
     "end_time": "2024-06-04T01:22:26.465949Z",
     "start_time": "2024-06-04T01:22:26.450990Z"
    },
    "deletable": false,
    "editable": false,
    "hidden": true
   },
   "outputs": [],
   "source": [
    "roc_auc_score(y_test, y_score[:, 1])"
   ]
  },
  {
   "cell_type": "code",
   "execution_count": null,
   "id": "8af3b5b4",
   "metadata": {
    "ExecuteTime": {
     "end_time": "2024-06-03T23:43:59.618408Z",
     "start_time": "2024-06-03T23:43:59.254970Z"
    },
    "deletable": false,
    "editable": false,
    "hidden": true
   },
   "outputs": [],
   "source": [
    "fig_roc = plot_roc_curves(lg_model, X_test, y_test)\n",
    "fig_roc.update_layout(width=None)"
   ]
  },
  {
   "cell_type": "markdown",
   "id": "ba8ea396",
   "metadata": {
    "ExecuteTime": {
     "end_time": "2024-06-03T07:21:13.091624Z",
     "start_time": "2024-06-03T07:21:13.072196Z"
    },
    "deletable": false,
    "editable": false,
    "hidden": true,
    "run_control": {
     "frozen": true
    }
   },
   "source": [
    "### Area AUC (Area Under Curve)"
   ]
  },
  {
   "cell_type": "code",
   "execution_count": null,
   "id": "be0096ed",
   "metadata": {
    "ExecuteTime": {
     "end_time": "2024-06-03T23:43:59.936573Z",
     "start_time": "2024-06-03T23:43:59.628441Z"
    },
    "deletable": false,
    "editable": false,
    "hidden": true
   },
   "outputs": [],
   "source": [
    "fig_area_auc = plot_roc_area_curve(lg_model, X_test, y_test, 1)\n",
    "fig_area_auc.update_layout(width=None)"
   ]
  },
  {
   "cell_type": "code",
   "execution_count": null,
   "id": "ffc54062",
   "metadata": {
    "hidden": true
   },
   "outputs": [],
   "source": []
  }
 ],
 "metadata": {
  "kernelspec": {
   "display_name": "Python 3 (ipykernel)",
   "language": "python",
   "name": "python3"
  },
  "language_info": {
   "codemirror_mode": {
    "name": "ipython",
    "version": 3
   },
   "file_extension": ".py",
   "mimetype": "text/x-python",
   "name": "python",
   "nbconvert_exporter": "python",
   "pygments_lexer": "ipython3",
   "version": "3.9.12"
  },
  "toc": {
   "base_numbering": 1,
   "nav_menu": {},
   "number_sections": true,
   "sideBar": true,
   "skip_h1_title": false,
   "title_cell": "Table of Contents",
   "title_sidebar": "Contents",
   "toc_cell": false,
   "toc_position": {},
   "toc_section_display": true,
   "toc_window_display": false
  },
  "varInspector": {
   "cols": {
    "lenName": 16,
    "lenType": 16,
    "lenVar": 40
   },
   "kernels_config": {
    "python": {
     "delete_cmd_postfix": "",
     "delete_cmd_prefix": "del ",
     "library": "var_list.py",
     "varRefreshCmd": "print(var_dic_list())"
    },
    "r": {
     "delete_cmd_postfix": ") ",
     "delete_cmd_prefix": "rm(",
     "library": "var_list.r",
     "varRefreshCmd": "cat(var_dic_list()) "
    }
   },
   "types_to_exclude": [
    "module",
    "function",
    "builtin_function_or_method",
    "instance",
    "_Feature"
   ],
   "window_display": false
  }
 },
 "nbformat": 4,
 "nbformat_minor": 5
}

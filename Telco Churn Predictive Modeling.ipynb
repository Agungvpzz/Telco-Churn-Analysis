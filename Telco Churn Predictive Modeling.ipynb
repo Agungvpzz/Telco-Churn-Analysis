{
 "cells": [
  {
   "cell_type": "markdown",
   "id": "16bdfe10",
   "metadata": {
    "deletable": false,
    "editable": false,
    "run_control": {
     "frozen": true
    }
   },
   "source": [
    "https://www.kaggle.com/code/arezoodahesh/customer-churn-with-oversampling-techniques#Import-Libraries"
   ]
  },
  {
   "cell_type": "code",
   "execution_count": 1,
   "id": "2ab22c47",
   "metadata": {
    "ExecuteTime": {
     "end_time": "2024-06-13T07:41:18.905120Z",
     "start_time": "2024-06-13T07:41:17.949090Z"
    },
    "deletable": false,
    "editable": false
   },
   "outputs": [],
   "source": [
    "import pandas as pd\n",
    "import numpy as np\n",
    "\n",
    "import plotly.express as px"
   ]
  },
  {
   "cell_type": "code",
   "execution_count": 43,
   "id": "3675523c",
   "metadata": {
    "ExecuteTime": {
     "end_time": "2024-06-13T08:06:48.425904Z",
     "start_time": "2024-06-13T08:06:48.409188Z"
    },
    "deletable": false,
    "editable": false
   },
   "outputs": [],
   "source": [
    "from sklearn.preprocessing import LabelEncoder, StandardScaler\n",
    "from sklearn.metrics import confusion_matrix, classification_report, auc, roc_auc_score, roc_curve\n",
    "from sklearn.model_selection import train_test_split, KFold\n",
    "\n",
    "from imblearn.over_sampling import SMOTE, ADASYN, BorderlineSMOTE, SVMSMOTE, RandomOverSampler\n",
    "\n",
    "from scipy import stats\n",
    "import joblib"
   ]
  },
  {
   "cell_type": "code",
   "execution_count": 3,
   "id": "03a99237",
   "metadata": {
    "ExecuteTime": {
     "end_time": "2024-06-13T07:41:22.470946Z",
     "start_time": "2024-06-13T07:41:22.408949Z"
    },
    "deletable": false,
    "editable": false
   },
   "outputs": [],
   "source": [
    "from sklearn.linear_model import LogisticRegression\n",
    "from sklearn.ensemble import RandomForestClassifier\n",
    "from xgboost import XGBClassifier"
   ]
  },
  {
   "cell_type": "code",
   "execution_count": 4,
   "id": "c504b9d3",
   "metadata": {
    "ExecuteTime": {
     "end_time": "2024-06-13T07:41:25.124094Z",
     "start_time": "2024-06-13T07:41:24.806587Z"
    },
    "deletable": false,
    "editable": false
   },
   "outputs": [],
   "source": [
    "from funcs.plots.confusion_matrix import plot_confusion_matrix\n",
    "from funcs.plots.roc_curves import plot_roc_curves, plot_roc_area_curve\n",
    "from funcs.plots.tpr_fpr_thresholds import plot_tpr_fpr_thresholds\n",
    "from funcs.plots.distribution import plot_violin_binary_dist, plots_kde"
   ]
  },
  {
   "cell_type": "code",
   "execution_count": 5,
   "id": "51e2713d",
   "metadata": {
    "ExecuteTime": {
     "end_time": "2024-06-13T07:41:25.732794Z",
     "start_time": "2024-06-13T07:41:25.616649Z"
    },
    "deletable": false,
    "editable": false
   },
   "outputs": [],
   "source": [
    "from statsmodels.stats.outliers_influence import variance_inflation_factor"
   ]
  },
  {
   "cell_type": "code",
   "execution_count": 25,
   "id": "1feac2b8",
   "metadata": {
    "ExecuteTime": {
     "end_time": "2024-06-13T07:49:23.484597Z",
     "start_time": "2024-06-13T07:49:23.424187Z"
    },
    "deletable": false,
    "editable": false
   },
   "outputs": [],
   "source": [
    "df = pd.read_csv(\"F:/Data/datas/WA_Fn-UseC_-Telco-Customer-Churn.csv\", index_col=0)\n",
    "df['Churn'] = df['Churn'].map({'Yes':1, 'No':0})"
   ]
  },
  {
   "cell_type": "code",
   "execution_count": 14,
   "id": "9620adba",
   "metadata": {
    "ExecuteTime": {
     "end_time": "2024-06-13T07:42:02.462959Z",
     "start_time": "2024-06-13T07:42:02.450992Z"
    },
    "deletable": false,
    "editable": false
   },
   "outputs": [],
   "source": [
    "NUM_COLS = [\"tenure\", \"MonthlyCharges\", \"TotalCharges\"]"
   ]
  },
  {
   "cell_type": "markdown",
   "id": "f173c90a",
   "metadata": {
    "ExecuteTime": {
     "end_time": "2024-06-05T13:50:05.900824Z",
     "start_time": "2024-06-05T13:50:05.889768Z"
    },
    "deletable": false,
    "editable": false,
    "run_control": {
     "frozen": true
    }
   },
   "source": [
    "## Data Preparation"
   ]
  },
  {
   "cell_type": "markdown",
   "id": "4aabdba4",
   "metadata": {
    "ExecuteTime": {
     "end_time": "2024-06-05T13:50:55.249794Z",
     "start_time": "2024-06-05T13:50:55.240795Z"
    },
    "deletable": false,
    "editable": false,
    "run_control": {
     "frozen": true
    }
   },
   "source": [
    "### Data Cleaning"
   ]
  },
  {
   "cell_type": "markdown",
   "id": "31aab607",
   "metadata": {
    "ExecuteTime": {
     "end_time": "2024-06-05T13:51:14.226535Z",
     "start_time": "2024-06-05T13:51:14.211379Z"
    },
    "deletable": false,
    "editable": false,
    "run_control": {
     "frozen": true
    }
   },
   "source": [
    "#### Fill Missing Values"
   ]
  },
  {
   "cell_type": "markdown",
   "id": "a2dd6e14",
   "metadata": {
    "deletable": false,
    "editable": false,
    "run_control": {
     "frozen": true
    }
   },
   "source": [
    "- 0 tenure value causes the blank value in the total charges column and makes that column detected automatically as object data type\n",
    "- We replace the blank string values with 0.0 float number"
   ]
  },
  {
   "cell_type": "code",
   "execution_count": 32,
   "id": "97083857",
   "metadata": {
    "ExecuteTime": {
     "end_time": "2024-06-13T07:50:55.481233Z",
     "start_time": "2024-06-13T07:50:55.453308Z"
    },
    "collapsed": true,
    "deletable": false,
    "editable": false
   },
   "outputs": [
    {
     "data": {
      "text/html": [
       "<div>\n",
       "<style scoped>\n",
       "    .dataframe tbody tr th:only-of-type {\n",
       "        vertical-align: middle;\n",
       "    }\n",
       "\n",
       "    .dataframe tbody tr th {\n",
       "        vertical-align: top;\n",
       "    }\n",
       "\n",
       "    .dataframe thead th {\n",
       "        text-align: right;\n",
       "    }\n",
       "</style>\n",
       "<table border=\"1\" class=\"dataframe\">\n",
       "  <thead>\n",
       "    <tr style=\"text-align: right;\">\n",
       "      <th></th>\n",
       "      <th>tenure</th>\n",
       "      <th>TotalCharges</th>\n",
       "    </tr>\n",
       "    <tr>\n",
       "      <th>customerID</th>\n",
       "      <th></th>\n",
       "      <th></th>\n",
       "    </tr>\n",
       "  </thead>\n",
       "  <tbody>\n",
       "    <tr>\n",
       "      <th>4472-LVYGI</th>\n",
       "      <td>0</td>\n",
       "      <td>0.0</td>\n",
       "    </tr>\n",
       "    <tr>\n",
       "      <th>3115-CZMZD</th>\n",
       "      <td>0</td>\n",
       "      <td>0.0</td>\n",
       "    </tr>\n",
       "    <tr>\n",
       "      <th>5709-LVOEQ</th>\n",
       "      <td>0</td>\n",
       "      <td>0.0</td>\n",
       "    </tr>\n",
       "    <tr>\n",
       "      <th>4367-NUYAO</th>\n",
       "      <td>0</td>\n",
       "      <td>0.0</td>\n",
       "    </tr>\n",
       "    <tr>\n",
       "      <th>1371-DWPAZ</th>\n",
       "      <td>0</td>\n",
       "      <td>0.0</td>\n",
       "    </tr>\n",
       "    <tr>\n",
       "      <th>7644-OMVMY</th>\n",
       "      <td>0</td>\n",
       "      <td>0.0</td>\n",
       "    </tr>\n",
       "    <tr>\n",
       "      <th>3213-VVOLG</th>\n",
       "      <td>0</td>\n",
       "      <td>0.0</td>\n",
       "    </tr>\n",
       "    <tr>\n",
       "      <th>2520-SGTTA</th>\n",
       "      <td>0</td>\n",
       "      <td>0.0</td>\n",
       "    </tr>\n",
       "    <tr>\n",
       "      <th>2923-ARZLG</th>\n",
       "      <td>0</td>\n",
       "      <td>0.0</td>\n",
       "    </tr>\n",
       "    <tr>\n",
       "      <th>4075-WKNIU</th>\n",
       "      <td>0</td>\n",
       "      <td>0.0</td>\n",
       "    </tr>\n",
       "    <tr>\n",
       "      <th>2775-SEFEE</th>\n",
       "      <td>0</td>\n",
       "      <td>0.0</td>\n",
       "    </tr>\n",
       "  </tbody>\n",
       "</table>\n",
       "</div>"
      ],
      "text/plain": [
       "            tenure TotalCharges\n",
       "customerID                     \n",
       "4472-LVYGI       0          0.0\n",
       "3115-CZMZD       0          0.0\n",
       "5709-LVOEQ       0          0.0\n",
       "4367-NUYAO       0          0.0\n",
       "1371-DWPAZ       0          0.0\n",
       "7644-OMVMY       0          0.0\n",
       "3213-VVOLG       0          0.0\n",
       "2520-SGTTA       0          0.0\n",
       "2923-ARZLG       0          0.0\n",
       "4075-WKNIU       0          0.0\n",
       "2775-SEFEE       0          0.0"
      ]
     },
     "execution_count": 32,
     "metadata": {},
     "output_type": "execute_result"
    }
   ],
   "source": [
    "df[df['tenure'] == 0][['tenure', 'TotalCharges']]"
   ]
  },
  {
   "cell_type": "code",
   "execution_count": 34,
   "id": "23aaa5fe",
   "metadata": {
    "ExecuteTime": {
     "end_time": "2024-06-13T07:57:19.004101Z",
     "start_time": "2024-06-13T07:57:18.992134Z"
    },
    "deletable": false,
    "editable": false
   },
   "outputs": [
    {
     "name": "stdout",
     "output_type": "stream",
     "text": [
      "Missing Values: 0\n"
     ]
    }
   ],
   "source": [
    "df.loc[df['tenure'] == 0, 'TotalCharges'] = 0.0\n",
    "df['TotalCharges'] = pd.to_numeric(df['TotalCharges'], errors='coerce')\n",
    "print(\"Missing Values:\", df['TotalCharges'].isna().sum())"
   ]
  },
  {
   "cell_type": "markdown",
   "id": "c87347fc",
   "metadata": {
    "ExecuteTime": {
     "end_time": "2024-06-05T13:58:21.306422Z",
     "start_time": "2024-06-05T13:58:21.300439Z"
    },
    "deletable": false,
    "editable": false,
    "run_control": {
     "frozen": true
    }
   },
   "source": [
    "#### Handling Outliers (Optional)"
   ]
  },
  {
   "cell_type": "code",
   "execution_count": 36,
   "id": "a7e3ce6d",
   "metadata": {
    "ExecuteTime": {
     "end_time": "2024-06-13T08:01:13.607752Z",
     "start_time": "2024-06-13T08:01:13.580825Z"
    },
    "code_folding": [
     0
    ],
    "deletable": false,
    "editable": false
   },
   "outputs": [],
   "source": [
    "def replace_outliers(df, columns):\n",
    "    df = df.copy()\n",
    "    \n",
    "    for col in columns:\n",
    "        Q1 = df[col].quantile(0.25)\n",
    "        Q3 = df[col].quantile(0.75)\n",
    "        IQR = Q3-Q1\n",
    "        \n",
    "        top_cap = Q3 + (IQR * 1.5)\n",
    "        bottom_cap = Q1 - (IQR * 1.5)\n",
    "        \n",
    "        if df[col].max() > top_cap:\n",
    "            print(\"above bottom cap:\", df[df[col] > top_cap].shape[0])            \n",
    "            df[col] = df[col].apply(lambda x: top_cap if x > top_cap else x)\n",
    "        if df[col].min() < bottom_cap:\n",
    "            print(\"below bottom cap:\", df[df[col] < top_cap].shape[0])\n",
    "            df[col] = df[col].apply(lambda x: bottom_cap if x < bottom_cap else x)\n",
    "                \n",
    "    return df"
   ]
  },
  {
   "cell_type": "code",
   "execution_count": 37,
   "id": "724576d2",
   "metadata": {
    "ExecuteTime": {
     "end_time": "2024-06-13T08:01:14.449192Z",
     "start_time": "2024-06-13T08:01:14.433234Z"
    },
    "code_folding": [
     0
    ],
    "deletable": false,
    "editable": false
   },
   "outputs": [],
   "source": [
    "def replace_outliers_by_group(df, columns, col_group):\n",
    "    df = df.copy()\n",
    "    groups = df[col_group].unique()\n",
    "    \n",
    "    for col in columns:\n",
    "        df[col] = df[col].astype(float)\n",
    "    \n",
    "    for group in groups:\n",
    "        datas = df[df[col_group] == group]\n",
    "        for col in columns:\n",
    "            data = datas[col]\n",
    "            Q1 = data.quantile(0.25)\n",
    "            Q3 = data.quantile(0.75)\n",
    "            IQR = Q3-Q1\n",
    "\n",
    "            top_cap = Q3 + (IQR * 1.5)\n",
    "            bottom_cap = Q1 - (IQR * 1.5)\n",
    "\n",
    "            if data.max() > top_cap:                \n",
    "                idx_above_cap = data[data > top_cap].index\n",
    "                print(f\"above top cap ({col} | {group}):\", len(idx_above_cap))\n",
    "                df.loc[idx_above_cap, col] = top_cap\n",
    "            if df[col].min() < bottom_cap:\n",
    "                idx_below_cap = data[data < bottom_cap].index\n",
    "                print(f\"below bottom cap ({col}):\", len(idx_below_cap))\n",
    "                df.loc[idx_below_cap, col] = idx_below_cap\n",
    "                \n",
    "    return df"
   ]
  },
  {
   "cell_type": "markdown",
   "id": "944c10e3",
   "metadata": {
    "ExecuteTime": {
     "end_time": "2024-06-09T04:26:07.324024Z",
     "start_time": "2024-06-09T04:26:07.318380Z"
    },
    "deletable": false,
    "editable": false,
    "run_control": {
     "frozen": true
    }
   },
   "source": [
    "##### Without Grouping"
   ]
  },
  {
   "cell_type": "markdown",
   "id": "6657887e",
   "metadata": {
    "deletable": false,
    "editable": false,
    "run_control": {
     "frozen": true
    }
   },
   "source": [
    "No outliers were detected when we didn't group them by \"Churn\" label"
   ]
  },
  {
   "cell_type": "code",
   "execution_count": null,
   "id": "957dae96",
   "metadata": {
    "ExecuteTime": {
     "end_time": "2024-06-10T05:51:05.199008Z",
     "start_time": "2024-06-10T05:50:49.715886Z"
    },
    "deletable": false,
    "editable": false,
    "run_control": {
     "frozen": true
    }
   },
   "outputs": [],
   "source": [
    "plots_kde(df, ['tenure', 'TotalCharges', 'MonthlyCharges'], 1)"
   ]
  },
  {
   "cell_type": "code",
   "execution_count": null,
   "id": "ed10290e",
   "metadata": {
    "ExecuteTime": {
     "end_time": "2024-06-13T03:05:57.129657Z",
     "start_time": "2024-06-13T03:05:56.946832Z"
    },
    "deletable": false,
    "editable": false
   },
   "outputs": [],
   "source": [
    "df = replace_outliers(df, ['tenure', 'TotalCharges', 'MonthlyCharges'])"
   ]
  },
  {
   "cell_type": "markdown",
   "id": "0d276cb0",
   "metadata": {
    "ExecuteTime": {
     "end_time": "2024-06-09T04:26:32.406299Z",
     "start_time": "2024-06-09T04:26:32.401028Z"
    },
    "deletable": false,
    "editable": false,
    "run_control": {
     "frozen": true
    }
   },
   "source": [
    "##### Grouping by Churn"
   ]
  },
  {
   "cell_type": "markdown",
   "id": "92de7da2",
   "metadata": {
    "deletable": false,
    "editable": false,
    "run_control": {
     "frozen": true
    }
   },
   "source": [
    "Some outliers were detected if we group them by \"Churn\""
   ]
  },
  {
   "cell_type": "code",
   "execution_count": null,
   "id": "64c15b5b",
   "metadata": {
    "ExecuteTime": {
     "end_time": "2024-06-10T05:52:47.111709Z",
     "start_time": "2024-06-10T05:52:46.362251Z"
    },
    "deletable": false,
    "editable": false,
    "run_control": {
     "frozen": true
    }
   },
   "outputs": [],
   "source": [
    "plot_violin_binary_dist(df, 'tenure', 'Churn')"
   ]
  },
  {
   "cell_type": "code",
   "execution_count": null,
   "id": "c5c89cea",
   "metadata": {
    "ExecuteTime": {
     "end_time": "2024-06-10T05:52:52.083525Z",
     "start_time": "2024-06-10T05:52:51.971166Z"
    },
    "deletable": false,
    "editable": false,
    "run_control": {
     "frozen": true
    }
   },
   "outputs": [],
   "source": [
    "plot_violin_binary_dist(df, 'TotalCharges', 'Churn')"
   ]
  },
  {
   "cell_type": "code",
   "execution_count": null,
   "id": "6c175490",
   "metadata": {
    "ExecuteTime": {
     "end_time": "2024-06-10T05:53:03.732884Z",
     "start_time": "2024-06-10T05:53:03.626549Z"
    },
    "deletable": false,
    "editable": false,
    "run_control": {
     "frozen": true
    }
   },
   "outputs": [],
   "source": [
    "plot_violin_binary_dist(df, 'MonthlyCharges', 'Churn')"
   ]
  },
  {
   "cell_type": "code",
   "execution_count": 38,
   "id": "b48581ac",
   "metadata": {
    "ExecuteTime": {
     "end_time": "2024-06-13T08:02:33.917241Z",
     "start_time": "2024-06-13T08:02:33.884099Z"
    },
    "deletable": false,
    "editable": false
   },
   "outputs": [
    {
     "name": "stdout",
     "output_type": "stream",
     "text": [
      "above top cap (tenure | 1): 23\n",
      "above top cap (TotalCharges | 1): 109\n"
     ]
    }
   ],
   "source": [
    "df = replace_outliers_by_group(df, ['tenure', 'TotalCharges', 'MonthlyCharges'], 'Churn')"
   ]
  },
  {
   "cell_type": "markdown",
   "id": "75cb0cd1",
   "metadata": {
    "ExecuteTime": {
     "end_time": "2024-06-05T13:50:33.729739Z",
     "start_time": "2024-06-05T13:50:33.715763Z"
    },
    "deletable": false,
    "editable": false,
    "run_control": {
     "frozen": true
    }
   },
   "source": [
    "### Features Encoding"
   ]
  },
  {
   "cell_type": "markdown",
   "id": "1587c216",
   "metadata": {
    "ExecuteTime": {
     "end_time": "2024-06-05T13:54:49.362963Z",
     "start_time": "2024-06-05T13:54:49.344080Z"
    },
    "deletable": false,
    "editable": false,
    "run_control": {
     "frozen": true
    }
   },
   "source": [
    "#### Nominal Data into Binary"
   ]
  },
  {
   "cell_type": "markdown",
   "id": "7e01cb3b",
   "metadata": {
    "deletable": false,
    "editable": false,
    "run_control": {
     "frozen": true
    }
   },
   "source": [
    "We convert our nominal data into binary values."
   ]
  },
  {
   "cell_type": "code",
   "execution_count": null,
   "id": "eb133bd6",
   "metadata": {
    "ExecuteTime": {
     "end_time": "2024-06-11T09:38:59.311398Z",
     "start_time": "2024-06-11T09:38:59.204163Z"
    },
    "deletable": false,
    "editable": false,
    "run_control": {
     "frozen": true
    }
   },
   "outputs": [],
   "source": [
    "for col in df.select_dtypes('object').columns:\n",
    "    print(f\"{col}: \\n{df[col].unique()}\\n\")"
   ]
  },
  {
   "cell_type": "code",
   "execution_count": 39,
   "id": "5c5ac0c8",
   "metadata": {
    "ExecuteTime": {
     "end_time": "2024-06-13T08:02:37.995236Z",
     "start_time": "2024-06-13T08:02:37.969305Z"
    },
    "deletable": false,
    "editable": false
   },
   "outputs": [],
   "source": [
    "df['gender'] = df['gender'].map({'Male':1, 'Female':0})\n",
    "df['Partner'] = df['Partner'].map({'Yes':1, 'No':0})\n",
    "df['Dependents'] = df['Dependents'].map({'Yes':1, 'No':0})\n",
    "df['PhoneService'] = df['PhoneService'].map({'Yes':1, 'No':0})\n",
    "df['PaperlessBilling'] = df['PaperlessBilling'].map({'Yes':1, 'No':0})"
   ]
  },
  {
   "cell_type": "code",
   "execution_count": null,
   "id": "ab21c702",
   "metadata": {
    "ExecuteTime": {
     "end_time": "2024-06-10T15:16:14.010201Z",
     "start_time": "2024-06-10T15:16:13.625889Z"
    },
    "deletable": false,
    "editable": false,
    "run_control": {
     "frozen": true
    }
   },
   "outputs": [],
   "source": [
    "df.describe(include='object')"
   ]
  },
  {
   "cell_type": "markdown",
   "id": "271652db",
   "metadata": {
    "ExecuteTime": {
     "end_time": "2024-06-05T13:57:00.624604Z",
     "start_time": "2024-06-05T13:57:00.604579Z"
    },
    "deletable": false,
    "editable": false,
    "run_control": {
     "frozen": true
    }
   },
   "source": [
    "#### Ordinal Data into Stratificiation encoding"
   ]
  },
  {
   "cell_type": "markdown",
   "id": "ca022a80",
   "metadata": {
    "deletable": false,
    "editable": false,
    "run_control": {
     "frozen": true
    }
   },
   "source": [
    "We considered ordinal data has a stratification values"
   ]
  },
  {
   "cell_type": "code",
   "execution_count": 41,
   "id": "6cae333b",
   "metadata": {
    "ExecuteTime": {
     "end_time": "2024-06-13T08:06:20.289393Z",
     "start_time": "2024-06-13T08:06:20.270444Z"
    },
    "deletable": false,
    "editable": false
   },
   "outputs": [],
   "source": [
    "def cross_validated_target_encoding(df, categorical_col, target_col, n_splits=5, smoothing=1.0):\n",
    "    df = df.copy()\n",
    "    kf = KFold(n_splits=n_splits, shuffle=True, random_state=42)\n",
    "    target_mean_global = df[target_col].mean()\n",
    "\n",
    "    df['encoded'] = np.nan\n",
    "\n",
    "    for train_idx, val_idx in kf.split(df):\n",
    "        train, val = df.iloc[train_idx], df.iloc[val_idx]\n",
    "        category_means = train.groupby(categorical_col)[target_col].mean()\n",
    "        \n",
    "        # Smoothing\n",
    "        counts = train[categorical_col].value_counts()\n",
    "        smoothed_means = (category_means * counts + target_mean_global * smoothing) / (counts + smoothing)\n",
    "        \n",
    "        df.loc[val_idx, 'encoded'] = val[categorical_col].map(smoothed_means)\n",
    "    \n",
    "    df[categorical_col] = df['encoded'].fillna(target_mean_global)\n",
    "    df.drop('encoded', axis=1, inplace=True)\n",
    "\n",
    "    return df"
   ]
  },
  {
   "cell_type": "code",
   "execution_count": 44,
   "id": "7816b2f4",
   "metadata": {
    "ExecuteTime": {
     "end_time": "2024-06-13T08:06:54.374723Z",
     "start_time": "2024-06-13T08:06:54.295342Z"
    },
    "collapsed": true,
    "deletable": false,
    "editable": false
   },
   "outputs": [
    {
     "name": "stdout",
     "output_type": "stream",
     "text": [
      "   category_feature  numeric_feature  target\n",
      "0         41.666667                1      10\n",
      "1         42.500000                2      20\n",
      "2         35.000000                3      30\n",
      "3         35.000000                4      40\n",
      "4         27.500000                5      50\n",
      "5         25.000000                6      60\n"
     ]
    }
   ],
   "source": [
    "data = pd.DataFrame({\n",
    "    'category_feature': ['A', 'B', 'A', 'C', 'B', 'A'],\n",
    "    'numeric_feature': [1, 2, 3, 4, 5, 6],\n",
    "    'target': [10, 20, 30, 40, 50, 60]\n",
    "})\n",
    "\n",
    "encoded_data = cross_validated_target_encoding(data, 'category_feature', 'target')\n",
    "print(encoded_data)"
   ]
  },
  {
   "cell_type": "code",
   "execution_count": 45,
   "id": "03f4feb2",
   "metadata": {
    "ExecuteTime": {
     "end_time": "2024-06-13T08:06:57.984001Z",
     "start_time": "2024-06-13T08:06:57.963058Z"
    }
   },
   "outputs": [
    {
     "data": {
      "text/html": [
       "<div>\n",
       "<style scoped>\n",
       "    .dataframe tbody tr th:only-of-type {\n",
       "        vertical-align: middle;\n",
       "    }\n",
       "\n",
       "    .dataframe tbody tr th {\n",
       "        vertical-align: top;\n",
       "    }\n",
       "\n",
       "    .dataframe thead th {\n",
       "        text-align: right;\n",
       "    }\n",
       "</style>\n",
       "<table border=\"1\" class=\"dataframe\">\n",
       "  <thead>\n",
       "    <tr style=\"text-align: right;\">\n",
       "      <th></th>\n",
       "      <th>category_feature</th>\n",
       "      <th>numeric_feature</th>\n",
       "      <th>target</th>\n",
       "    </tr>\n",
       "  </thead>\n",
       "  <tbody>\n",
       "    <tr>\n",
       "      <th>0</th>\n",
       "      <td>41.666667</td>\n",
       "      <td>1</td>\n",
       "      <td>10</td>\n",
       "    </tr>\n",
       "    <tr>\n",
       "      <th>1</th>\n",
       "      <td>42.500000</td>\n",
       "      <td>2</td>\n",
       "      <td>20</td>\n",
       "    </tr>\n",
       "    <tr>\n",
       "      <th>2</th>\n",
       "      <td>35.000000</td>\n",
       "      <td>3</td>\n",
       "      <td>30</td>\n",
       "    </tr>\n",
       "    <tr>\n",
       "      <th>3</th>\n",
       "      <td>35.000000</td>\n",
       "      <td>4</td>\n",
       "      <td>40</td>\n",
       "    </tr>\n",
       "    <tr>\n",
       "      <th>4</th>\n",
       "      <td>27.500000</td>\n",
       "      <td>5</td>\n",
       "      <td>50</td>\n",
       "    </tr>\n",
       "    <tr>\n",
       "      <th>5</th>\n",
       "      <td>25.000000</td>\n",
       "      <td>6</td>\n",
       "      <td>60</td>\n",
       "    </tr>\n",
       "  </tbody>\n",
       "</table>\n",
       "</div>"
      ],
      "text/plain": [
       "   category_feature  numeric_feature  target\n",
       "0         41.666667                1      10\n",
       "1         42.500000                2      20\n",
       "2         35.000000                3      30\n",
       "3         35.000000                4      40\n",
       "4         27.500000                5      50\n",
       "5         25.000000                6      60"
      ]
     },
     "execution_count": 45,
     "metadata": {},
     "output_type": "execute_result"
    }
   ],
   "source": [
    "encoded_data"
   ]
  },
  {
   "cell_type": "code",
   "execution_count": null,
   "id": "174cb9d7",
   "metadata": {
    "ExecuteTime": {
     "end_time": "2024-06-13T03:13:25.103194Z",
     "start_time": "2024-06-13T03:13:25.091224Z"
    },
    "code_folding": [
     0
    ],
    "deletable": false,
    "editable": false
   },
   "outputs": [],
   "source": [
    "def target_encoder(df, y):\n",
    "    df = df.copy()\n",
    "    mapping = {}\n",
    "    \n",
    "    # Encode target variable if it's not numeric\n",
    "    if df[y].dtype == 'object' or not pd.api.types.is_numeric_dtype(df[y]):\n",
    "        df[y] = LabelEncoder().fit_transform(df[y])\n",
    "    \n",
    "    for col in df.select_dtypes(include='object').columns:\n",
    "        # Calculate the mean target value for each category\n",
    "        mean_encoded = df.groupby(col)[y].mean().to_dict()\n",
    "        mapping[col] = mean_encoded\n",
    "        \n",
    "        # Replace each category with its corresponding mean target value\n",
    "        df[col] = df[col].map(mean_encoded)\n",
    "    \n",
    "    return df, mapping"
   ]
  },
  {
   "cell_type": "code",
   "execution_count": null,
   "id": "71b72207",
   "metadata": {
    "ExecuteTime": {
     "end_time": "2024-06-13T03:13:39.454467Z",
     "start_time": "2024-06-13T03:13:39.400929Z"
    },
    "deletable": false,
    "editable": false
   },
   "outputs": [],
   "source": [
    "df, mapping = target_encoder(df, 'Churn')"
   ]
  },
  {
   "cell_type": "code",
   "execution_count": 40,
   "id": "4589be2b",
   "metadata": {
    "ExecuteTime": {
     "end_time": "2024-06-13T08:02:44.394182Z",
     "start_time": "2024-06-13T08:02:44.371246Z"
    }
   },
   "outputs": [
    {
     "data": {
      "text/plain": [
       "MultipleLines       3\n",
       "InternetService     3\n",
       "OnlineSecurity      3\n",
       "OnlineBackup        3\n",
       "DeviceProtection    3\n",
       "TechSupport         3\n",
       "StreamingTV         3\n",
       "StreamingMovies     3\n",
       "Contract            3\n",
       "PaymentMethod       4\n",
       "dtype: int64"
      ]
     },
     "execution_count": 40,
     "metadata": {},
     "output_type": "execute_result"
    }
   ],
   "source": [
    "df.select_dtypes(exclude='number').nunique()"
   ]
  },
  {
   "cell_type": "markdown",
   "id": "e9e114ef",
   "metadata": {
    "ExecuteTime": {
     "end_time": "2024-06-05T13:50:12.791440Z",
     "start_time": "2024-06-05T13:50:12.772965Z"
    },
    "deletable": false,
    "editable": false,
    "run_control": {
     "frozen": true
    }
   },
   "source": [
    "### Data Preprocessing and Processing"
   ]
  },
  {
   "cell_type": "markdown",
   "id": "06ea502f",
   "metadata": {
    "deletable": false,
    "editable": false,
    "heading_collapsed": true,
    "run_control": {
     "frozen": true
    }
   },
   "source": [
    "#### Data Scaling (Change the range of values)"
   ]
  },
  {
   "cell_type": "code",
   "execution_count": null,
   "id": "06cd4526",
   "metadata": {
    "ExecuteTime": {
     "end_time": "2024-06-09T17:36:24.363936Z",
     "start_time": "2024-06-09T17:36:24.353963Z"
    },
    "deletable": false,
    "editable": false,
    "hidden": true
   },
   "outputs": [],
   "source": [
    "from sklearn.preprocessing import StandardScaler\n",
    "from sklearn.preprocessing import MinMaxScaler\n",
    "from sklearn.preprocessing import RobustScaler"
   ]
  },
  {
   "cell_type": "code",
   "execution_count": null,
   "id": "7f36d418",
   "metadata": {
    "ExecuteTime": {
     "end_time": "2024-06-09T17:36:56.358248Z",
     "start_time": "2024-06-09T17:36:54.774030Z"
    },
    "deletable": false,
    "editable": false,
    "hidden": true
   },
   "outputs": [],
   "source": [
    "df[NUM_COLS].hist(figsize=(12, 2), bins=100, layout=(1, 3));"
   ]
  },
  {
   "cell_type": "code",
   "execution_count": null,
   "id": "3d85f59b",
   "metadata": {
    "ExecuteTime": {
     "end_time": "2024-06-09T17:03:16.612989Z",
     "start_time": "2024-06-09T17:03:16.462635Z"
    },
    "deletable": false,
    "editable": false,
    "hidden": true
   },
   "outputs": [],
   "source": [
    "ss = StandardScaler()\n",
    "df.loc[:, NUM_COLS] = ss.fit_transform(df[NUM_COLS])"
   ]
  },
  {
   "cell_type": "code",
   "execution_count": null,
   "id": "0b18ce88",
   "metadata": {
    "ExecuteTime": {
     "end_time": "2024-06-09T17:35:11.853321Z",
     "start_time": "2024-06-09T17:35:10.906346Z"
    },
    "deletable": false,
    "editable": false,
    "hidden": true
   },
   "outputs": [],
   "source": [
    "df[NUM_COLS].hist(figsize=(12, 2), bins=100, layout=(1, 3));"
   ]
  },
  {
   "cell_type": "markdown",
   "id": "43d50050",
   "metadata": {
    "ExecuteTime": {
     "end_time": "2024-06-09T14:28:01.745210Z",
     "start_time": "2024-06-09T14:28:01.734282Z"
    },
    "deletable": false,
    "editable": false,
    "run_control": {
     "frozen": true
    }
   },
   "source": [
    "#### Data Transformation (Change the shape of distribution)"
   ]
  },
  {
   "cell_type": "code",
   "execution_count": null,
   "id": "1854db72",
   "metadata": {
    "ExecuteTime": {
     "end_time": "2024-06-11T09:39:18.584583Z",
     "start_time": "2024-06-11T09:39:18.570013Z"
    },
    "deletable": false,
    "editable": false
   },
   "outputs": [],
   "source": [
    "from sklearn.preprocessing import PowerTransformer"
   ]
  },
  {
   "cell_type": "code",
   "execution_count": null,
   "id": "e5b3c6b3",
   "metadata": {
    "ExecuteTime": {
     "end_time": "2024-06-11T09:39:19.515089Z",
     "start_time": "2024-06-11T09:39:19.421857Z"
    },
    "deletable": false,
    "editable": false
   },
   "outputs": [],
   "source": [
    "print(\"skewness\")\n",
    "print('yeo-johnson: ', pd.DataFrame(PowerTransformer(method='yeo-johnson').fit_transform(df[NUM_COLS])).skew().abs().sum())\n",
    "print('box-cox: ', pd.DataFrame(PowerTransformer(method='box-cox').fit_transform(df[NUM_COLS])).skew().abs().sum())\n",
    "print('sqrt: ', np.sqrt(df[NUM_COLS]).skew().abs().sum())\n",
    "print('cbrt: ', np.cbrt(df[NUM_COLS]).skew().abs().sum())\n",
    "print('log: ', np.log(df[NUM_COLS]).skew().abs().sum())\n",
    "print('log1p: ', np.log1p(df[NUM_COLS]).skew().abs().sum())"
   ]
  },
  {
   "cell_type": "code",
   "execution_count": null,
   "id": "d308437f",
   "metadata": {
    "ExecuteTime": {
     "end_time": "2024-06-11T09:39:22.974162Z",
     "start_time": "2024-06-11T09:39:22.902652Z"
    },
    "deletable": false,
    "editable": false
   },
   "outputs": [],
   "source": [
    "df[NUM_COLS] = PowerTransformer(method='yeo-johnson').fit_transform(df[NUM_COLS])"
   ]
  },
  {
   "cell_type": "code",
   "execution_count": null,
   "id": "a24e0888",
   "metadata": {
    "ExecuteTime": {
     "end_time": "2024-06-11T09:39:28.021677Z",
     "start_time": "2024-06-11T09:39:23.733524Z"
    },
    "deletable": false,
    "editable": false
   },
   "outputs": [],
   "source": [
    "df[NUM_COLS].hist(figsize=(12, 2), bins=100, layout=(1, 3));"
   ]
  },
  {
   "cell_type": "markdown",
   "id": "6a6d9d49",
   "metadata": {
    "ExecuteTime": {
     "end_time": "2024-06-05T13:59:55.759493Z",
     "start_time": "2024-06-05T13:59:55.749403Z"
    }
   },
   "source": [
    "## Data Modeling"
   ]
  },
  {
   "cell_type": "markdown",
   "id": "f6bbb926",
   "metadata": {
    "ExecuteTime": {
     "end_time": "2024-06-10T06:18:55.476733Z",
     "start_time": "2024-06-10T06:18:55.468754Z"
    },
    "deletable": false,
    "editable": false,
    "run_control": {
     "frozen": true
    }
   },
   "source": [
    "### Data Splitting"
   ]
  },
  {
   "cell_type": "code",
   "execution_count": null,
   "id": "03cb9305",
   "metadata": {
    "ExecuteTime": {
     "end_time": "2024-06-11T10:00:32.549038Z",
     "start_time": "2024-06-11T10:00:32.537028Z"
    },
    "deletable": false,
    "editable": false
   },
   "outputs": [],
   "source": [
    "X = df.drop('Churn', axis=1)\n",
    "y = df['Churn']"
   ]
  },
  {
   "cell_type": "code",
   "execution_count": null,
   "id": "4228d58f",
   "metadata": {
    "ExecuteTime": {
     "end_time": "2024-06-11T10:22:44.492025Z",
     "start_time": "2024-06-11T10:22:44.431936Z"
    },
    "deletable": false,
    "editable": false
   },
   "outputs": [],
   "source": [
    "X_train, X_test, y_train, y_test = train_test_split(X, y, test_size=0.3, random_state=42)"
   ]
  },
  {
   "cell_type": "markdown",
   "id": "57fd288e",
   "metadata": {
    "ExecuteTime": {
     "end_time": "2024-06-10T06:17:34.256599Z",
     "start_time": "2024-06-10T06:17:34.251616Z"
    },
    "deletable": false,
    "editable": false,
    "run_control": {
     "frozen": true
    }
   },
   "source": [
    "### Handling Imbalanced Data Label"
   ]
  },
  {
   "cell_type": "markdown",
   "id": "88e8dfb5",
   "metadata": {
    "deletable": false,
    "editable": false,
    "run_control": {
     "frozen": true
    }
   },
   "source": [
    "- We do oversampling technique that increases the number of samples in the minority class\n",
    "- We leave the test data in its original distribution to accurately evaluate model performance.\n",
    "- The test set should reflect real-world scenarios where the class distribution is naturally imbalanced."
   ]
  },
  {
   "cell_type": "markdown",
   "id": "81c3c681",
   "metadata": {
    "ExecuteTime": {
     "end_time": "2024-06-10T06:21:01.072384Z",
     "start_time": "2024-06-10T06:21:01.065402Z"
    },
    "deletable": false,
    "editable": false,
    "run_control": {
     "frozen": true
    }
   },
   "source": [
    "#### SMOTE"
   ]
  },
  {
   "cell_type": "code",
   "execution_count": null,
   "id": "b39b8b8a",
   "metadata": {
    "ExecuteTime": {
     "end_time": "2024-06-11T10:22:45.709792Z",
     "start_time": "2024-06-11T10:22:45.664404Z"
    },
    "deletable": false,
    "editable": false
   },
   "outputs": [],
   "source": [
    "smote = SMOTE(sampling_strategy='auto', random_state=42)\n",
    "X_train_smote_resampled, y_train_smote_resampled = smote.fit_resample(X_train, y_train)"
   ]
  },
  {
   "cell_type": "code",
   "execution_count": null,
   "id": "0239b3ae",
   "metadata": {
    "ExecuteTime": {
     "end_time": "2024-06-11T10:34:27.353125Z",
     "start_time": "2024-06-11T10:34:27.332222Z"
    },
    "deletable": false,
    "editable": false
   },
   "outputs": [],
   "source": [
    "y_train.value_counts()"
   ]
  },
  {
   "cell_type": "code",
   "execution_count": null,
   "id": "fa3c8e0f",
   "metadata": {
    "ExecuteTime": {
     "end_time": "2024-06-11T15:02:44.219991Z",
     "start_time": "2024-06-11T15:02:44.198050Z"
    },
    "deletable": false,
    "editable": false,
    "scrolled": false
   },
   "outputs": [],
   "source": [
    "y_train_smote_resampled.value_counts()"
   ]
  },
  {
   "cell_type": "markdown",
   "id": "265a86fc",
   "metadata": {
    "ExecuteTime": {
     "end_time": "2024-06-05T13:59:22.505850Z",
     "start_time": "2024-06-05T13:59:22.494879Z"
    },
    "deletable": false,
    "editable": false,
    "heading_collapsed": true,
    "run_control": {
     "frozen": true
    }
   },
   "source": [
    "### Feature Selection"
   ]
  },
  {
   "cell_type": "code",
   "execution_count": null,
   "id": "186ffe5f",
   "metadata": {
    "ExecuteTime": {
     "end_time": "2024-06-11T10:36:41.297572Z",
     "start_time": "2024-06-11T10:36:41.279580Z"
    },
    "deletable": false,
    "editable": false,
    "hidden": true
   },
   "outputs": [],
   "source": [
    "def checkVIF(df, scale=True):    \n",
    "    index = df.columns.tolist()\n",
    "    \n",
    "    if scale:\n",
    "        df = pd.DataFrame(StandardScaler().fit_transform(df))\n",
    "\n",
    "    vif = pd.Series([variance_inflation_factor(df.values, i) for i in range(df.shape[1])], index=index)\n",
    "    \n",
    "    return pd.DataFrame(vif, index=index, columns=['vif']).sort_values(by='vif', ascending=False)"
   ]
  },
  {
   "cell_type": "code",
   "execution_count": null,
   "id": "3164fb9f",
   "metadata": {
    "ExecuteTime": {
     "end_time": "2024-06-11T15:02:41.710308Z",
     "start_time": "2024-06-11T15:02:41.418897Z"
    },
    "deletable": false,
    "editable": false,
    "hidden": true
   },
   "outputs": [],
   "source": [
    "checkVIF(X_train_smote_resampled, True)"
   ]
  },
  {
   "cell_type": "markdown",
   "id": "033be621",
   "metadata": {
    "ExecuteTime": {
     "end_time": "2024-06-05T14:02:32.438021Z",
     "start_time": "2024-06-05T14:02:32.427050Z"
    },
    "deletable": false,
    "editable": false,
    "run_control": {
     "frozen": true
    }
   },
   "source": [
    "### Models Fitting"
   ]
  },
  {
   "cell_type": "markdown",
   "id": "f07ed05d",
   "metadata": {
    "ExecuteTime": {
     "end_time": "2024-06-11T09:40:50.537747Z",
     "start_time": "2024-06-11T09:40:50.521130Z"
    },
    "deletable": false,
    "editable": false,
    "run_control": {
     "frozen": true
    }
   },
   "source": [
    "#### Llogistic Regression"
   ]
  },
  {
   "cell_type": "code",
   "execution_count": null,
   "id": "05aa84c7",
   "metadata": {
    "ExecuteTime": {
     "end_time": "2024-06-11T15:07:44.339489Z",
     "start_time": "2024-06-11T15:07:43.838472Z"
    },
    "deletable": false,
    "editable": false
   },
   "outputs": [],
   "source": [
    "model_lg = LogisticRegression(max_iter=100).fit(X_train, y_train)\n",
    "y_pred_lg = model_lg.predict(X_test)\n",
    "y_score_lg = model_lg.predict_proba(X_test)[:,1]"
   ]
  },
  {
   "cell_type": "code",
   "execution_count": null,
   "id": "72bb7a62",
   "metadata": {
    "ExecuteTime": {
     "end_time": "2024-06-11T15:07:52.018722Z",
     "start_time": "2024-06-11T15:07:52.001730Z"
    },
    "deletable": false,
    "editable": false
   },
   "outputs": [],
   "source": [
    "print(\"train score:\", model_lg.score(X_train, y_train))\n",
    "print(\"test score:\", model_lg.score(X_test, y_test))"
   ]
  },
  {
   "cell_type": "code",
   "execution_count": null,
   "id": "2112ce96",
   "metadata": {
    "ExecuteTime": {
     "end_time": "2024-06-11T15:08:21.047320Z",
     "start_time": "2024-06-11T15:08:20.963480Z"
    },
    "deletable": false,
    "editable": false
   },
   "outputs": [],
   "source": [
    "model_lg2 = LogisticRegression(max_iter=100).fit(X_train_smote_resampled, y_train_smote_resampled)\n",
    "print(\"train score:\", model_lg2.score(X_train_smote_resampled, y_train_smote_resampled))\n",
    "print(\"test score:\", model_lg2.score(X_test, y_test))"
   ]
  },
  {
   "cell_type": "markdown",
   "id": "acc566bd",
   "metadata": {
    "ExecuteTime": {
     "end_time": "2024-06-11T09:41:14.821416Z",
     "start_time": "2024-06-11T09:41:14.813187Z"
    },
    "deletable": false,
    "editable": false,
    "run_control": {
     "frozen": true
    }
   },
   "source": [
    "#### Random Forest"
   ]
  },
  {
   "cell_type": "code",
   "execution_count": null,
   "id": "ae94db15",
   "metadata": {
    "ExecuteTime": {
     "end_time": "2024-06-11T15:11:35.229383Z",
     "start_time": "2024-06-11T15:11:34.681205Z"
    },
    "deletable": false,
    "editable": false,
    "scrolled": true
   },
   "outputs": [],
   "source": [
    "model_rf = RandomForestClassifier(max_depth=8).fit(X_train, y_train)\n",
    "print(\"train score:\", model_rf.score(X_train, y_train))\n",
    "print(\"test score:\", model_rf.score(X_test, y_test))"
   ]
  },
  {
   "cell_type": "code",
   "execution_count": null,
   "id": "7368cae6",
   "metadata": {
    "ExecuteTime": {
     "end_time": "2024-06-11T15:11:51.168703Z",
     "start_time": "2024-06-11T15:11:50.484723Z"
    },
    "deletable": false,
    "editable": false
   },
   "outputs": [],
   "source": [
    "model_rf2 = RandomForestClassifier(max_depth=7).fit(X_train_smote_resampled, y_train_smote_resampled)\n",
    "print(\"train score:\", model_rf2.score(X_train_smote_resampled, y_train_smote_resampled))\n",
    "print(\"test score:\", model_rf2.score(X_test, y_test))"
   ]
  },
  {
   "cell_type": "markdown",
   "id": "707c97e3",
   "metadata": {
    "ExecuteTime": {
     "end_time": "2024-06-11T09:40:56.772275Z",
     "start_time": "2024-06-11T09:40:56.757010Z"
    },
    "deletable": false,
    "editable": false,
    "run_control": {
     "frozen": true
    }
   },
   "source": [
    "#### XGB Classifier"
   ]
  },
  {
   "cell_type": "code",
   "execution_count": null,
   "id": "bbaafbb8",
   "metadata": {
    "ExecuteTime": {
     "end_time": "2024-06-11T15:12:54.480471Z",
     "start_time": "2024-06-11T15:12:54.356405Z"
    },
    "deletable": false,
    "editable": false
   },
   "outputs": [],
   "source": [
    "model_xgb_clf = XGBClassifier(eval_metric='aucpr', early_stopping_rounds=10, )\n",
    "model_xgb_clf.fit(\n",
    "    X_train,\n",
    "    y_train, \n",
    "    verbose=False,    \n",
    "    eval_set=[(X_test, y_test)]\n",
    ")"
   ]
  },
  {
   "cell_type": "code",
   "execution_count": null,
   "id": "b2d8bcd6",
   "metadata": {
    "ExecuteTime": {
     "end_time": "2024-06-11T15:12:58.093597Z",
     "start_time": "2024-06-11T15:12:57.989533Z"
    },
    "deletable": false,
    "editable": false
   },
   "outputs": [],
   "source": [
    "print(\"train score:\", model_xgb_clf.score(X_train, y_train))\n",
    "print(\"test score:\", model_xgb_clf.score(X_test, y_test))"
   ]
  },
  {
   "cell_type": "code",
   "execution_count": null,
   "id": "eb6f7320",
   "metadata": {
    "ExecuteTime": {
     "end_time": "2024-06-11T15:14:22.479297Z",
     "start_time": "2024-06-11T15:14:22.326715Z"
    },
    "deletable": false,
    "editable": false
   },
   "outputs": [],
   "source": [
    "model_xgb_clf2 = XGBClassifier(eval_metric='aucpr', early_stopping_rounds=10)\n",
    "model_xgb_clf2.fit(\n",
    "    X_train_smote_resampled, \n",
    "    y_train_smote_resampled, \n",
    "    verbose=False,\n",
    "    eval_set=[(X_test, y_test)]\n",
    ")"
   ]
  },
  {
   "cell_type": "code",
   "execution_count": null,
   "id": "7064dc9a",
   "metadata": {
    "ExecuteTime": {
     "end_time": "2024-06-11T15:14:23.746980Z",
     "start_time": "2024-06-11T15:14:23.703537Z"
    },
    "deletable": false,
    "editable": false
   },
   "outputs": [],
   "source": [
    "print(\"train score:\", model_xgb_clf2.score(X_train_smote_resampled, y_train_smote_resampled))\n",
    "print(\"test score:\", model_xgb_clf2.score(X_test, y_test))"
   ]
  },
  {
   "cell_type": "markdown",
   "id": "f6dedc39",
   "metadata": {
    "ExecuteTime": {
     "end_time": "2024-06-05T14:00:18.984623Z",
     "start_time": "2024-06-05T14:00:18.974648Z"
    },
    "deletable": false,
    "editable": false,
    "run_control": {
     "frozen": true
    }
   },
   "source": [
    "## Model Optimization"
   ]
  },
  {
   "cell_type": "markdown",
   "id": "b4c3bb9d",
   "metadata": {
    "ExecuteTime": {
     "end_time": "2024-06-05T14:00:07.296799Z",
     "start_time": "2024-06-05T14:00:07.277852Z"
    },
    "deletable": false,
    "editable": false,
    "run_control": {
     "frozen": true
    }
   },
   "source": [
    "## Model Evaluation"
   ]
  },
  {
   "cell_type": "markdown",
   "id": "55c5d926",
   "metadata": {
    "ExecuteTime": {
     "end_time": "2024-06-03T07:06:23.828925Z",
     "start_time": "2024-06-03T07:06:23.817956Z"
    },
    "deletable": false,
    "editable": false,
    "run_control": {
     "frozen": true
    }
   },
   "source": [
    "### Classification Report"
   ]
  },
  {
   "cell_type": "code",
   "execution_count": null,
   "id": "c0bcde67",
   "metadata": {
    "ExecuteTime": {
     "end_time": "2024-06-04T08:14:09.619494Z",
     "start_time": "2024-06-04T08:14:09.593123Z"
    },
    "deletable": false,
    "editable": false,
    "scrolled": true
   },
   "outputs": [],
   "source": [
    "print(classification_report(y_pred_lg, y_test, output_dict=False))"
   ]
  },
  {
   "cell_type": "markdown",
   "id": "6d13f6b4",
   "metadata": {
    "deletable": false,
    "editable": false,
    "run_control": {
     "frozen": true
    }
   },
   "source": [
    "The classification report indicates that our model:\n",
    "\n",
    "- Overall Accuracy: Achieves an accuracy of 81% (f1-score).\n",
    "- Performance on Non-Churn Customers:\n",
    "    - Accuracy: 88% f1-score.\n",
    "    - Precision: 90% (higher than recall), indicating that the model tends to assume customers are loyal.\n",
    "    - Recall: 85%, which, along with the higher precision, suggests an imbalance in the dataset where non-churn cases are more prevalent.\n",
    "- Performance on Churn Customers:\n",
    "    - Accuracy: 62% f1-score, indicating weaker performance.\n",
    "    - Precision: 57% (lower than recall), suggesting the model is cautious in predicting churn, leading to fewer false positives.\n",
    "    - Recall: 62%, which shows the model identifies more actual churn cases but at the cost of lower precision.\n",
    "- Overall, the model shows good performance in predicting non-churn customers but struggles with accurately identifying churn customers, highlighting areas for potential improvement"
   ]
  },
  {
   "cell_type": "code",
   "execution_count": null,
   "id": "806b69b5",
   "metadata": {
    "ExecuteTime": {
     "end_time": "2024-06-04T08:14:10.418511Z",
     "start_time": "2024-06-04T08:14:10.383075Z"
    },
    "deletable": false,
    "editable": false
   },
   "outputs": [],
   "source": [
    "pd.DataFrame(classification_report(y_pred_lg, y_test, output_dict=True)).T.iloc[:,:-1]"
   ]
  },
  {
   "cell_type": "markdown",
   "id": "de08798a",
   "metadata": {
    "ExecuteTime": {
     "end_time": "2024-06-03T07:06:30.511479Z",
     "start_time": "2024-06-03T07:06:30.498369Z"
    },
    "deletable": false,
    "editable": false
   },
   "source": [
    "### Confusion Matrix"
   ]
  },
  {
   "cell_type": "code",
   "execution_count": null,
   "id": "155854fe",
   "metadata": {
    "ExecuteTime": {
     "end_time": "2024-06-04T08:14:56.009111Z",
     "start_time": "2024-06-04T08:14:55.918235Z"
    },
    "deletable": false,
    "editable": false
   },
   "outputs": [],
   "source": [
    "fig_cm = plot_confusion_matrix(confusion_matrix(y_test, y_pred_lg))\n",
    "fig_cm"
   ]
  },
  {
   "cell_type": "code",
   "execution_count": null,
   "id": "4f90ffec",
   "metadata": {
    "ExecuteTime": {
     "end_time": "2024-06-04T08:14:59.566250Z",
     "start_time": "2024-06-04T08:14:59.553777Z"
    },
    "deletable": false,
    "editable": false
   },
   "outputs": [],
   "source": [
    "tn, fp, fn, tp = confusion_matrix(y_test, y_pred_lg).ravel()"
   ]
  },
  {
   "cell_type": "code",
   "execution_count": null,
   "id": "578d30d4",
   "metadata": {
    "ExecuteTime": {
     "end_time": "2024-06-04T08:15:00.052026Z",
     "start_time": "2024-06-04T08:15:00.022769Z"
    },
    "deletable": false,
    "editable": false
   },
   "outputs": [],
   "source": [
    "pd.DataFrame(\n",
    "    confusion_matrix(y_test, y_pred_lg), \n",
    "    index=['Actual Negative', 'Actual Positive'], \n",
    "    columns=['Predicted Negative', 'Predicted Positive']\n",
    ")"
   ]
  },
  {
   "cell_type": "markdown",
   "id": "a86b1090",
   "metadata": {},
   "source": [
    "Our confusion matrix shows the following:\n",
    "\n",
    "- True Negative (1159), the model predicted negative and the actual was also negative.\n",
    "- False Positive (123), the model predicted positive but the actual was negative.\n",
    "- True Positive (273), the model predicted positive and the actual was also positive.\n",
    "- False Negative (206), the model predicted negative but the actual was positive."
   ]
  },
  {
   "cell_type": "markdown",
   "id": "92102292",
   "metadata": {
    "ExecuteTime": {
     "end_time": "2024-06-03T07:18:19.759921Z",
     "start_time": "2024-06-03T07:18:19.746309Z"
    },
    "deletable": false,
    "editable": false,
    "run_control": {
     "frozen": true
    }
   },
   "source": [
    "### TPR (True Positive Rate) and (False Positive Rate) Thresholds"
   ]
  },
  {
   "cell_type": "markdown",
   "id": "fb59abdf",
   "metadata": {
    "deletable": false,
    "editable": false,
    "run_control": {
     "frozen": true
    }
   },
   "source": [
    "- True Positive Rate (also known as recall or sensitivity) measures the proportion of true positive cases correctly identified by the model among all actual positive cases. It is calculated as the ratio of true positives to the sum of true positives and false negatives.\n",
    "- False Positive Rate measures the proportion of false positive cases incorrectly identified as positive by the model among all actual negative cases. It is calculated as the ratio of false positives to the sum of false positives and true negatives."
   ]
  },
  {
   "cell_type": "code",
   "execution_count": null,
   "id": "f49178dc",
   "metadata": {
    "ExecuteTime": {
     "end_time": "2024-06-04T08:15:21.362967Z",
     "start_time": "2024-06-04T08:15:20.757253Z"
    },
    "deletable": false,
    "editable": false
   },
   "outputs": [],
   "source": [
    "fig_tpr_fpr = plot_tpr_fpr_thresholds(lg_model, X_test, y_test)\n",
    "fig_tpr_fpr.update_layout(width=None)"
   ]
  },
  {
   "cell_type": "markdown",
   "id": "82436d49",
   "metadata": {
    "ExecuteTime": {
     "end_time": "2024-06-03T07:20:43.892454Z",
     "start_time": "2024-06-03T07:20:43.874543Z"
    },
    "deletable": false,
    "editable": false,
    "run_control": {
     "frozen": true
    }
   },
   "source": [
    "### ROC Curves"
   ]
  },
  {
   "cell_type": "code",
   "execution_count": null,
   "id": "76b9444b",
   "metadata": {
    "ExecuteTime": {
     "end_time": "2024-06-04T08:16:21.796818Z",
     "start_time": "2024-06-04T08:16:21.782816Z"
    },
    "deletable": false,
    "editable": false
   },
   "outputs": [],
   "source": [
    "from sklearn.metrics import auc, roc_auc_score, roc_curve, accuracy_score"
   ]
  },
  {
   "cell_type": "code",
   "execution_count": null,
   "id": "8d916cd3",
   "metadata": {
    "ExecuteTime": {
     "end_time": "2024-06-04T08:16:24.313213Z",
     "start_time": "2024-06-04T08:16:24.244118Z"
    },
    "code_folding": [
     0
    ],
    "deletable": false,
    "editable": false
   },
   "outputs": [],
   "source": [
    "def calculate_auc(fpr, tpr):\n",
    "    \"\"\"\n",
    "    Calculate the Area Under the Curve (AUC) using the trapezoidal rule.\n",
    "    \n",
    "    Parameters:\n",
    "    fpr (list): List of False Positive Rates (FPR).\n",
    "    tpr (list): List of True Positive Rates (TPR).\n",
    "\n",
    "    Returns:\n",
    "    float: The AUC value.\n",
    "    \"\"\"\n",
    "    # Ensure the lists are sorted in ascending order of FPR\n",
    "    sorted_indices = sorted(range(len(fpr)), key=lambda i: fpr[i])\n",
    "    fpr = [fpr[i] for i in sorted_indices]\n",
    "    tpr = [tpr[i] for i in sorted_indices]\n",
    "\n",
    "    # Initialize AUC\n",
    "    auc = 0.0\n",
    "\n",
    "    # Apply the trapezoidal rule\n",
    "    for i in range(1, len(fpr)):\n",
    "        auc += (fpr[i] - fpr[i-1]) * (tpr[i] + tpr[i-1]) / 2\n",
    "\n",
    "    return auc"
   ]
  },
  {
   "cell_type": "code",
   "execution_count": null,
   "id": "cc6f0498",
   "metadata": {
    "ExecuteTime": {
     "end_time": "2024-06-04T03:04:10.477935Z",
     "start_time": "2024-06-04T03:04:10.463976Z"
    },
    "deletable": false,
    "editable": false
   },
   "outputs": [],
   "source": [
    "accuracy_score(y_test, y_pred_custom[:, 0])"
   ]
  },
  {
   "cell_type": "code",
   "execution_count": null,
   "id": "8b75e0fe",
   "metadata": {
    "ExecuteTime": {
     "end_time": "2024-06-04T03:02:13.481828Z",
     "start_time": "2024-06-04T03:02:13.470854Z"
    },
    "deletable": false,
    "editable": false
   },
   "outputs": [],
   "source": [
    "accuracy_score(y_test, y_pred_lg)"
   ]
  },
  {
   "cell_type": "code",
   "execution_count": null,
   "id": "bec51337",
   "metadata": {
    "ExecuteTime": {
     "end_time": "2024-06-04T02:30:33.905227Z",
     "start_time": "2024-06-04T02:30:33.885282Z"
    },
    "deletable": false,
    "editable": false
   },
   "outputs": [],
   "source": [
    "y_score = lg_model.predict_proba(X_test)\n",
    "fpr, tpr, thresholds = roc_curve(y_test, y_score[:, 1])\n",
    "\n",
    "df_threshold = pd.DataFrame({\"fpr\": fpr, \"tpr\": tpr, \"thresholds\": thresholds})\n",
    "df_threshold = df_threshold.sort_values('thresholds').reset_index(drop=True)\n",
    "df_threshold['different'] = df_threshold['tpr'] - df_threshold['fpr']"
   ]
  },
  {
   "cell_type": "code",
   "execution_count": null,
   "id": "4bd04fd0",
   "metadata": {
    "ExecuteTime": {
     "end_time": "2024-06-04T02:28:49.571795Z",
     "start_time": "2024-06-04T02:28:49.543867Z"
    },
    "deletable": false,
    "editable": false
   },
   "outputs": [],
   "source": [
    "df_threshold.sort_values('different')"
   ]
  },
  {
   "cell_type": "code",
   "execution_count": null,
   "id": "e2c9fd8a",
   "metadata": {
    "ExecuteTime": {
     "end_time": "2024-06-04T01:22:26.465949Z",
     "start_time": "2024-06-04T01:22:26.450990Z"
    },
    "deletable": false,
    "editable": false
   },
   "outputs": [],
   "source": [
    "roc_auc_score(y_test, y_score[:, 1])"
   ]
  },
  {
   "cell_type": "code",
   "execution_count": null,
   "id": "8af3b5b4",
   "metadata": {
    "ExecuteTime": {
     "end_time": "2024-06-03T23:43:59.618408Z",
     "start_time": "2024-06-03T23:43:59.254970Z"
    },
    "deletable": false,
    "editable": false
   },
   "outputs": [],
   "source": [
    "fig_roc = plot_roc_curves(lg_model, X_test, y_test)\n",
    "fig_roc.update_layout(width=None)"
   ]
  },
  {
   "cell_type": "markdown",
   "id": "ba8ea396",
   "metadata": {
    "ExecuteTime": {
     "end_time": "2024-06-03T07:21:13.091624Z",
     "start_time": "2024-06-03T07:21:13.072196Z"
    },
    "deletable": false,
    "editable": false,
    "run_control": {
     "frozen": true
    }
   },
   "source": [
    "### Area AUC (Area Under Curve)"
   ]
  },
  {
   "cell_type": "code",
   "execution_count": null,
   "id": "be0096ed",
   "metadata": {
    "ExecuteTime": {
     "end_time": "2024-06-03T23:43:59.936573Z",
     "start_time": "2024-06-03T23:43:59.628441Z"
    },
    "deletable": false,
    "editable": false
   },
   "outputs": [],
   "source": [
    "fig_area_auc = plot_roc_area_curve(lg_model, X_test, y_test, 1)\n",
    "fig_area_auc.update_layout(width=None)"
   ]
  },
  {
   "cell_type": "code",
   "execution_count": null,
   "id": "ffc54062",
   "metadata": {},
   "outputs": [],
   "source": []
  }
 ],
 "metadata": {
  "kernelspec": {
   "display_name": "Python 3 (ipykernel)",
   "language": "python",
   "name": "python3"
  },
  "language_info": {
   "codemirror_mode": {
    "name": "ipython",
    "version": 3
   },
   "file_extension": ".py",
   "mimetype": "text/x-python",
   "name": "python",
   "nbconvert_exporter": "python",
   "pygments_lexer": "ipython3",
   "version": "3.9.12"
  },
  "toc": {
   "base_numbering": 1,
   "nav_menu": {},
   "number_sections": true,
   "sideBar": true,
   "skip_h1_title": false,
   "title_cell": "Table of Contents",
   "title_sidebar": "Contents",
   "toc_cell": false,
   "toc_position": {},
   "toc_section_display": true,
   "toc_window_display": false
  },
  "varInspector": {
   "cols": {
    "lenName": 16,
    "lenType": 16,
    "lenVar": 40
   },
   "kernels_config": {
    "python": {
     "delete_cmd_postfix": "",
     "delete_cmd_prefix": "del ",
     "library": "var_list.py",
     "varRefreshCmd": "print(var_dic_list())"
    },
    "r": {
     "delete_cmd_postfix": ") ",
     "delete_cmd_prefix": "rm(",
     "library": "var_list.r",
     "varRefreshCmd": "cat(var_dic_list()) "
    }
   },
   "types_to_exclude": [
    "module",
    "function",
    "builtin_function_or_method",
    "instance",
    "_Feature"
   ],
   "window_display": false
  }
 },
 "nbformat": 4,
 "nbformat_minor": 5
}

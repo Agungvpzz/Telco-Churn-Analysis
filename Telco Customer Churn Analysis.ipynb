{
 "cells": [
  {
   "cell_type": "markdown",
   "id": "dfae1bfc",
   "metadata": {
    "deletable": false,
    "editable": false,
    "run_control": {
     "frozen": true
    }
   },
   "source": [
    "You can download the dataset with the following link below:\n",
    "- https://www.kaggle.com/datasets/blastchar/telco-customer-churn"
   ]
  },
  {
   "cell_type": "code",
   "execution_count": 1,
   "id": "ba92e9fa",
   "metadata": {
    "ExecuteTime": {
     "end_time": "2024-06-02T17:39:44.020461Z",
     "start_time": "2024-06-02T17:39:44.010935Z"
    },
    "deletable": false,
    "editable": false
   },
   "outputs": [],
   "source": [
    "import warnings\n",
    "warnings.filterwarnings(\"ignore\", category=UserWarning, module=\"pingouin\")\n",
    "warnings.filterwarnings(\"ignore\", category=RuntimeWarning, module=\"scipy\")"
   ]
  },
  {
   "cell_type": "code",
   "execution_count": 2,
   "id": "e12025ef",
   "metadata": {
    "ExecuteTime": {
     "end_time": "2024-06-02T17:39:48.211022Z",
     "start_time": "2024-06-02T17:39:44.667598Z"
    },
    "deletable": false,
    "editable": false
   },
   "outputs": [],
   "source": [
    "import pandas as pd\n",
    "import numpy as np\n",
    "\n",
    "from sklearn.preprocessing import LabelEncoder\n",
    "from sklearn.linear_model import LogisticRegression\n",
    "from sklearn.metrics import confusion_matrix, classification_report\n",
    "from sklearn.model_selection import train_test_split\n",
    "from sklearn.metrics import auc, roc_auc_score, roc_curve\n",
    "\n",
    "import joblib\n",
    "\n",
    "from xgboost import XGBClassifier\n",
    "\n",
    "from scipy import stats\n",
    "import pingouin as pg"
   ]
  },
  {
   "cell_type": "code",
   "execution_count": 11,
   "id": "6f84bef2",
   "metadata": {
    "ExecuteTime": {
     "end_time": "2024-06-02T17:41:38.241522Z",
     "start_time": "2024-06-02T17:41:37.635233Z"
    },
    "deletable": false,
    "editable": false
   },
   "outputs": [],
   "source": [
    "import plotly.express as px\n",
    "import plotly.graph_objects as go\n",
    "from plotly.subplots import make_subplots\n",
    "import plotly.figure_factory as ff"
   ]
  },
  {
   "cell_type": "code",
   "execution_count": null,
   "id": "8f899e33",
   "metadata": {
    "ExecuteTime": {
     "end_time": "2024-06-02T17:25:46.938374Z",
     "start_time": "2024-06-02T17:25:46.932585Z"
    },
    "deletable": false,
    "editable": false
   },
   "outputs": [],
   "source": [
    "pd.options.display.float_format = '{:.4f}'.format"
   ]
  },
  {
   "cell_type": "markdown",
   "id": "0f329fa0",
   "metadata": {
    "ExecuteTime": {
     "end_time": "2024-06-02T17:25:41.706794Z",
     "start_time": "2024-06-02T17:25:41.701488Z"
    },
    "deletable": false,
    "editable": false,
    "run_control": {
     "frozen": true
    }
   },
   "source": [
    "## Data Preparation"
   ]
  },
  {
   "cell_type": "code",
   "execution_count": null,
   "id": "7a51ed24",
   "metadata": {
    "ExecuteTime": {
     "end_time": "2024-06-02T17:31:22.226113Z",
     "start_time": "2024-06-02T17:31:22.177551Z"
    },
    "deletable": false,
    "editable": false
   },
   "outputs": [],
   "source": [
    "df_telco = pd.read_csv(\"F:/Data/datas/WA_Fn-UseC_-Telco-Customer-Churn.csv\", index_col=0)\n",
    "df = df_telco.copy()"
   ]
  },
  {
   "cell_type": "markdown",
   "id": "32090a59",
   "metadata": {
    "ExecuteTime": {
     "end_time": "2024-06-02T17:27:26.577949Z",
     "start_time": "2024-06-02T17:27:26.570953Z"
    },
    "deletable": false,
    "editable": false,
    "run_control": {
     "frozen": true
    }
   },
   "source": [
    "### Data Inspection"
   ]
  },
  {
   "cell_type": "code",
   "execution_count": null,
   "id": "45244996",
   "metadata": {
    "ExecuteTime": {
     "end_time": "2024-06-02T17:25:56.477006Z",
     "start_time": "2024-06-02T17:25:56.435228Z"
    },
    "deletable": false,
    "editable": false
   },
   "outputs": [],
   "source": [
    "df.head()"
   ]
  },
  {
   "cell_type": "code",
   "execution_count": null,
   "id": "4f55c93f",
   "metadata": {
    "ExecuteTime": {
     "end_time": "2024-06-02T17:27:39.056992Z",
     "start_time": "2024-06-02T17:27:39.029355Z"
    },
    "deletable": false,
    "editable": false
   },
   "outputs": [],
   "source": [
    "df.info()"
   ]
  },
  {
   "cell_type": "code",
   "execution_count": null,
   "id": "668ee839",
   "metadata": {
    "ExecuteTime": {
     "end_time": "2024-06-02T17:26:34.701361Z",
     "start_time": "2024-06-02T17:26:34.639180Z"
    },
    "deletable": false,
    "editable": false
   },
   "outputs": [],
   "source": [
    "df.describe(include='object')"
   ]
  },
  {
   "cell_type": "markdown",
   "id": "a2d426d4",
   "metadata": {
    "ExecuteTime": {
     "end_time": "2024-06-02T17:28:55.092468Z",
     "start_time": "2024-06-02T17:28:55.083502Z"
    },
    "deletable": false,
    "editable": false,
    "run_control": {
     "frozen": true
    }
   },
   "source": [
    "### Mapping Values"
   ]
  },
  {
   "cell_type": "code",
   "execution_count": null,
   "id": "ebedb9f7",
   "metadata": {
    "ExecuteTime": {
     "end_time": "2024-06-02T17:25:53.572330Z",
     "start_time": "2024-06-02T17:25:53.563632Z"
    },
    "deletable": false,
    "editable": false
   },
   "outputs": [],
   "source": [
    "df['Churn'] = df['Churn'].map({'Yes':1, 'No':0})"
   ]
  },
  {
   "cell_type": "code",
   "execution_count": null,
   "id": "9f932715",
   "metadata": {
    "deletable": false,
    "editable": false
   },
   "outputs": [],
   "source": [
    "df.head()"
   ]
  },
  {
   "cell_type": "markdown",
   "id": "18da71dd",
   "metadata": {
    "ExecuteTime": {
     "end_time": "2024-06-02T17:27:19.432972Z",
     "start_time": "2024-06-02T17:27:19.424337Z"
    },
    "deletable": false,
    "editable": false,
    "run_control": {
     "frozen": true
    }
   },
   "source": [
    "### Drop Missing Values"
   ]
  },
  {
   "cell_type": "code",
   "execution_count": null,
   "id": "4f344560",
   "metadata": {
    "ExecuteTime": {
     "end_time": "2024-06-02T17:27:33.056124Z",
     "start_time": "2024-06-02T17:27:33.017653Z"
    },
    "deletable": false,
    "editable": false
   },
   "outputs": [],
   "source": [
    "df.isna().sum()"
   ]
  },
  {
   "cell_type": "markdown",
   "id": "659a7239",
   "metadata": {
    "deletable": false,
    "editable": false,
    "run_control": {
     "frozen": true
    }
   },
   "source": [
    "Since the data type of \"TotalCharges\" is an object, indicating there is a row with a non-number value, we should coerce the datatype to be numeric."
   ]
  },
  {
   "cell_type": "code",
   "execution_count": null,
   "id": "d9787bd3",
   "metadata": {
    "ExecuteTime": {
     "end_time": "2024-06-02T17:29:39.944912Z",
     "start_time": "2024-06-02T17:29:39.925469Z"
    },
    "deletable": false,
    "editable": false,
    "scrolled": true
   },
   "outputs": [],
   "source": [
    "df['TotalCharges'] = pd.to_numeric(df['TotalCharges'], errors='coerce')\n",
    "print(df['TotalCharges'].isna().sum())\n",
    "df['TotalCharges'] = df['TotalCharges'].fillna(df['TotalCharges'].median())\n",
    "print(df['TotalCharges'].isna().sum())"
   ]
  },
  {
   "cell_type": "markdown",
   "id": "9e2f6ddb",
   "metadata": {
    "ExecuteTime": {
     "end_time": "2024-06-02T17:36:24.196256Z",
     "start_time": "2024-06-02T17:36:24.184289Z"
    },
    "deletable": false,
    "editable": false,
    "run_control": {
     "frozen": true
    }
   },
   "source": [
    "## EDA"
   ]
  },
  {
   "cell_type": "markdown",
   "id": "fddccfc4",
   "metadata": {
    "ExecuteTime": {
     "end_time": "2024-06-02T17:36:30.671079Z",
     "start_time": "2024-06-02T17:36:30.650289Z"
    },
    "deletable": false,
    "editable": false,
    "run_control": {
     "frozen": true
    }
   },
   "source": [
    " ### Features Correlation to Target Variable"
   ]
  },
  {
   "cell_type": "code",
   "execution_count": null,
   "id": "83e12b61",
   "metadata": {
    "ExecuteTime": {
     "start_time": "2024-06-02T17:36:40.683Z"
    },
    "deletable": false,
    "editable": false
   },
   "outputs": [],
   "source": [
    "df_corr = pd.get_dummies(df, prefix_sep=' | ').corr()['Churn'].sort_values()"
   ]
  },
  {
   "cell_type": "code",
   "execution_count": null,
   "id": "6c614217",
   "metadata": {
    "ExecuteTime": {
     "start_time": "2024-06-02T17:36:41.302Z"
    },
    "deletable": false,
    "editable": false
   },
   "outputs": [],
   "source": [
    "df_corr = df_corr.drop('Churn').reset_index()\n",
    "df_corr = df_corr.round(3)\n",
    "df_corr['variable'] = df_corr['index'].map(lambda x: x.split(' | ')[0])"
   ]
  },
  {
   "cell_type": "code",
   "execution_count": null,
   "id": "ae711971",
   "metadata": {
    "deletable": false,
    "editable": false
   },
   "outputs": [],
   "source": [
    "px.bar(df_corr, x='index', y='Churn', color='variable', template='plotly_white', text_auto=True)"
   ]
  }
 ],
 "metadata": {
  "kernelspec": {
   "display_name": "Python 3 (ipykernel)",
   "language": "python",
   "name": "python3"
  },
  "language_info": {
   "codemirror_mode": {
    "name": "ipython",
    "version": 3
   },
   "file_extension": ".py",
   "mimetype": "text/x-python",
   "name": "python",
   "nbconvert_exporter": "python",
   "pygments_lexer": "ipython3",
   "version": "3.9.12"
  },
  "toc": {
   "base_numbering": 1,
   "nav_menu": {},
   "number_sections": true,
   "sideBar": true,
   "skip_h1_title": false,
   "title_cell": "Table of Contents",
   "title_sidebar": "Contents",
   "toc_cell": false,
   "toc_position": {},
   "toc_section_display": true,
   "toc_window_display": false
  },
  "varInspector": {
   "cols": {
    "lenName": 16,
    "lenType": 16,
    "lenVar": 40
   },
   "kernels_config": {
    "python": {
     "delete_cmd_postfix": "",
     "delete_cmd_prefix": "del ",
     "library": "var_list.py",
     "varRefreshCmd": "print(var_dic_list())"
    },
    "r": {
     "delete_cmd_postfix": ") ",
     "delete_cmd_prefix": "rm(",
     "library": "var_list.r",
     "varRefreshCmd": "cat(var_dic_list()) "
    }
   },
   "types_to_exclude": [
    "module",
    "function",
    "builtin_function_or_method",
    "instance",
    "_Feature"
   ],
   "window_display": false
  }
 },
 "nbformat": 4,
 "nbformat_minor": 5
}
